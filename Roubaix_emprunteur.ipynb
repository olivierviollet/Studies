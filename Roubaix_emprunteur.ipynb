{
 "cells": [
  {
   "cell_type": "markdown",
   "metadata": {},
   "source": [
    "# Prédire si un adhérent d'une médiathèque sera emprunteur ou non de document\n",
    "\n",
    "Olivier Viollet, avril 2019, olivier.viollet[a]gmail.com\n",
    "\n",
    "## Résumé\n",
    "\n",
    "Cette étude crée des modèles afin de prédire si un adhérent d'une médiathèque publique empruntera, ou non, au moins un document durant l'année : les prédictions sont justes dans environ 70 % des cas. \n",
    "\n",
    "Plan :\n",
    "\n",
    "1. Objectif et données\n",
    "2. Exploration et transformation des données\n",
    "3. Modéliser l'usage de la médiathèque\n",
    "4. Evaluer les modèles\n",
    "\n",
    "## 1. Objectif et données\n",
    "\n",
    "L'objectif de cette étude est de concevoir des modèles d'apprentissage des données capables de prédire si un usager d'une médiathèque publique empruntera, ou non, au moins un document durant l'année à venir, à partir des caractéristiques de cet usager. Un tel modèle pourrait s'avérer utile à la médiathèque, en particulier pour cibler des actions d'encouragement en direction des publics qui n'empruntent pas de document.\n",
    "\n",
    "Les données mobilisées ici proviennent de la Médiathèque La Grand Plage, à Roubaix, et concernent l'année **2017**, dans leur état au 15 avril 2019. Elles ont été mises à disposition par la mairie sur le site d'ouverture des données publiques françaises : https://www.data.gouv.fr/fr/datasets/caracteristiques-des-adherents-de-la-mediatheque-la-grand-plage-a-roubaix/\n",
    "\n",
    "**15 112 adhérents** sont identifiés. En l'absence d'un dictionnaire des variables, certaines sont d'interprétation difficile. La variable cible est **\"activite_emprunteur\"**, qui distingue les adhérents de la médiathèque selon qu'ils ont emprunté ou non un document. Pour la prédire, seront utilisées les **variables explicatives** suivantes :\n",
    "\n",
    "- la tranche d'âge de l'emprunteur ;\n",
    "- son genre ;\n",
    "- s'il est roubaisien ou non ;\n",
    "- le nom de l'IRIS (localisation géographique) à Roubaix ; \n",
    "- sa commune de résidence ;\n",
    "- des informations concernant le moment de son inscription et sa carte ;\n",
    "- le nombre d'années d'adhésion ;\n",
    "- le type d'inscription (gratuite ou payante).\n",
    "\n",
    "Le jeu de données contient des **données manquantes** pour plusieurs variables explicatives."
   ]
  },
  {
   "cell_type": "code",
   "execution_count": 2,
   "metadata": {},
   "outputs": [],
   "source": [
    "import pandas as pd\n",
    "import numpy as np\n",
    "import matplotlib.pyplot as plt\n",
    "%matplotlib inline\n",
    "import seaborn as sns\n",
    "\n",
    "import warnings\n",
    "warnings.filterwarnings('ignore')\n",
    "\n",
    "from sklearn.model_selection import train_test_split\n",
    "from sklearn.preprocessing import MinMaxScaler\n",
    "from imblearn.over_sampling import SMOTE\n",
    "\n",
    "from sklearn.linear_model import LogisticRegression\n",
    "from sklearn.model_selection import GridSearchCV\n",
    "from sklearn.ensemble import RandomForestClassifier\n",
    "from sklearn import svm\n",
    "\n",
    "import xgboost as xgb\n",
    "from xgboost import XGBClassifier, plot_importance\n",
    "\n",
    "from keras.models import Sequential\n",
    "from keras.layers import Dense, Dropout, Activation\n",
    "from keras.utils import np_utils, to_categorical\n",
    "from keras import regularizers\n",
    "from keras import backend as K\n",
    "\n",
    "from sklearn import metrics\n",
    "\n",
    "# fonction de recodage\n",
    "def coding(col, codeDict):\n",
    "    colCoded = pd.Series(col, copy=True)\n",
    "    for key, value in codeDict.items():\n",
    "        colCoded.replace(key, value, inplace=True)\n",
    "    return colCoded"
   ]
  },
  {
   "cell_type": "code",
   "execution_count": 3,
   "metadata": {},
   "outputs": [
    {
     "name": "stdout",
     "output_type": "stream",
     "text": [
      "<class 'pandas.core.frame.DataFrame'>\n",
      "RangeIndex: 15112 entries, 0 to 15111\n",
      "Data columns (total 11 columns):\n",
      "activite_emprunteur            15112 non-null object\n",
      "Tranches d'âge (2)             14848 non-null object\n",
      "Roubaisien ou non              15112 non-null object\n",
      "Nom de l'IRIS à Roubaix        10589 non-null object\n",
      "Commune de résidence           15112 non-null object\n",
      "inscription_attribut_action    1322 non-null object\n",
      "inscription_attribut_zebre     784 non-null object\n",
      "inscription_type_carte         15112 non-null object\n",
      "nombre d'années d'adhésion     15111 non-null float64\n",
      "type_inscription               15112 non-null object\n",
      "sexe                           15112 non-null object\n",
      "dtypes: float64(1), object(10)\n",
      "memory usage: 1.3+ MB\n"
     ]
    },
    {
     "data": {
      "text/html": [
       "<div>\n",
       "<style scoped>\n",
       "    .dataframe tbody tr th:only-of-type {\n",
       "        vertical-align: middle;\n",
       "    }\n",
       "\n",
       "    .dataframe tbody tr th {\n",
       "        vertical-align: top;\n",
       "    }\n",
       "\n",
       "    .dataframe thead th {\n",
       "        text-align: right;\n",
       "    }\n",
       "</style>\n",
       "<table border=\"1\" class=\"dataframe\">\n",
       "  <thead>\n",
       "    <tr style=\"text-align: right;\">\n",
       "      <th></th>\n",
       "      <th>activite_emprunteur</th>\n",
       "      <th>Tranches d'âge (2)</th>\n",
       "      <th>Roubaisien ou non</th>\n",
       "      <th>Nom de l'IRIS à Roubaix</th>\n",
       "      <th>Commune de résidence</th>\n",
       "      <th>inscription_attribut_action</th>\n",
       "      <th>inscription_attribut_zebre</th>\n",
       "      <th>inscription_type_carte</th>\n",
       "      <th>nombre d'années d'adhésion</th>\n",
       "      <th>type_inscription</th>\n",
       "      <th>sexe</th>\n",
       "    </tr>\n",
       "  </thead>\n",
       "  <tbody>\n",
       "    <tr>\n",
       "      <th>0</th>\n",
       "      <td>Emprunteur</td>\n",
       "      <td>11 - 14 ans</td>\n",
       "      <td>Roubaisien</td>\n",
       "      <td>HOMMELET CENTRE</td>\n",
       "      <td>ROUBAIX</td>\n",
       "      <td>Action éducative</td>\n",
       "      <td>Arrêt Bus Place la de la Nation</td>\n",
       "      <td>Médiathèque</td>\n",
       "      <td>3.0</td>\n",
       "      <td>gratuite</td>\n",
       "      <td>Femme</td>\n",
       "    </tr>\n",
       "    <tr>\n",
       "      <th>1</th>\n",
       "      <td>Emprunteur</td>\n",
       "      <td>15 - 17 ans</td>\n",
       "      <td>Roubaisien</td>\n",
       "      <td>HOMMELET CENTRE</td>\n",
       "      <td>ROUBAIX</td>\n",
       "      <td>Action éducative</td>\n",
       "      <td>NaN</td>\n",
       "      <td>Médiathèque</td>\n",
       "      <td>3.0</td>\n",
       "      <td>gratuite</td>\n",
       "      <td>Femme</td>\n",
       "    </tr>\n",
       "    <tr>\n",
       "      <th>2</th>\n",
       "      <td>Emprunteur</td>\n",
       "      <td>15 - 17 ans</td>\n",
       "      <td>Roubaisien</td>\n",
       "      <td>NOUVEAU ROUBAIX</td>\n",
       "      <td>ROUBAIX</td>\n",
       "      <td>Action éducative</td>\n",
       "      <td>Arrêt Bus Boulevard de Fourmies</td>\n",
       "      <td>Médiathèque</td>\n",
       "      <td>1.0</td>\n",
       "      <td>gratuite</td>\n",
       "      <td>Femme</td>\n",
       "    </tr>\n",
       "    <tr>\n",
       "      <th>3</th>\n",
       "      <td>Emprunteur</td>\n",
       "      <td>25 - 29 ans</td>\n",
       "      <td>Non Roubaisien</td>\n",
       "      <td>NaN</td>\n",
       "      <td>CROIX</td>\n",
       "      <td>Action éducative</td>\n",
       "      <td>NaN</td>\n",
       "      <td>Médiathèque</td>\n",
       "      <td>12.0</td>\n",
       "      <td>gratuite</td>\n",
       "      <td>Femme</td>\n",
       "    </tr>\n",
       "    <tr>\n",
       "      <th>4</th>\n",
       "      <td>Emprunteur</td>\n",
       "      <td>11 - 14 ans</td>\n",
       "      <td>Roubaisien</td>\n",
       "      <td>PILE CENTRE</td>\n",
       "      <td>ROUBAIX</td>\n",
       "      <td>Action éducative</td>\n",
       "      <td>NaN</td>\n",
       "      <td>Médiathèque Plus</td>\n",
       "      <td>2.0</td>\n",
       "      <td>payante</td>\n",
       "      <td>Homme</td>\n",
       "    </tr>\n",
       "    <tr>\n",
       "      <th>5</th>\n",
       "      <td>Emprunteur</td>\n",
       "      <td>11 - 14 ans</td>\n",
       "      <td>Roubaisien</td>\n",
       "      <td>CUL DE FOUR</td>\n",
       "      <td>ROUBAIX</td>\n",
       "      <td>Action éducative</td>\n",
       "      <td>NaN</td>\n",
       "      <td>Médiathèque</td>\n",
       "      <td>0.0</td>\n",
       "      <td>gratuite</td>\n",
       "      <td>Femme</td>\n",
       "    </tr>\n",
       "    <tr>\n",
       "      <th>6</th>\n",
       "      <td>Emprunteur</td>\n",
       "      <td>11 - 14 ans</td>\n",
       "      <td>Roubaisien</td>\n",
       "      <td>ALMA SUD</td>\n",
       "      <td>ROUBAIX</td>\n",
       "      <td>Action éducative</td>\n",
       "      <td>NaN</td>\n",
       "      <td>Médiathèque</td>\n",
       "      <td>0.0</td>\n",
       "      <td>gratuite</td>\n",
       "      <td>Homme</td>\n",
       "    </tr>\n",
       "    <tr>\n",
       "      <th>7</th>\n",
       "      <td>Emprunteur</td>\n",
       "      <td>11 - 14 ans</td>\n",
       "      <td>Roubaisien</td>\n",
       "      <td>JUSTICE</td>\n",
       "      <td>ROUBAIX</td>\n",
       "      <td>Action éducative</td>\n",
       "      <td>NaN</td>\n",
       "      <td>Médiathèque</td>\n",
       "      <td>3.0</td>\n",
       "      <td>gratuite</td>\n",
       "      <td>Homme</td>\n",
       "    </tr>\n",
       "    <tr>\n",
       "      <th>8</th>\n",
       "      <td>Non emprunteur</td>\n",
       "      <td>15 - 17 ans</td>\n",
       "      <td>Non Roubaisien</td>\n",
       "      <td>NaN</td>\n",
       "      <td>CROIX</td>\n",
       "      <td>Action éducative</td>\n",
       "      <td>NaN</td>\n",
       "      <td>Médiathèque</td>\n",
       "      <td>0.0</td>\n",
       "      <td>gratuite</td>\n",
       "      <td>Homme</td>\n",
       "    </tr>\n",
       "    <tr>\n",
       "      <th>9</th>\n",
       "      <td>Non emprunteur</td>\n",
       "      <td>11 - 14 ans</td>\n",
       "      <td>Non Roubaisien</td>\n",
       "      <td>NaN</td>\n",
       "      <td>CROIX</td>\n",
       "      <td>Action éducative</td>\n",
       "      <td>NaN</td>\n",
       "      <td>Médiathèque</td>\n",
       "      <td>2.0</td>\n",
       "      <td>gratuite</td>\n",
       "      <td>Femme</td>\n",
       "    </tr>\n",
       "  </tbody>\n",
       "</table>\n",
       "</div>"
      ],
      "text/plain": [
       "  activite_emprunteur Tranches d'âge (2) Roubaisien ou non  \\\n",
       "0          Emprunteur        11 - 14 ans        Roubaisien   \n",
       "1          Emprunteur        15 - 17 ans        Roubaisien   \n",
       "2          Emprunteur        15 - 17 ans        Roubaisien   \n",
       "3          Emprunteur        25 - 29 ans    Non Roubaisien   \n",
       "4          Emprunteur        11 - 14 ans        Roubaisien   \n",
       "5          Emprunteur        11 - 14 ans        Roubaisien   \n",
       "6          Emprunteur        11 - 14 ans        Roubaisien   \n",
       "7          Emprunteur        11 - 14 ans        Roubaisien   \n",
       "8      Non emprunteur        15 - 17 ans    Non Roubaisien   \n",
       "9      Non emprunteur        11 - 14 ans    Non Roubaisien   \n",
       "\n",
       "  Nom de l'IRIS à Roubaix Commune de résidence inscription_attribut_action  \\\n",
       "0         HOMMELET CENTRE              ROUBAIX            Action éducative   \n",
       "1         HOMMELET CENTRE              ROUBAIX            Action éducative   \n",
       "2         NOUVEAU ROUBAIX              ROUBAIX            Action éducative   \n",
       "3                     NaN                CROIX            Action éducative   \n",
       "4             PILE CENTRE              ROUBAIX            Action éducative   \n",
       "5             CUL DE FOUR              ROUBAIX            Action éducative   \n",
       "6                ALMA SUD              ROUBAIX            Action éducative   \n",
       "7                 JUSTICE              ROUBAIX            Action éducative   \n",
       "8                     NaN                CROIX            Action éducative   \n",
       "9                     NaN                CROIX            Action éducative   \n",
       "\n",
       "        inscription_attribut_zebre inscription_type_carte  \\\n",
       "0  Arrêt Bus Place la de la Nation            Médiathèque   \n",
       "1                              NaN            Médiathèque   \n",
       "2  Arrêt Bus Boulevard de Fourmies            Médiathèque   \n",
       "3                              NaN            Médiathèque   \n",
       "4                              NaN       Médiathèque Plus   \n",
       "5                              NaN            Médiathèque   \n",
       "6                              NaN            Médiathèque   \n",
       "7                              NaN            Médiathèque   \n",
       "8                              NaN            Médiathèque   \n",
       "9                              NaN            Médiathèque   \n",
       "\n",
       "   nombre d'années d'adhésion type_inscription   sexe  \n",
       "0                         3.0         gratuite  Femme  \n",
       "1                         3.0         gratuite  Femme  \n",
       "2                         1.0         gratuite  Femme  \n",
       "3                        12.0         gratuite  Femme  \n",
       "4                         2.0          payante  Homme  \n",
       "5                         0.0         gratuite  Femme  \n",
       "6                         0.0         gratuite  Homme  \n",
       "7                         3.0         gratuite  Homme  \n",
       "8                         0.0         gratuite  Homme  \n",
       "9                         2.0         gratuite  Femme  "
      ]
     },
     "execution_count": 3,
     "metadata": {},
     "output_type": "execute_result"
    }
   ],
   "source": [
    "roubaix = pd.read_csv('caracteristiques-des-adherents-de-la-mediatheque-la-grand-plage-a-roubaix.csv',\n",
    "                     encoding = 'utf-8', sep = ';', usecols = [2,9,10,12,13,14,15,16,17,18,26])\n",
    "roubaix.info()\n",
    "roubaix.head(10)"
   ]
  },
  {
   "cell_type": "markdown",
   "metadata": {},
   "source": [
    "## 2. Exploration et transformation des données\n",
    "\n",
    "### Variable cible : emprunteurs et non-emprunteurs\n",
    "\n",
    "Environ deux adhérents sur trois de la médiathèque ont emprunté en 2017. Ce déséquilibre nous conduira ultérieurement à transformer dans l'ensemble le jeu de données (cf. *partie 3. Modéliser l'usage de la médiathèque*)."
   ]
  },
  {
   "cell_type": "code",
   "execution_count": 4,
   "metadata": {},
   "outputs": [
    {
     "data": {
      "text/plain": [
       "<seaborn.axisgrid.FacetGrid at 0x27db53aeb00>"
      ]
     },
     "execution_count": 4,
     "metadata": {},
     "output_type": "execute_result"
    },
    {
     "data": {
      "image/png": "[encoded data removed]",
      "text/plain": [
       "<Figure size 360x360 with 1 Axes>"
      ]
     },
     "metadata": {
      "needs_background": "light"
     },
     "output_type": "display_data"
    }
   ],
   "source": [
    "sns.catplot(x = 'activite_emprunteur', kind = 'count', data = roubaix)"
   ]
  },
  {
   "cell_type": "markdown",
   "metadata": {},
   "source": [
    "### Variables explicatives :\n",
    "\n",
    "### Tranche d'âge \n",
    "\n",
    "Pour les quelques valeurs manquantes est imputée la valeur \"non disponible\". Dans la plupart des tranches d'âge se retrouve la proportion entre deux tiers d'emprunteurs et un tiers de non emprunteurs, à quelques exceptions près, en particulier chez les 18-24 ans qui sont presqu'autant à emprunter qu'à ne pas emprunter, tandis que la grande majorité des 6-10 ans ou des 65 ans et plus n'emprunte pas de document. "
   ]
  },
  {
   "cell_type": "code",
   "execution_count": 5,
   "metadata": {},
   "outputs": [
    {
     "data": {
      "text/plain": [
       "<seaborn.axisgrid.FacetGrid at 0x27dbaa4ef28>"
      ]
     },
     "execution_count": 5,
     "metadata": {},
     "output_type": "execute_result"
    },
    {
     "data": {
      "image/png": "[encoded data removed]",
      "text/plain": [
       "<Figure size 478.375x360 with 1 Axes>"
      ]
     },
     "metadata": {
      "needs_background": "light"
     },
     "output_type": "display_data"
    }
   ],
   "source": [
    "roubaix['Tranches d\\'âge (2)'].fillna('nd', inplace = True)\n",
    "sns.catplot(x = 'Tranches d\\'âge (2)', hue = 'activite_emprunteur', \n",
    "            kind = 'count', data = roubaix).set_xticklabels(rotation=90)"
   ]
  },
  {
   "cell_type": "markdown",
   "metadata": {},
   "source": [
    "### Roubaisiens et non-roubaisiens\n",
    "\n",
    "On retrouve tant chez les roubaisiens que chez les non-roubaisiens la proportion entre deux tiers d'emprunteurs et un tiers de non-emprunteurs."
   ]
  },
  {
   "cell_type": "code",
   "execution_count": 6,
   "metadata": {},
   "outputs": [
    {
     "data": {
      "text/plain": [
       "<seaborn.axisgrid.FacetGrid at 0x27dbaa937f0>"
      ]
     },
     "execution_count": 6,
     "metadata": {},
     "output_type": "execute_result"
    },
    {
     "data": {
      "image/png": "[encoded data removed]",
      "text/plain": [
       "<Figure size 478.375x360 with 1 Axes>"
      ]
     },
     "metadata": {
      "needs_background": "light"
     },
     "output_type": "display_data"
    }
   ],
   "source": [
    "sns.catplot(x = 'Roubaisien ou non', hue = 'activite_emprunteur', kind = 'count', data = roubaix)"
   ]
  },
  {
   "cell_type": "markdown",
   "metadata": {},
   "source": [
    "### Nom de l'IRIS à Roubaix\n",
    "\n",
    "L'IRIS désigne portion géographique du territoire national découpée par l'INSEE à des fins démographiques. Hormis quelques exceptions, on retrouve la proportion entre deux tiers d'emprunteurs et un tiers de non-emprunteurs dans la plupart des IRIS."
   ]
  },
  {
   "cell_type": "code",
   "execution_count": 7,
   "metadata": {},
   "outputs": [
    {
     "data": {
      "text/plain": [
       "<seaborn.axisgrid.FacetGrid at 0x27dbaa59ba8>"
      ]
     },
     "execution_count": 7,
     "metadata": {},
     "output_type": "execute_result"
    },
    {
     "data": {
      "image/png": "[encoded data removed]",
      "text/plain": [
       "<Figure size 478.375x360 with 1 Axes>"
      ]
     },
     "metadata": {
      "needs_background": "light"
     },
     "output_type": "display_data"
    }
   ],
   "source": [
    "roubaix['Nom de l\\'IRIS à Roubaix'].fillna('nd', inplace = True)\n",
    "sns.catplot(x = 'Nom de l\\'IRIS à Roubaix', hue = 'activite_emprunteur', \n",
    "            kind = 'count', data = roubaix).set_xticklabels(rotation=90)"
   ]
  },
  {
   "cell_type": "markdown",
   "metadata": {},
   "source": [
    "### Commune de résidence\n",
    "\n",
    "Les adhérents de la médiathèque proviennent pour une large majorité de Roubaix, commune dans laquelle apparait la proportion entre deux tiers d'emprunteurs et un tiers de non-emprunteurs. En revanche, la plupart des autres communes présentent des proportions légèrement différentes."
   ]
  },
  {
   "cell_type": "code",
   "execution_count": 8,
   "metadata": {},
   "outputs": [
    {
     "data": {
      "text/plain": [
       "<seaborn.axisgrid.FacetGrid at 0x27dbaa9db38>"
      ]
     },
     "execution_count": 8,
     "metadata": {},
     "output_type": "execute_result"
    },
    {
     "data": {
      "image/png": "[encoded data removed]",
      "text/plain": [
       "<Figure size 478.375x360 with 1 Axes>"
      ]
     },
     "metadata": {
      "needs_background": "light"
     },
     "output_type": "display_data"
    }
   ],
   "source": [
    "sns.catplot(x = 'Commune de résidence', hue = 'activite_emprunteur', \n",
    "            kind = 'count', data = roubaix).set_xticklabels(rotation=90)"
   ]
  },
  {
   "cell_type": "markdown",
   "metadata": {},
   "source": [
    "### Insription_attribut_action\n",
    "\n",
    "La signification de la variable est peu explicite. Il semblerait qu'elle indique si une occasion particulière - action éducative ou visite de classe - a entrainé l'adhésion à la médiathèque. La valeur est manquante pour la majorité des observations, nous conduisant à leur imputer la valeur \"non disponible\". La proportion de non emprunteurs est proche voire identique à celle des emprunteurs pour les adhérents inscrits lors d'une occasion particulière."
   ]
  },
  {
   "cell_type": "code",
   "execution_count": 9,
   "metadata": {},
   "outputs": [
    {
     "data": {
      "text/plain": [
       "<seaborn.axisgrid.FacetGrid at 0x27dbac19048>"
      ]
     },
     "execution_count": 9,
     "metadata": {},
     "output_type": "execute_result"
    },
    {
     "data": {
      "image/png": "[encoded data removed]",
      "text/plain": [
       "<Figure size 478.375x360 with 1 Axes>"
      ]
     },
     "metadata": {
      "needs_background": "light"
     },
     "output_type": "display_data"
    }
   ],
   "source": [
    "roubaix.inscription_attribut_action.fillna('nd', inplace = True)\n",
    "sns.catplot(x = 'inscription_attribut_action', hue = 'activite_emprunteur', \n",
    "            kind = 'count', data = roubaix)"
   ]
  },
  {
   "cell_type": "markdown",
   "metadata": {},
   "source": [
    "### Inscription_attribut_zebre\n",
    "\n",
    "La signification de cette variable est également peu explicite. \"Zèbre\" désigne le nom donné au bibliobus de la médiathèque, en raison de son apparence physique. Les valeurs possibles sont les noms des arrêts du bibliobus. La valeur est manquante pour une grande majorité d'observations, pour laquelle on impute la valeur \"non disponible\". Le grand nombre d'arrêts nous conduit à les fusionner dans une même modalité \"Arrêt\". Il apparait dès lors que la quasi totalité des adhérents associés à un arrêt sont des emprunteurs."
   ]
  },
  {
   "cell_type": "code",
   "execution_count": 10,
   "metadata": {},
   "outputs": [
    {
     "data": {
      "text/plain": [
       "<seaborn.axisgrid.FacetGrid at 0x27db3b8ab70>"
      ]
     },
     "execution_count": 10,
     "metadata": {},
     "output_type": "execute_result"
    },
    {
     "data": {
      "image/png": "[encoded data removed]",
      "text/plain": [
       "<Figure size 478.375x360 with 1 Axes>"
      ]
     },
     "metadata": {
      "needs_background": "light"
     },
     "output_type": "display_data"
    }
   ],
   "source": [
    "roubaix.inscription_attribut_zebre.fillna('nd', inplace = True)\n",
    "series = pd.value_counts(roubaix.inscription_attribut_zebre)\n",
    "mask = (series/series.sum() * 100).lt(1)  \n",
    "roubaix['inscription_attribut_zebre'] = np.where(roubaix['inscription_attribut_zebre'].isin(series[mask].index),'Arret',\n",
    "                                                 roubaix['inscription_attribut_zebre'])\n",
    "sns.catplot(x = 'inscription_attribut_zebre', hue = 'activite_emprunteur', \n",
    "            kind = 'count', data = roubaix)"
   ]
  },
  {
   "cell_type": "markdown",
   "metadata": {},
   "source": [
    "### Inscription_type_carte\n",
    "\n",
    "La variable nous renseigne sur le type de carte de l'adhérent. Pour toutes les cartes autres que la carte \"Médiathèque\" seule, les proportions d'emprunteurs et de non emprunteurs sont très différentes de la proportion entre deux tiers d'emprunteurs et un tiers de non-emprunteurs observée sur l'ensemble des adhérents."
   ]
  },
  {
   "cell_type": "code",
   "execution_count": 11,
   "metadata": {},
   "outputs": [
    {
     "data": {
      "text/plain": [
       "<seaborn.axisgrid.FacetGrid at 0x27dbadfac50>"
      ]
     },
     "execution_count": 11,
     "metadata": {},
     "output_type": "execute_result"
    },
    {
     "data": {
      "image/png": "[encoded data removed]",
      "text/plain": [
       "<Figure size 478.375x360 with 1 Axes>"
      ]
     },
     "metadata": {
      "needs_background": "light"
     },
     "output_type": "display_data"
    }
   ],
   "source": [
    "sns.catplot(x = 'inscription_type_carte', hue = 'activite_emprunteur', \n",
    "            kind = 'count', data = roubaix).set_xticklabels(rotation=90)"
   ]
  },
  {
   "cell_type": "markdown",
   "metadata": {},
   "source": [
    "### Nombre d'années d'adhésion\n",
    "\n",
    "La variable indique depuis combien d'années l'usager est adhérent de la médiathèque. La médiane (1 an) est imputée pour l'unique valeur manquante. Les adhérents plus anciens ont davantage tendance à emprunter des documents que les adhérents plus récents, sauf exceptions. "
   ]
  },
  {
   "cell_type": "code",
   "execution_count": 12,
   "metadata": {},
   "outputs": [
    {
     "name": "stderr",
     "output_type": "stream",
     "text": [
      "'c' argument looks like a single numeric RGB or RGBA sequence, which should be avoided as value-mapping will have precedence in case its length matches with 'x' & 'y'.  Please use a 2-D array with a single row if you really want to specify the same RGB or RGBA value for all points.\n",
      "'c' argument looks like a single numeric RGB or RGBA sequence, which should be avoided as value-mapping will have precedence in case its length matches with 'x' & 'y'.  Please use a 2-D array with a single row if you really want to specify the same RGB or RGBA value for all points.\n"
     ]
    },
    {
     "name": "stdout",
     "output_type": "stream",
     "text": [
      "count    15111.000000\n",
      "mean         2.824168\n",
      "std          3.822361\n",
      "min          0.000000\n",
      "25%          0.000000\n",
      "50%          1.000000\n",
      "75%          4.000000\n",
      "max         12.000000\n",
      "Name: nombre d'années d'adhésion, dtype: float64\n"
     ]
    },
    {
     "data": {
      "text/plain": [
       "<seaborn.axisgrid.FacetGrid at 0x27dbb0a5ac8>"
      ]
     },
     "execution_count": 12,
     "metadata": {},
     "output_type": "execute_result"
    },
    {
     "data": {
      "image/png": "[encoded data removed]",
      "text/plain": [
       "<Figure size 360x360 with 1 Axes>"
      ]
     },
     "metadata": {
      "needs_background": "light"
     },
     "output_type": "display_data"
    }
   ],
   "source": [
    "print(roubaix['nombre d\\'années d\\'adhésion'].describe())\n",
    "roubaix['nombre d\\'années d\\'adhésion'].fillna(1.0, inplace = True) # imputer la médiane\n",
    "sns.catplot(x = 'nombre d\\'années d\\'adhésion', y ='activite_emprunteur', kind = 'boxen', data = roubaix)"
   ]
  },
  {
   "cell_type": "markdown",
   "metadata": {},
   "source": [
    "### Type d'inscription\n",
    "\n",
    "Cette variable renseigne le type, gratuit ou payante, de l'inscription. Les inscrits payants, très minoritaires, ont presque tous emprunté en 2017. "
   ]
  },
  {
   "cell_type": "code",
   "execution_count": 13,
   "metadata": {},
   "outputs": [
    {
     "data": {
      "text/plain": [
       "<seaborn.axisgrid.FacetGrid at 0x27dbaf72c88>"
      ]
     },
     "execution_count": 13,
     "metadata": {},
     "output_type": "execute_result"
    },
    {
     "data": {
      "image/png": "[encoded data removed]",
      "text/plain": [
       "<Figure size 478.375x360 with 1 Axes>"
      ]
     },
     "metadata": {
      "needs_background": "light"
     },
     "output_type": "display_data"
    }
   ],
   "source": [
    "sns.catplot(x = 'type_inscription', hue = 'activite_emprunteur', \n",
    "            kind = 'count', data = roubaix).set_xticklabels(rotation=90)"
   ]
  },
  {
   "cell_type": "markdown",
   "metadata": {},
   "source": [
    "### Genre\n",
    "\n",
    "La valeur \"autre\" est imputée à la place de valeurs non explicites du jeu de données : \"NP\" et \"NC\". Les femmes adhérentes de la médiathèque apparaissent davantage que les hommes dans la catégorie des emprunteurs de document. "
   ]
  },
  {
   "cell_type": "code",
   "execution_count": 14,
   "metadata": {},
   "outputs": [
    {
     "data": {
      "text/plain": [
       "<seaborn.axisgrid.FacetGrid at 0x27dbb037550>"
      ]
     },
     "execution_count": 14,
     "metadata": {},
     "output_type": "execute_result"
    },
    {
     "data": {
      "image/png": "[encoded data removed]",
      "text/plain": [
       "<Figure size 478.375x360 with 1 Axes>"
      ]
     },
     "metadata": {
      "needs_background": "light"
     },
     "output_type": "display_data"
    }
   ],
   "source": [
    "roubaix['sexe'] = coding(roubaix['sexe'], {'NP':'autre','NC':'autre'})\n",
    "sns.catplot(x = 'sexe', hue = 'activite_emprunteur', kind = 'count', data = roubaix)"
   ]
  },
  {
   "cell_type": "markdown",
   "metadata": {},
   "source": [
    "## 3. Modéliser l'usage de la médiathèque\n",
    "\n",
    "### Mesure de performance\n",
    "\n",
    "Le problème posé ici relève de la **classification**, binaire en l'occurrence, puisque les modèles devront prédire si un usager, à partir de ses caractéristiques, empruntera au moins un document ou non. Compte tenu de l'objectif fixé, il semble adéquat de recourir à deux mesures de performance : d'une part, le **taux de bonnes classifications** ; d'autre part, le **taux de non-emprunteurs correctement identifiés** (*recall* sur cette classe). En effet, l'objectif pratique du modèle serait d'identifier le plus d'adhérents qui auront tendance à ne pas emprunter de document, afin de les encourager à inverser leur usage de la médiathèque.\n",
    "\n",
    "### Jeux de données\n",
    "\n",
    "Des **variables binaires** sont obtenues à partir des variables catégoriques. Puis, **trois jeux de données** sont créés à partir du jeu de données initial : d'abord un jeu d'entrainement et un jeu de test, puis un jeu de validation est extrait du premier. Les modèles sont construits sur le jeu d'entrainement et leurs hyperparamètres ajustés sur le jeu de validation - sauf exception. Ce n'est que dans la partie 4. que nous pourrons jauger, grâce au jeu de test, de leur faculté à se généraliser.\n",
    "\n",
    "A noter que les valeurs sont **centrées et réduites** dans un intervalle compris entre 0 et 1 car le jeu de données comprend une variable continue (nombre d'années d'adhésion). Elles sont ensuite transformées à l'aide de la technique **SMOTE** (*Synthetic Minority Over-sampling Technique*) afin d'équilibrer les deux catégories, emprunteurs et non-emprunteurs, dans le jeu d'entrainement. D'autres techniques auraient été possibles. "
   ]
  },
  {
   "cell_type": "code",
   "execution_count": 15,
   "metadata": {},
   "outputs": [],
   "source": [
    "# jeux de données\n",
    "\n",
    "    # variable cible\n",
    "Target = roubaix['activite_emprunteur']\n",
    "roubaix.drop(columns = ['activite_emprunteur'], inplace=True)\n",
    "\n",
    "    # variables binaires\n",
    "predictors = pd.get_dummies(roubaix)\n",
    "\n",
    "# jeux d'entrainement et de test\n",
    "X_train, X_test, y_train, y_test = train_test_split(predictors, Target, test_size=0.2, random_state=15)\n",
    "\n",
    "# jeux d'entrainement et de validation\n",
    "X_train, X_val, y_train, y_val = train_test_split(X_train, y_train, test_size=0.2, random_state=42)"
   ]
  },
  {
   "cell_type": "code",
   "execution_count": 16,
   "metadata": {},
   "outputs": [],
   "source": [
    "# centrer et réduire\n",
    "scaler = MinMaxScaler(feature_range=(0, 1)).fit(X_train)\n",
    "X_train_preprocess = scaler.transform(X_train)\n",
    "X_train = pd.DataFrame(X_train_preprocess, columns = X_train.columns)\n",
    "del X_train_preprocess\n",
    "X_val_preprocess = scaler.transform(X_val)\n",
    "X_val = pd.DataFrame(X_val_preprocess, columns = X_val.columns)\n",
    "del X_val_preprocess"
   ]
  },
  {
   "cell_type": "code",
   "execution_count": 17,
   "metadata": {},
   "outputs": [
    {
     "name": "stdout",
     "output_type": "stream",
     "text": [
      "Emprunteur        6652\n",
      "Non emprunteur    6652\n",
      "dtype: int64\n"
     ]
    }
   ],
   "source": [
    "# SMOTE\n",
    "smote = SMOTE('all', random_state = 2, k_neighbors = 5) \n",
    "X_train_res, y_train = smote.fit_resample(X_train, pd.DataFrame(y_train))\n",
    "X_train = pd.DataFrame(X_train_res, columns = X_train.columns)\n",
    "del X_train_res\n",
    "print(pd.value_counts(y_train))"
   ]
  },
  {
   "cell_type": "markdown",
   "metadata": {},
   "source": [
    "### Régression logistique\n",
    "\n",
    "A l'aide de la régression logistique, 69 % des prédictions du jeu de validation sont correctes et 71 % des non emprunteurs ont été correctement identifiés comme tels. "
   ]
  },
  {
   "cell_type": "code",
   "execution_count": 18,
   "metadata": {},
   "outputs": [
    {
     "name": "stdout",
     "output_type": "stream",
     "text": [
      "Fitting 10 folds for each of 10 candidates, totalling 100 fits\n"
     ]
    },
    {
     "name": "stderr",
     "output_type": "stream",
     "text": [
      "[Parallel(n_jobs=-1)]: Using backend LokyBackend with 6 concurrent workers.\n",
      "[Parallel(n_jobs=-1)]: Done   6 tasks      | elapsed:    1.9s\n",
      "[Parallel(n_jobs=-1)]: Done  60 tasks      | elapsed:    6.0s\n",
      "[Parallel(n_jobs=-1)]: Done 100 out of 100 | elapsed:    8.6s finished\n"
     ]
    },
    {
     "data": {
      "text/plain": [
       "{'C': 11.555555555555555}"
      ]
     },
     "execution_count": 18,
     "metadata": {},
     "output_type": "execute_result"
    }
   ],
   "source": [
    "# régression logistique\n",
    "lr = LogisticRegression()\n",
    "parameters = {'C': np.linspace(1, 20, 10)}\n",
    "clf = GridSearchCV(lr, parameters, cv=10, verbose=5, n_jobs=-1)\n",
    "clf.fit(X_train, y_train.ravel())\n",
    "clf.best_params_ # 12"
   ]
  },
  {
   "cell_type": "code",
   "execution_count": 19,
   "metadata": {},
   "outputs": [
    {
     "name": "stdout",
     "output_type": "stream",
     "text": [
      "[LibLinear]Taux de classifications exactes sur le jeu d'entrainement : 0.708959711365003\n",
      "Taux de classifications exactes sur le jeu de validation: 0.6923076923076923\n",
      "                precision    recall  f1-score   support\n",
      "\n",
      "    Emprunteur       0.84      0.68      0.75      1671\n",
      "Non emprunteur       0.50      0.71      0.59       747\n",
      "\n",
      "     micro avg       0.69      0.69      0.69      2418\n",
      "     macro avg       0.67      0.70      0.67      2418\n",
      "  weighted avg       0.74      0.69      0.70      2418\n",
      "\n",
      "[[1143  528]\n",
      " [ 216  531]]\n"
     ]
    }
   ],
   "source": [
    "lr_def = LogisticRegression(C = 12, penalty = 'l1', verbose=5)\n",
    "lr_def.fit(X_train, y_train)\n",
    "y_pred_train = lr_def.predict(X_train)\n",
    "y_pred_val = lr_def.predict(X_val)\n",
    "print(\"Taux de classifications exactes sur le jeu d\\'entrainement :\", metrics.accuracy_score(y_train, y_pred_train)) # 70.9\n",
    "print(\"Taux de classifications exactes sur le jeu de validation:\", metrics.accuracy_score(y_val, y_pred_val)) # 69.2\n",
    "print(metrics.classification_report(y_val, y_pred_val))\n",
    "print(metrics.confusion_matrix(y_val, y_pred_val))"
   ]
  },
  {
   "cell_type": "markdown",
   "metadata": {},
   "source": [
    "### Forêt aléatoire\n",
    "\n",
    "Régularisée en vue de réduire le sur-apprentissage (*overfitting*), la forêt aléatoire réalise globalement 70 % de bonnes classifications et identifie correctement 69 % des non-emprunteurs. "
   ]
  },
  {
   "cell_type": "code",
   "execution_count": 20,
   "metadata": {},
   "outputs": [
    {
     "name": "stdout",
     "output_type": "stream",
     "text": [
      "Taux de classifications exactes sur le jeu d'entrainement : 0.9030366806975346\n",
      "Taux de classifications exactes sur le jeu de validation: 0.717948717948718\n",
      "                precision    recall  f1-score   support\n",
      "\n",
      "    Emprunteur       0.79      0.80      0.80      1671\n",
      "Non emprunteur       0.54      0.53      0.54       747\n",
      "\n",
      "     micro avg       0.72      0.72      0.72      2418\n",
      "     macro avg       0.67      0.67      0.67      2418\n",
      "  weighted avg       0.72      0.72      0.72      2418\n",
      "\n",
      "[[1337  334]\n",
      " [ 348  399]]\n"
     ]
    }
   ],
   "source": [
    "# forêt aléatoire\n",
    "forest = RandomForestClassifier(criterion='entropy', random_state=1, n_jobs=-1)\n",
    "forest.fit(X_train, y_train)\n",
    "y_pred_train = forest.predict(X_train)\n",
    "y_pred_val = forest.predict(X_val)\n",
    "print(\"Taux de classifications exactes sur le jeu d\\'entrainement :\", metrics.accuracy_score(y_train, y_pred_train)) # 90.3\n",
    "print(\"Taux de classifications exactes sur le jeu de validation:\", metrics.accuracy_score(y_val, y_pred_val)) # 71.8\n",
    "print(metrics.classification_report(y_val, y_pred_val))\n",
    "print(metrics.confusion_matrix(y_val, y_pred_val))"
   ]
  },
  {
   "cell_type": "code",
   "execution_count": 21,
   "metadata": {},
   "outputs": [
    {
     "name": "stdout",
     "output_type": "stream",
     "text": [
      "Taux de classifications exactes sur le jeu d'entrainement : 0.7005411906193626\n",
      "Taux de classifications exactes sur le jeu de validation: 0.7022332506203474\n",
      "                precision    recall  f1-score   support\n",
      "\n",
      "    Emprunteur       0.84      0.71      0.77      1671\n",
      "Non emprunteur       0.51      0.69      0.59       747\n",
      "\n",
      "     micro avg       0.70      0.70      0.70      2418\n",
      "     macro avg       0.67      0.70      0.68      2418\n",
      "  weighted avg       0.74      0.70      0.71      2418\n",
      "\n",
      "[[1184  487]\n",
      " [ 233  514]]\n"
     ]
    }
   ],
   "source": [
    "forest = RandomForestClassifier(criterion='entropy', random_state=1, n_jobs=-1,\n",
    "                               max_depth = 3)\n",
    "forest.fit(X_train, y_train)\n",
    "y_pred_train = forest.predict(X_train)\n",
    "y_pred_val = forest.predict(X_val)\n",
    "print(\"Taux de classifications exactes sur le jeu d\\'entrainement :\", metrics.accuracy_score(y_train, y_pred_train)) # 70.1\n",
    "print(\"Taux de classifications exactes sur le jeu de validation:\", metrics.accuracy_score(y_val, y_pred_val)) # 70.2\n",
    "print(metrics.classification_report(y_val, y_pred_val))\n",
    "print(metrics.confusion_matrix(y_val, y_pred_val))"
   ]
  },
  {
   "cell_type": "markdown",
   "metadata": {},
   "source": [
    "### Support vector machine\n",
    "\n",
    "Si le SVM réalise globalement moins de prédictions justes (68 %), il s'avère en revanche plus efficace pour identifier les non-emprunteurs puisque trois non-emprunteurs sur quatre l'ont été."
   ]
  },
  {
   "cell_type": "code",
   "execution_count": 22,
   "metadata": {},
   "outputs": [
    {
     "name": "stdout",
     "output_type": "stream",
     "text": [
      "Taux de classifications exactes sur le jeu d'entrainement : 0.7207606734816596\n",
      "Taux de classifications exactes sur le jeu de validation: 0.6774193548387096\n",
      "                precision    recall  f1-score   support\n",
      "\n",
      "    Emprunteur       0.85      0.65      0.74      1671\n",
      "Non emprunteur       0.49      0.74      0.59       747\n",
      "\n",
      "     micro avg       0.68      0.68      0.68      2418\n",
      "     macro avg       0.67      0.69      0.66      2418\n",
      "  weighted avg       0.74      0.68      0.69      2418\n",
      "\n",
      "[[1087  584]\n",
      " [ 196  551]]\n"
     ]
    }
   ],
   "source": [
    "clf = svm.SVC(gamma='scale', decision_function_shape='ovo')\n",
    "clf.fit(X_train, y_train)\n",
    "y_pred_train = clf.predict(X_train)\n",
    "y_pred_val = clf.predict(X_val)\n",
    "print(\"Taux de classifications exactes sur le jeu d\\'entrainement :\", metrics.accuracy_score(y_train, y_pred_train)) # 72.1\n",
    "print(\"Taux de classifications exactes sur le jeu de validation:\", metrics.accuracy_score(y_val, y_pred_val)) # 67.7\n",
    "print(metrics.classification_report(y_val, y_pred_val))\n",
    "print(metrics.confusion_matrix(y_val, y_pred_val))"
   ]
  },
  {
   "cell_type": "markdown",
   "metadata": {},
   "source": [
    "### XGboost\n",
    "\n",
    "Le *gradient boosting machine*, dans sa version XGboost, et régularisé, apporte 71 % de bonnes classifications et repère correctement plus de deux non-emprunteurs sur trois. "
   ]
  },
  {
   "cell_type": "code",
   "execution_count": 23,
   "metadata": {},
   "outputs": [],
   "source": [
    "y_train = pd.DataFrame(y_train)\n",
    "y_train[0] = coding(y_train[0], {'Emprunteur': 0, \n",
    "       'Non emprunteur':1}) \n",
    "xg_train = xgb.DMatrix(X_train, label= y_train.values)"
   ]
  },
  {
   "cell_type": "code",
   "execution_count": 24,
   "metadata": {},
   "outputs": [],
   "source": [
    "y_val = pd.DataFrame(y_val)\n",
    "y_val[\"activite_emprunteur\"] = coding(y_val[\"activite_emprunteur\"], {'Emprunteur': 0, \n",
    "       'Non emprunteur':1}) \n",
    "xg_validation = xgb.DMatrix(X_val)"
   ]
  },
  {
   "cell_type": "code",
   "execution_count": 25,
   "metadata": {},
   "outputs": [
    {
     "name": "stdout",
     "output_type": "stream",
     "text": [
      "Taux de classifications exactes sur le jeu d'entrainement : 0.7707456404088996\n",
      "Taux de classifications exactes sur le jeu de validation: 0.7105045492142267\n",
      "              precision    recall  f1-score   support\n",
      "\n",
      "           0       0.83      0.73      0.78      1671\n",
      "           1       0.52      0.67      0.59       747\n",
      "\n",
      "   micro avg       0.71      0.71      0.71      2418\n",
      "   macro avg       0.68      0.70      0.68      2418\n",
      "weighted avg       0.74      0.71      0.72      2418\n",
      "\n",
      "[[1219  452]\n",
      " [ 248  499]]\n"
     ]
    }
   ],
   "source": [
    "params = {\n",
    "    \"eta\": 0.3,\n",
    "    \"objective\": \"multi:softmax\",\n",
    "    \"silent\": 1,\n",
    "    'n_estimators': 40,\n",
    "    \"eval_metric\": \"merror\",\n",
    "    'num_class' : 2}\n",
    "\n",
    "model = xgb.train(params, xg_train, 15)\n",
    "\n",
    "    # prédictions\n",
    "y_pred_train = model.predict(xg_train)\n",
    "y_pred_val = model.predict(xg_validation)\n",
    "\n",
    "print(\"Taux de classifications exactes sur le jeu d\\'entrainement :\", metrics.accuracy_score(y_train, y_pred_train)) # 77.1\n",
    "print(\"Taux de classifications exactes sur le jeu de validation:\", metrics.accuracy_score(y_val, y_pred_val)) # 71.1\n",
    "print(metrics.classification_report(y_val, y_pred_val))\n",
    "print(metrics.confusion_matrix(y_val, y_pred_val))"
   ]
  },
  {
   "cell_type": "code",
   "execution_count": 26,
   "metadata": {},
   "outputs": [
    {
     "name": "stdout",
     "output_type": "stream",
     "text": [
      "Taux de classifications exactes sur le jeu d'entrainement : 0.7582681900180397\n",
      "Taux de classifications exactes sur le jeu de validation: 0.7080231596360629\n",
      "              precision    recall  f1-score   support\n",
      "\n",
      "           0       0.83      0.72      0.77      1671\n",
      "           1       0.52      0.68      0.59       747\n",
      "\n",
      "   micro avg       0.71      0.71      0.71      2418\n",
      "   macro avg       0.68      0.70      0.68      2418\n",
      "weighted avg       0.74      0.71      0.72      2418\n",
      "\n",
      "[[1207  464]\n",
      " [ 242  505]]\n"
     ]
    }
   ],
   "source": [
    "params = {\n",
    "    \"eta\": 0.3,\n",
    "    \"max_depth\":5,\n",
    "    \"objective\": \"multi:softmax\",\n",
    "    \"silent\": 1,\n",
    "    'n_estimators': 40,\n",
    "    \"eval_metric\": \"merror\",\n",
    "    'num_class' : 2}\n",
    "\n",
    "model = xgb.train(params, xg_train, 15)\n",
    "\n",
    "    # prédictions\n",
    "y_pred_train = model.predict(xg_train)\n",
    "y_pred_val = model.predict(xg_validation)\n",
    "\n",
    "print(\"Taux de classifications exactes sur le jeu d\\'entrainement :\", metrics.accuracy_score(y_train, y_pred_train)) # 75.8\n",
    "print(\"Taux de classifications exactes sur le jeu de validation:\", metrics.accuracy_score(y_val, y_pred_val)) # 70.8\n",
    "print(metrics.classification_report(y_val, y_pred_val))\n",
    "print(metrics.confusion_matrix(y_val, y_pred_val))"
   ]
  },
  {
   "cell_type": "markdown",
   "metadata": {},
   "source": [
    "### Réseau de neurones\n",
    "\n",
    "Les meilleurs hyperparamètres que nous avons recherchés sur le réseau profond de neurones ont permis de correctement classer 71 % des adhérents mais seuls 62 % des non-emprunteurs ont bien été identifiés. "
   ]
  },
  {
   "cell_type": "code",
   "execution_count": 28,
   "metadata": {},
   "outputs": [],
   "source": [
    "dummy_y_train = to_categorical(y_train)\n",
    "dummy_y_val = to_categorical(y_val)"
   ]
  },
  {
   "cell_type": "code",
   "execution_count": 29,
   "metadata": {},
   "outputs": [
    {
     "name": "stdout",
     "output_type": "stream",
     "text": [
      "Train on 13304 samples, validate on 2418 samples\n",
      "Epoch 1/20\n",
      "13304/13304 [==============================] - 1s 42us/step - loss: 0.5784 - acc: 0.6769 - val_loss: 0.5584 - val_acc: 0.6745\n",
      "Epoch 2/20\n",
      "13304/13304 [==============================] - 0s 21us/step - loss: 0.5344 - acc: 0.7105 - val_loss: 0.5422 - val_acc: 0.6911\n",
      "Epoch 3/20\n",
      "13304/13304 [==============================] - 0s 20us/step - loss: 0.5254 - acc: 0.7195 - val_loss: 0.5505 - val_acc: 0.6774\n",
      "Epoch 4/20\n",
      "13304/13304 [==============================] - 0s 21us/step - loss: 0.5148 - acc: 0.7252 - val_loss: 0.5237 - val_acc: 0.7035\n",
      "Epoch 5/20\n",
      "13304/13304 [==============================] - 0s 19us/step - loss: 0.5032 - acc: 0.7383 - val_loss: 0.5718 - val_acc: 0.6625\n",
      "Epoch 6/20\n",
      "13304/13304 [==============================] - 0s 19us/step - loss: 0.4937 - acc: 0.7407 - val_loss: 0.5374 - val_acc: 0.7072\n",
      "Epoch 7/20\n",
      "13304/13304 [==============================] - 0s 20us/step - loss: 0.4836 - acc: 0.7520 - val_loss: 0.5324 - val_acc: 0.7117\n",
      "Epoch 8/20\n",
      "13304/13304 [==============================] - 0s 20us/step - loss: 0.4758 - acc: 0.7583 - val_loss: 0.5343 - val_acc: 0.7246\n",
      "Epoch 9/20\n",
      "13304/13304 [==============================] - 0s 19us/step - loss: 0.4691 - acc: 0.7640 - val_loss: 0.5755 - val_acc: 0.6811\n",
      "Epoch 10/20\n",
      "13304/13304 [==============================] - 0s 20us/step - loss: 0.4616 - acc: 0.7665 - val_loss: 0.5908 - val_acc: 0.6733\n",
      "Epoch 11/20\n",
      "13304/13304 [==============================] - 0s 20us/step - loss: 0.4571 - acc: 0.7716 - val_loss: 0.5649 - val_acc: 0.7080\n",
      "Epoch 12/20\n",
      "13304/13304 [==============================] - 0s 20us/step - loss: 0.4509 - acc: 0.7753 - val_loss: 0.6005 - val_acc: 0.6654\n",
      "Epoch 13/20\n",
      "13304/13304 [==============================] - 0s 20us/step - loss: 0.4473 - acc: 0.7764 - val_loss: 0.6048 - val_acc: 0.6853\n",
      "Epoch 14/20\n",
      "13304/13304 [==============================] - 0s 20us/step - loss: 0.4423 - acc: 0.7828 - val_loss: 0.6069 - val_acc: 0.6882\n",
      "Epoch 15/20\n",
      "13304/13304 [==============================] - 0s 19us/step - loss: 0.4395 - acc: 0.7802 - val_loss: 0.6190 - val_acc: 0.6679\n",
      "Epoch 16/20\n",
      "13304/13304 [==============================] - 0s 20us/step - loss: 0.4346 - acc: 0.7846 - val_loss: 0.5858 - val_acc: 0.7142\n",
      "Epoch 17/20\n",
      "13304/13304 [==============================] - 0s 20us/step - loss: 0.4309 - acc: 0.7865 - val_loss: 0.6241 - val_acc: 0.6671\n",
      "Epoch 18/20\n",
      "13304/13304 [==============================] - 0s 21us/step - loss: 0.4259 - acc: 0.7882 - val_loss: 0.6100 - val_acc: 0.6886\n",
      "Epoch 19/20\n",
      "13304/13304 [==============================] - 0s 19us/step - loss: 0.4227 - acc: 0.7940 - val_loss: 0.6325 - val_acc: 0.6646\n",
      "Epoch 20/20\n",
      "13304/13304 [==============================] - 0s 19us/step - loss: 0.4201 - acc: 0.7972 - val_loss: 0.5967 - val_acc: 0.7093\n"
     ]
    },
    {
     "data": {
      "text/plain": [
       "<keras.callbacks.History at 0x27dce9a4cc0>"
      ]
     },
     "execution_count": 29,
     "metadata": {},
     "output_type": "execute_result"
    }
   ],
   "source": [
    "model = Sequential()\n",
    "model.add(Dense(32, input_dim = X_train.shape[1], activation='relu'))\n",
    "model.add(Dense(32, activation='relu'))\n",
    "model.add(Dense(32, activation='relu'))\n",
    "model.add(Dense(2, activation='softmax'))\n",
    "model.compile(loss='binary_crossentropy', optimizer='adam', metrics=['accuracy'])\n",
    "model.fit(X_train, dummy_y_train, epochs=20, validation_data = (X_val, dummy_y_val), verbose=1) # 70.9"
   ]
  },
  {
   "cell_type": "code",
   "execution_count": 30,
   "metadata": {},
   "outputs": [
    {
     "name": "stdout",
     "output_type": "stream",
     "text": [
      "Train on 13304 samples, validate on 2418 samples\n",
      "Epoch 1/20\n",
      "13304/13304 [==============================] - 1s 41us/step - loss: 0.6418 - acc: 0.6029 - val_loss: 0.5504 - val_acc: 0.6828\n",
      "Epoch 2/20\n",
      "13304/13304 [==============================] - 0s 22us/step - loss: 0.5729 - acc: 0.6827 - val_loss: 0.5395 - val_acc: 0.6853\n",
      "Epoch 3/20\n",
      "13304/13304 [==============================] - 0s 22us/step - loss: 0.5521 - acc: 0.6994 - val_loss: 0.5220 - val_acc: 0.7089\n",
      "Epoch 4/20\n",
      "13304/13304 [==============================] - 0s 21us/step - loss: 0.5471 - acc: 0.7052 - val_loss: 0.5347 - val_acc: 0.6973\n",
      "Epoch 5/20\n",
      "13304/13304 [==============================] - 0s 22us/step - loss: 0.5381 - acc: 0.7134 - val_loss: 0.5314 - val_acc: 0.7055\n",
      "Epoch 6/20\n",
      "13304/13304 [==============================] - 0s 21us/step - loss: 0.5336 - acc: 0.7190 - val_loss: 0.5441 - val_acc: 0.6919\n",
      "Epoch 7/20\n",
      "13304/13304 [==============================] - 0s 22us/step - loss: 0.5314 - acc: 0.7221 - val_loss: 0.5406 - val_acc: 0.6935\n",
      "Epoch 8/20\n",
      "13304/13304 [==============================] - 0s 21us/step - loss: 0.5275 - acc: 0.7237 - val_loss: 0.5407 - val_acc: 0.6977\n",
      "Epoch 9/20\n",
      "13304/13304 [==============================] - 0s 22us/step - loss: 0.5257 - acc: 0.7257 - val_loss: 0.5446 - val_acc: 0.6927\n",
      "Epoch 10/20\n",
      "13304/13304 [==============================] - 0s 21us/step - loss: 0.5193 - acc: 0.7347 - val_loss: 0.5294 - val_acc: 0.7113\n",
      "Epoch 11/20\n",
      "13304/13304 [==============================] - 0s 22us/step - loss: 0.5152 - acc: 0.7341 - val_loss: 0.5497 - val_acc: 0.6989\n",
      "Epoch 12/20\n",
      "13304/13304 [==============================] - 0s 21us/step - loss: 0.5144 - acc: 0.7372 - val_loss: 0.5393 - val_acc: 0.6985\n",
      "Epoch 13/20\n",
      "13304/13304 [==============================] - 0s 21us/step - loss: 0.5090 - acc: 0.7371 - val_loss: 0.5386 - val_acc: 0.7080\n",
      "Epoch 14/20\n",
      "13304/13304 [==============================] - 0s 21us/step - loss: 0.5119 - acc: 0.7380 - val_loss: 0.5412 - val_acc: 0.7060\n",
      "Epoch 15/20\n",
      "13304/13304 [==============================] - 0s 21us/step - loss: 0.5135 - acc: 0.7350 - val_loss: 0.5407 - val_acc: 0.7022\n",
      "Epoch 16/20\n",
      "13304/13304 [==============================] - 0s 22us/step - loss: 0.5077 - acc: 0.7377 - val_loss: 0.5422 - val_acc: 0.6960\n",
      "Epoch 17/20\n",
      "13304/13304 [==============================] - 0s 21us/step - loss: 0.5057 - acc: 0.7453 - val_loss: 0.5436 - val_acc: 0.7113\n",
      "Epoch 18/20\n",
      "13304/13304 [==============================] - 0s 21us/step - loss: 0.5048 - acc: 0.7462 - val_loss: 0.5357 - val_acc: 0.7010\n",
      "Epoch 19/20\n",
      "13304/13304 [==============================] - 0s 21us/step - loss: 0.5012 - acc: 0.7453 - val_loss: 0.5437 - val_acc: 0.7006\n",
      "Epoch 20/20\n",
      "13304/13304 [==============================] - 0s 22us/step - loss: 0.4994 - acc: 0.7501 - val_loss: 0.5370 - val_acc: 0.7146\n",
      "              precision    recall  f1-score   support\n",
      "\n",
      "           0       0.82      0.76      0.79      1671\n",
      "           1       0.53      0.62      0.57       747\n",
      "\n",
      "   micro avg       0.71      0.71      0.71      2418\n",
      "   macro avg       0.68      0.69      0.68      2418\n",
      "weighted avg       0.73      0.71      0.72      2418\n",
      "\n"
     ]
    }
   ],
   "source": [
    "K.clear_session()\n",
    "\n",
    "model = Sequential()\n",
    "model.add(Dense(32, input_dim = X_train.shape[1], activation='relu'))\n",
    "model.add(Dropout(0.4))\n",
    "model.add(Dense(32, activation='relu'))\n",
    "model.add(Dropout(0.4))\n",
    "model.add(Dense(2, activation='softmax'))\n",
    "model.compile(loss='binary_crossentropy', optimizer='adam', metrics=['accuracy'])\n",
    "model.fit(X_train, dummy_y_train, epochs=20, validation_data = (X_val, dummy_y_val), verbose=1)\n",
    "y_pred_val = model.predict_classes(X_val) # 71.5\n",
    "print(metrics.classification_report(y_val, y_pred_val))\n",
    "\n",
    "K.clear_session()"
   ]
  },
  {
   "cell_type": "markdown",
   "metadata": {},
   "source": [
    "## 4. Evaluer la modélisation\n",
    "\n",
    "Les jeux d'entrainement et de test sont recréés. Ils sont **centrés et réduits**, puis le jeu d'entrainement seul est transformé à l'aide du **SMOTE** afin d'équilibrer le nombre d'emprunteurs et de non emprunteurs en son sein. Les modèles sont entrainés une ultime fois sur les jeux d'entrainement à l'aide des hyperparamètres trouvés sur le jeu de validation dans la partie précédente, puis évalués sur le jeu de test.\n",
    "\n",
    "C'est le modèle **XGboost** qui obtient le **meilleur taux de bonnes classifications**, avec 70 % des adhérents qui ont bien été classés en emprunteurs ou non emprunteurs. Toutefois, si l'objectif prioritaire est d'**identifier les non emprunteurs**, le **SVM** est davantage recommandé puisqu'il parvient à repérer comme tels 72 % des non emprunteurs. \n",
    "\n",
    "A noter par ailleurs que les algorithmes divergent dans l'importance qu'ils confèrent aux variables explicatives pour dégager leurs prédictions : par exemple, si le nombre d'années d'adhésion s'avère très utile au XGboost, il l'est beaucoup moins pour la forêt aléatoire, laquelle recourt en priorité au type de carte de l'adhérent. "
   ]
  },
  {
   "cell_type": "code",
   "execution_count": 31,
   "metadata": {},
   "outputs": [],
   "source": [
    "# jeux d'entrainement et de test\n",
    "X_train, X_test, y_train, y_test = train_test_split(predictors, Target, test_size=0.2, random_state=15)"
   ]
  },
  {
   "cell_type": "code",
   "execution_count": 32,
   "metadata": {},
   "outputs": [],
   "source": [
    "# centrer et réduire\n",
    "scaler = MinMaxScaler(feature_range=(0, 1)).fit(X_train)\n",
    "X_train_preprocess = scaler.transform(X_train)\n",
    "X_train = pd.DataFrame(X_train_preprocess, columns = X_train.columns)\n",
    "del X_train_preprocess\n",
    "X_test_preprocess = scaler.transform(X_test)\n",
    "X_test = pd.DataFrame(X_test_preprocess, columns = X_test.columns)\n",
    "del X_test_preprocess"
   ]
  },
  {
   "cell_type": "code",
   "execution_count": 33,
   "metadata": {},
   "outputs": [
    {
     "name": "stdout",
     "output_type": "stream",
     "text": [
      "Emprunteur        8323\n",
      "Non emprunteur    8323\n",
      "dtype: int64\n"
     ]
    }
   ],
   "source": [
    "# SMOTE\n",
    "smote = SMOTE('all', random_state = 2, k_neighbors = 5) \n",
    "X_train_res, y_train = smote.fit_resample(X_train, pd.DataFrame(y_train))\n",
    "X_train = pd.DataFrame(X_train_res, columns = X_train.columns)\n",
    "del X_train_res\n",
    "print(pd.value_counts(y_train))"
   ]
  },
  {
   "cell_type": "markdown",
   "metadata": {},
   "source": [
    "### Régression logistique"
   ]
  },
  {
   "cell_type": "code",
   "execution_count": 34,
   "metadata": {},
   "outputs": [
    {
     "name": "stdout",
     "output_type": "stream",
     "text": [
      "[LibLinear]Taux de classifications exactes sur le jeu d'entrainement : 0.7054547639072449\n",
      "Taux de classifications exactes sur le jeu de test: 0.6751571286801191\n",
      "                precision    recall  f1-score   support\n",
      "\n",
      "    Emprunteur       0.82      0.67      0.74      2050\n",
      "Non emprunteur       0.50      0.68      0.57       973\n",
      "\n",
      "     micro avg       0.68      0.68      0.68      3023\n",
      "     macro avg       0.66      0.68      0.66      3023\n",
      "  weighted avg       0.71      0.68      0.68      3023\n",
      "\n",
      "[[1377  673]\n",
      " [ 309  664]]\n"
     ]
    }
   ],
   "source": [
    "lr_def = LogisticRegression(C = 12, penalty = 'l1', verbose=5)\n",
    "lr_def.fit(X_train, y_train)\n",
    "y_pred_train = lr_def.predict(X_train)\n",
    "y_pred_test = lr_def.predict(X_test)\n",
    "print(\"Taux de classifications exactes sur le jeu d\\'entrainement :\", metrics.accuracy_score(y_train, y_pred_train)) # 70.5\n",
    "print(\"Taux de classifications exactes sur le jeu de test:\", metrics.accuracy_score(y_test, y_pred_test)) # 67.5\n",
    "print(metrics.classification_report(y_test, y_pred_test))\n",
    "print(metrics.confusion_matrix(y_test, y_pred_test))"
   ]
  },
  {
   "cell_type": "markdown",
   "metadata": {},
   "source": [
    "### Forêt aléatoire"
   ]
  },
  {
   "cell_type": "code",
   "execution_count": 35,
   "metadata": {},
   "outputs": [
    {
     "name": "stdout",
     "output_type": "stream",
     "text": [
      "Taux de classifications exactes sur le jeu d'entrainement : 0.694220833833954\n",
      "Taux de classifications exactes sur le jeu de test: 0.6774727092292425\n",
      "                precision    recall  f1-score   support\n",
      "\n",
      "    Emprunteur       0.79      0.71      0.75      2050\n",
      "Non emprunteur       0.50      0.60      0.54       973\n",
      "\n",
      "     micro avg       0.68      0.68      0.68      3023\n",
      "     macro avg       0.64      0.66      0.65      3023\n",
      "  weighted avg       0.70      0.68      0.68      3023\n",
      "\n",
      "[[1465  585]\n",
      " [ 390  583]]\n"
     ]
    }
   ],
   "source": [
    "forest = RandomForestClassifier(criterion='entropy', random_state=1, n_jobs=-1,\n",
    "                               max_depth = 3)\n",
    "forest.fit(X_train, y_train)\n",
    "y_pred_train = forest.predict(X_train)\n",
    "y_pred_test = forest.predict(X_test)\n",
    "print(\"Taux de classifications exactes sur le jeu d\\'entrainement :\", metrics.accuracy_score(y_train, y_pred_train)) # 69.4\n",
    "print(\"Taux de classifications exactes sur le jeu de test:\", metrics.accuracy_score(y_test, y_pred_test)) # 67.7\n",
    "print(metrics.classification_report(y_test, y_pred_test))\n",
    "print(metrics.confusion_matrix(y_test, y_pred_test))"
   ]
  },
  {
   "cell_type": "code",
   "execution_count": 36,
   "metadata": {},
   "outputs": [
    {
     "data": {
      "text/html": [
       "<div>\n",
       "<style scoped>\n",
       "    .dataframe tbody tr th:only-of-type {\n",
       "        vertical-align: middle;\n",
       "    }\n",
       "\n",
       "    .dataframe tbody tr th {\n",
       "        vertical-align: top;\n",
       "    }\n",
       "\n",
       "    .dataframe thead th {\n",
       "        text-align: right;\n",
       "    }\n",
       "</style>\n",
       "<table border=\"1\" class=\"dataframe\">\n",
       "  <thead>\n",
       "    <tr style=\"text-align: right;\">\n",
       "      <th></th>\n",
       "      <th>Variable</th>\n",
       "      <th>Importance</th>\n",
       "    </tr>\n",
       "  </thead>\n",
       "  <tbody>\n",
       "    <tr>\n",
       "      <th>71</th>\n",
       "      <td>inscription_type_carte_Médiathèque Plus</td>\n",
       "      <td>0.260824</td>\n",
       "    </tr>\n",
       "    <tr>\n",
       "      <th>69</th>\n",
       "      <td>inscription_type_carte_Consultation sur place</td>\n",
       "      <td>0.231093</td>\n",
       "    </tr>\n",
       "    <tr>\n",
       "      <th>67</th>\n",
       "      <td>inscription_attribut_zebre_Arret</td>\n",
       "      <td>0.081725</td>\n",
       "    </tr>\n",
       "    <tr>\n",
       "      <th>74</th>\n",
       "      <td>type_inscription_gratuite</td>\n",
       "      <td>0.069731</td>\n",
       "    </tr>\n",
       "    <tr>\n",
       "      <th>0</th>\n",
       "      <td>nombre d'années d'adhésion</td>\n",
       "      <td>0.064691</td>\n",
       "    </tr>\n",
       "    <tr>\n",
       "      <th>6</th>\n",
       "      <td>Tranches d'âge (2)_18 - 19 ans</td>\n",
       "      <td>0.045965</td>\n",
       "    </tr>\n",
       "    <tr>\n",
       "      <th>75</th>\n",
       "      <td>type_inscription_payante</td>\n",
       "      <td>0.042688</td>\n",
       "    </tr>\n",
       "    <tr>\n",
       "      <th>3</th>\n",
       "      <td>Tranches d'âge (2)_06 - 10 ans</td>\n",
       "      <td>0.042029</td>\n",
       "    </tr>\n",
       "    <tr>\n",
       "      <th>68</th>\n",
       "      <td>inscription_attribut_zebre_nd</td>\n",
       "      <td>0.041510</td>\n",
       "    </tr>\n",
       "    <tr>\n",
       "      <th>7</th>\n",
       "      <td>Tranches d'âge (2)_20 - 24 ans</td>\n",
       "      <td>0.038416</td>\n",
       "    </tr>\n",
       "    <tr>\n",
       "      <th>21</th>\n",
       "      <td>Nom de l'IRIS à Roubaix_BARBIEUX-VAUBAN</td>\n",
       "      <td>0.018891</td>\n",
       "    </tr>\n",
       "    <tr>\n",
       "      <th>13</th>\n",
       "      <td>Tranches d'âge (2)_80 ans et plus</td>\n",
       "      <td>0.015473</td>\n",
       "    </tr>\n",
       "    <tr>\n",
       "      <th>47</th>\n",
       "      <td>Nom de l'IRIS à Roubaix_POTENNERIE</td>\n",
       "      <td>0.015065</td>\n",
       "    </tr>\n",
       "    <tr>\n",
       "      <th>23</th>\n",
       "      <td>Nom de l'IRIS à Roubaix_EDOUART VAILLANT</td>\n",
       "      <td>0.008162</td>\n",
       "    </tr>\n",
       "    <tr>\n",
       "      <th>15</th>\n",
       "      <td>Roubaisien ou non_Non Roubaisien</td>\n",
       "      <td>0.005579</td>\n",
       "    </tr>\n",
       "    <tr>\n",
       "      <th>70</th>\n",
       "      <td>inscription_type_carte_Médiathèque</td>\n",
       "      <td>0.005344</td>\n",
       "    </tr>\n",
       "    <tr>\n",
       "      <th>20</th>\n",
       "      <td>Nom de l'IRIS à Roubaix_BARBIEUX SUD</td>\n",
       "      <td>0.003267</td>\n",
       "    </tr>\n",
       "    <tr>\n",
       "      <th>56</th>\n",
       "      <td>Commune de résidence_AUTRE</td>\n",
       "      <td>0.002400</td>\n",
       "    </tr>\n",
       "    <tr>\n",
       "      <th>45</th>\n",
       "      <td>Nom de l'IRIS à Roubaix_PILE EST</td>\n",
       "      <td>0.001290</td>\n",
       "    </tr>\n",
       "    <tr>\n",
       "      <th>22</th>\n",
       "      <td>Nom de l'IRIS à Roubaix_CUL DE FOUR</td>\n",
       "      <td>0.001254</td>\n",
       "    </tr>\n",
       "    <tr>\n",
       "      <th>53</th>\n",
       "      <td>Nom de l'IRIS à Roubaix_TROIS PONTS NORD</td>\n",
       "      <td>0.001050</td>\n",
       "    </tr>\n",
       "    <tr>\n",
       "      <th>31</th>\n",
       "      <td>Nom de l'IRIS à Roubaix_FRESNOY</td>\n",
       "      <td>0.000752</td>\n",
       "    </tr>\n",
       "    <tr>\n",
       "      <th>4</th>\n",
       "      <td>Tranches d'âge (2)_11 - 14 ans</td>\n",
       "      <td>0.000747</td>\n",
       "    </tr>\n",
       "    <tr>\n",
       "      <th>24</th>\n",
       "      <td>Nom de l'IRIS à Roubaix_ENTREPONT-CARTIGNY</td>\n",
       "      <td>0.000540</td>\n",
       "    </tr>\n",
       "    <tr>\n",
       "      <th>27</th>\n",
       "      <td>Nom de l'IRIS à Roubaix_EPEULE SUD</td>\n",
       "      <td>0.000522</td>\n",
       "    </tr>\n",
       "    <tr>\n",
       "      <th>77</th>\n",
       "      <td>sexe_Homme</td>\n",
       "      <td>0.000357</td>\n",
       "    </tr>\n",
       "    <tr>\n",
       "      <th>42</th>\n",
       "      <td>Nom de l'IRIS à Roubaix_NATIONS UNIES</td>\n",
       "      <td>0.000163</td>\n",
       "    </tr>\n",
       "    <tr>\n",
       "      <th>38</th>\n",
       "      <td>Nom de l'IRIS à Roubaix_LINNE CHEMIN NEUF</td>\n",
       "      <td>0.000160</td>\n",
       "    </tr>\n",
       "    <tr>\n",
       "      <th>61</th>\n",
       "      <td>Commune de résidence_ROUBAIX</td>\n",
       "      <td>0.000132</td>\n",
       "    </tr>\n",
       "    <tr>\n",
       "      <th>59</th>\n",
       "      <td>Commune de résidence_LEERS</td>\n",
       "      <td>0.000064</td>\n",
       "    </tr>\n",
       "    <tr>\n",
       "      <th>...</th>\n",
       "      <td>...</td>\n",
       "      <td>...</td>\n",
       "    </tr>\n",
       "    <tr>\n",
       "      <th>46</th>\n",
       "      <td>Nom de l'IRIS à Roubaix_PILE NORD</td>\n",
       "      <td>0.000000</td>\n",
       "    </tr>\n",
       "    <tr>\n",
       "      <th>44</th>\n",
       "      <td>Nom de l'IRIS à Roubaix_PILE CENTRE</td>\n",
       "      <td>0.000000</td>\n",
       "    </tr>\n",
       "    <tr>\n",
       "      <th>2</th>\n",
       "      <td>Tranches d'âge (2)_03 - 5 ans</td>\n",
       "      <td>0.000000</td>\n",
       "    </tr>\n",
       "    <tr>\n",
       "      <th>5</th>\n",
       "      <td>Tranches d'âge (2)_15 - 17 ans</td>\n",
       "      <td>0.000000</td>\n",
       "    </tr>\n",
       "    <tr>\n",
       "      <th>8</th>\n",
       "      <td>Tranches d'âge (2)_25 - 29 ans</td>\n",
       "      <td>0.000000</td>\n",
       "    </tr>\n",
       "    <tr>\n",
       "      <th>9</th>\n",
       "      <td>Tranches d'âge (2)_30 - 39 ans</td>\n",
       "      <td>0.000000</td>\n",
       "    </tr>\n",
       "    <tr>\n",
       "      <th>10</th>\n",
       "      <td>Tranches d'âge (2)_40 - 54 ans</td>\n",
       "      <td>0.000000</td>\n",
       "    </tr>\n",
       "    <tr>\n",
       "      <th>11</th>\n",
       "      <td>Tranches d'âge (2)_55 - 64 ans</td>\n",
       "      <td>0.000000</td>\n",
       "    </tr>\n",
       "    <tr>\n",
       "      <th>12</th>\n",
       "      <td>Tranches d'âge (2)_65 - 79 ans</td>\n",
       "      <td>0.000000</td>\n",
       "    </tr>\n",
       "    <tr>\n",
       "      <th>14</th>\n",
       "      <td>Tranches d'âge (2)_nd</td>\n",
       "      <td>0.000000</td>\n",
       "    </tr>\n",
       "    <tr>\n",
       "      <th>16</th>\n",
       "      <td>Roubaisien ou non_Roubaisien</td>\n",
       "      <td>0.000000</td>\n",
       "    </tr>\n",
       "    <tr>\n",
       "      <th>17</th>\n",
       "      <td>Nom de l'IRIS à Roubaix_ALMA NORD</td>\n",
       "      <td>0.000000</td>\n",
       "    </tr>\n",
       "    <tr>\n",
       "      <th>18</th>\n",
       "      <td>Nom de l'IRIS à Roubaix_ALMA SUD</td>\n",
       "      <td>0.000000</td>\n",
       "    </tr>\n",
       "    <tr>\n",
       "      <th>19</th>\n",
       "      <td>Nom de l'IRIS à Roubaix_ANSEELE</td>\n",
       "      <td>0.000000</td>\n",
       "    </tr>\n",
       "    <tr>\n",
       "      <th>25</th>\n",
       "      <td>Nom de l'IRIS à Roubaix_EPEULE CENTRE</td>\n",
       "      <td>0.000000</td>\n",
       "    </tr>\n",
       "    <tr>\n",
       "      <th>26</th>\n",
       "      <td>Nom de l'IRIS à Roubaix_EPEULE NORD</td>\n",
       "      <td>0.000000</td>\n",
       "    </tr>\n",
       "    <tr>\n",
       "      <th>28</th>\n",
       "      <td>Nom de l'IRIS à Roubaix_ESPERANCE CENTRE</td>\n",
       "      <td>0.000000</td>\n",
       "    </tr>\n",
       "    <tr>\n",
       "      <th>29</th>\n",
       "      <td>Nom de l'IRIS à Roubaix_FOSSE AUX CHENES</td>\n",
       "      <td>0.000000</td>\n",
       "    </tr>\n",
       "    <tr>\n",
       "      <th>30</th>\n",
       "      <td>Nom de l'IRIS à Roubaix_FRATERNITE</td>\n",
       "      <td>0.000000</td>\n",
       "    </tr>\n",
       "    <tr>\n",
       "      <th>32</th>\n",
       "      <td>Nom de l'IRIS à Roubaix_HAUTS CHAMPS</td>\n",
       "      <td>0.000000</td>\n",
       "    </tr>\n",
       "    <tr>\n",
       "      <th>33</th>\n",
       "      <td>Nom de l'IRIS à Roubaix_HOMMELET CENTRE</td>\n",
       "      <td>0.000000</td>\n",
       "    </tr>\n",
       "    <tr>\n",
       "      <th>34</th>\n",
       "      <td>Nom de l'IRIS à Roubaix_HOMMELET NORD</td>\n",
       "      <td>0.000000</td>\n",
       "    </tr>\n",
       "    <tr>\n",
       "      <th>35</th>\n",
       "      <td>Nom de l'IRIS à Roubaix_HOMMELET SUD</td>\n",
       "      <td>0.000000</td>\n",
       "    </tr>\n",
       "    <tr>\n",
       "      <th>36</th>\n",
       "      <td>Nom de l'IRIS à Roubaix_HUTIN-ORAN</td>\n",
       "      <td>0.000000</td>\n",
       "    </tr>\n",
       "    <tr>\n",
       "      <th>37</th>\n",
       "      <td>Nom de l'IRIS à Roubaix_JUSTICE</td>\n",
       "      <td>0.000000</td>\n",
       "    </tr>\n",
       "    <tr>\n",
       "      <th>1</th>\n",
       "      <td>Tranches d'âge (2)_0 - 2 ans</td>\n",
       "      <td>0.000000</td>\n",
       "    </tr>\n",
       "    <tr>\n",
       "      <th>40</th>\n",
       "      <td>Nom de l'IRIS à Roubaix_MOULIN NORD</td>\n",
       "      <td>0.000000</td>\n",
       "    </tr>\n",
       "    <tr>\n",
       "      <th>41</th>\n",
       "      <td>Nom de l'IRIS à Roubaix_MOULIN SUD</td>\n",
       "      <td>0.000000</td>\n",
       "    </tr>\n",
       "    <tr>\n",
       "      <th>43</th>\n",
       "      <td>Nom de l'IRIS à Roubaix_NOUVEAU ROUBAIX</td>\n",
       "      <td>0.000000</td>\n",
       "    </tr>\n",
       "    <tr>\n",
       "      <th>78</th>\n",
       "      <td>sexe_autre</td>\n",
       "      <td>0.000000</td>\n",
       "    </tr>\n",
       "  </tbody>\n",
       "</table>\n",
       "<p>79 rows × 2 columns</p>\n",
       "</div>"
      ],
      "text/plain": [
       "                                         Variable  Importance\n",
       "71        inscription_type_carte_Médiathèque Plus    0.260824\n",
       "69  inscription_type_carte_Consultation sur place    0.231093\n",
       "67               inscription_attribut_zebre_Arret    0.081725\n",
       "74                      type_inscription_gratuite    0.069731\n",
       "0                      nombre d'années d'adhésion    0.064691\n",
       "6                  Tranches d'âge (2)_18 - 19 ans    0.045965\n",
       "75                       type_inscription_payante    0.042688\n",
       "3                  Tranches d'âge (2)_06 - 10 ans    0.042029\n",
       "68                  inscription_attribut_zebre_nd    0.041510\n",
       "7                  Tranches d'âge (2)_20 - 24 ans    0.038416\n",
       "21        Nom de l'IRIS à Roubaix_BARBIEUX-VAUBAN    0.018891\n",
       "13              Tranches d'âge (2)_80 ans et plus    0.015473\n",
       "47             Nom de l'IRIS à Roubaix_POTENNERIE    0.015065\n",
       "23       Nom de l'IRIS à Roubaix_EDOUART VAILLANT    0.008162\n",
       "15               Roubaisien ou non_Non Roubaisien    0.005579\n",
       "70             inscription_type_carte_Médiathèque    0.005344\n",
       "20           Nom de l'IRIS à Roubaix_BARBIEUX SUD    0.003267\n",
       "56                     Commune de résidence_AUTRE    0.002400\n",
       "45               Nom de l'IRIS à Roubaix_PILE EST    0.001290\n",
       "22            Nom de l'IRIS à Roubaix_CUL DE FOUR    0.001254\n",
       "53       Nom de l'IRIS à Roubaix_TROIS PONTS NORD    0.001050\n",
       "31                Nom de l'IRIS à Roubaix_FRESNOY    0.000752\n",
       "4                  Tranches d'âge (2)_11 - 14 ans    0.000747\n",
       "24     Nom de l'IRIS à Roubaix_ENTREPONT-CARTIGNY    0.000540\n",
       "27             Nom de l'IRIS à Roubaix_EPEULE SUD    0.000522\n",
       "77                                     sexe_Homme    0.000357\n",
       "42          Nom de l'IRIS à Roubaix_NATIONS UNIES    0.000163\n",
       "38      Nom de l'IRIS à Roubaix_LINNE CHEMIN NEUF    0.000160\n",
       "61                   Commune de résidence_ROUBAIX    0.000132\n",
       "59                     Commune de résidence_LEERS    0.000064\n",
       "..                                            ...         ...\n",
       "46              Nom de l'IRIS à Roubaix_PILE NORD    0.000000\n",
       "44            Nom de l'IRIS à Roubaix_PILE CENTRE    0.000000\n",
       "2                   Tranches d'âge (2)_03 - 5 ans    0.000000\n",
       "5                  Tranches d'âge (2)_15 - 17 ans    0.000000\n",
       "8                  Tranches d'âge (2)_25 - 29 ans    0.000000\n",
       "9                  Tranches d'âge (2)_30 - 39 ans    0.000000\n",
       "10                 Tranches d'âge (2)_40 - 54 ans    0.000000\n",
       "11                 Tranches d'âge (2)_55 - 64 ans    0.000000\n",
       "12                 Tranches d'âge (2)_65 - 79 ans    0.000000\n",
       "14                          Tranches d'âge (2)_nd    0.000000\n",
       "16                   Roubaisien ou non_Roubaisien    0.000000\n",
       "17              Nom de l'IRIS à Roubaix_ALMA NORD    0.000000\n",
       "18               Nom de l'IRIS à Roubaix_ALMA SUD    0.000000\n",
       "19                Nom de l'IRIS à Roubaix_ANSEELE    0.000000\n",
       "25          Nom de l'IRIS à Roubaix_EPEULE CENTRE    0.000000\n",
       "26            Nom de l'IRIS à Roubaix_EPEULE NORD    0.000000\n",
       "28       Nom de l'IRIS à Roubaix_ESPERANCE CENTRE    0.000000\n",
       "29       Nom de l'IRIS à Roubaix_FOSSE AUX CHENES    0.000000\n",
       "30             Nom de l'IRIS à Roubaix_FRATERNITE    0.000000\n",
       "32           Nom de l'IRIS à Roubaix_HAUTS CHAMPS    0.000000\n",
       "33        Nom de l'IRIS à Roubaix_HOMMELET CENTRE    0.000000\n",
       "34          Nom de l'IRIS à Roubaix_HOMMELET NORD    0.000000\n",
       "35           Nom de l'IRIS à Roubaix_HOMMELET SUD    0.000000\n",
       "36             Nom de l'IRIS à Roubaix_HUTIN-ORAN    0.000000\n",
       "37                Nom de l'IRIS à Roubaix_JUSTICE    0.000000\n",
       "1                    Tranches d'âge (2)_0 - 2 ans    0.000000\n",
       "40            Nom de l'IRIS à Roubaix_MOULIN NORD    0.000000\n",
       "41             Nom de l'IRIS à Roubaix_MOULIN SUD    0.000000\n",
       "43        Nom de l'IRIS à Roubaix_NOUVEAU ROUBAIX    0.000000\n",
       "78                                     sexe_autre    0.000000\n",
       "\n",
       "[79 rows x 2 columns]"
      ]
     },
     "execution_count": 36,
     "metadata": {},
     "output_type": "execute_result"
    }
   ],
   "source": [
    "# importance des variables\n",
    "pd.DataFrame({'Variable':pd.DataFrame(X_test).columns,\n",
    "              'Importance':forest.feature_importances_}).sort_values('Importance', ascending=False)"
   ]
  },
  {
   "cell_type": "markdown",
   "metadata": {},
   "source": [
    "### Support vector machine (SVM)"
   ]
  },
  {
   "cell_type": "code",
   "execution_count": 37,
   "metadata": {},
   "outputs": [
    {
     "name": "stdout",
     "output_type": "stream",
     "text": [
      "Taux de classifications exactes sur le jeu d'entrainement : 0.7184308542592815\n",
      "Taux de classifications exactes sur le jeu de test: 0.6513397287462785\n",
      "                precision    recall  f1-score   support\n",
      "\n",
      "    Emprunteur       0.82      0.62      0.71      2050\n",
      "Non emprunteur       0.47      0.72      0.57       973\n",
      "\n",
      "     micro avg       0.65      0.65      0.65      3023\n",
      "     macro avg       0.65      0.67      0.64      3023\n",
      "  weighted avg       0.71      0.65      0.66      3023\n",
      "\n",
      "[[1272  778]\n",
      " [ 276  697]]\n"
     ]
    }
   ],
   "source": [
    "clf = svm.SVC(gamma='scale', decision_function_shape='ovo')\n",
    "clf.fit(X_train, y_train)\n",
    "y_pred_train = clf.predict(X_train)\n",
    "y_pred_test = clf.predict(X_test)\n",
    "print(\"Taux de classifications exactes sur le jeu d\\'entrainement :\", metrics.accuracy_score(y_train, y_pred_train)) # 71.8\n",
    "print(\"Taux de classifications exactes sur le jeu de test:\", metrics.accuracy_score(y_test, y_pred_test)) # 65.1\n",
    "print(metrics.classification_report(y_test, y_pred_test))\n",
    "print(metrics.confusion_matrix(y_test, y_pred_test))"
   ]
  },
  {
   "cell_type": "markdown",
   "metadata": {},
   "source": [
    "### XGboost"
   ]
  },
  {
   "cell_type": "code",
   "execution_count": 38,
   "metadata": {},
   "outputs": [],
   "source": [
    "y_train = pd.DataFrame(y_train)\n",
    "y_train[0] = coding(y_train[0], {'Emprunteur': 0, \n",
    "       'Non emprunteur':1}) \n",
    "xg_train = xgb.DMatrix(X_train, label= y_train.values)\n",
    "\n",
    "y_test = pd.DataFrame(y_test)\n",
    "y_test[\"activite_emprunteur\"] = coding(y_test[\"activite_emprunteur\"], {'Emprunteur': 0, \n",
    "       'Non emprunteur':1}) \n",
    "xg_test = xgb.DMatrix(X_test)"
   ]
  },
  {
   "cell_type": "code",
   "execution_count": 39,
   "metadata": {},
   "outputs": [
    {
     "name": "stdout",
     "output_type": "stream",
     "text": [
      "Taux de classifications exactes sur le jeu d'entrainement : 0.750330409708038\n",
      "Taux de classifications exactes sur le jeu de test : 0.7009593119417797\n",
      "              precision    recall  f1-score   support\n",
      "\n",
      "           0       0.81      0.74      0.77      2050\n",
      "           1       0.53      0.63      0.58       973\n",
      "\n",
      "   micro avg       0.70      0.70      0.70      3023\n",
      "   macro avg       0.67      0.68      0.67      3023\n",
      "weighted avg       0.72      0.70      0.71      3023\n",
      "\n",
      "[[1507  543]\n",
      " [ 361  612]]\n"
     ]
    }
   ],
   "source": [
    "params = {\n",
    "    \"eta\": 0.3,\n",
    "    \"max_depth\":5,\n",
    "    \"objective\": \"multi:softmax\",\n",
    "    \"silent\": 1,\n",
    "    'n_estimators': 40,\n",
    "    \"eval_metric\": \"merror\",\n",
    "    'num_class' : 2}\n",
    "\n",
    "model = xgb.train(params, xg_train, 15)\n",
    "\n",
    "    # prédictions\n",
    "y_pred_train = model.predict(xg_train)\n",
    "y_pred_test = model.predict(xg_test)\n",
    "\n",
    "print(\"Taux de classifications exactes sur le jeu d\\'entrainement :\", metrics.accuracy_score(y_train, y_pred_train)) # 75.0\n",
    "print(\"Taux de classifications exactes sur le jeu de test :\", metrics.accuracy_score(y_test, y_pred_test)) # 70.1\n",
    "print(metrics.classification_report(y_test, y_pred_test))\n",
    "print(metrics.confusion_matrix(y_test, y_pred_test))"
   ]
  },
  {
   "cell_type": "code",
   "execution_count": 40,
   "metadata": {},
   "outputs": [
    {
     "data": {
      "text/plain": [
       "<matplotlib.axes._subplots.AxesSubplot at 0x27dcf8728d0>"
      ]
     },
     "execution_count": 40,
     "metadata": {},
     "output_type": "execute_result"
    },
    {
     "data": {
      "image/png": "[encoded data removed]",
      "text/plain": [
       "<Figure size 432x288 with 1 Axes>"
      ]
     },
     "metadata": {
      "needs_background": "light"
     },
     "output_type": "display_data"
    }
   ],
   "source": [
    "# importance des variables\n",
    "plot_importance(model, max_num_features = 20)"
   ]
  },
  {
   "cell_type": "markdown",
   "metadata": {},
   "source": [
    "### Réseau de neurones"
   ]
  },
  {
   "cell_type": "code",
   "execution_count": 41,
   "metadata": {},
   "outputs": [],
   "source": [
    "dummy_y_train = to_categorical(y_train)\n",
    "dummy_y_test = to_categorical(y_test)"
   ]
  },
  {
   "cell_type": "code",
   "execution_count": 42,
   "metadata": {},
   "outputs": [
    {
     "name": "stdout",
     "output_type": "stream",
     "text": [
      "Taux de classifications exactes sur le jeu de test : 0.6850810453192193\n",
      "              precision    recall  f1-score   support\n",
      "\n",
      "           0       0.81      0.70      0.75      2050\n",
      "           1       0.51      0.65      0.57       973\n",
      "\n",
      "   micro avg       0.69      0.69      0.69      3023\n",
      "   macro avg       0.66      0.67      0.66      3023\n",
      "weighted avg       0.71      0.69      0.69      3023\n",
      "\n",
      "[[1443  607]\n",
      " [ 345  628]]\n"
     ]
    }
   ],
   "source": [
    "model = Sequential()\n",
    "model.add(Dense(32, input_dim = X_train.shape[1], activation='relu'))\n",
    "model.add(Dropout(0.4))\n",
    "model.add(Dense(32, activation='relu'))\n",
    "model.add(Dropout(0.4))\n",
    "model.add(Dense(2, activation='softmax'))\n",
    "model.compile(loss='binary_crossentropy', optimizer='adam', metrics=['accuracy'])\n",
    "model.fit(X_train, dummy_y_train, epochs=20, verbose=0)\n",
    "y_pred_test = model.predict_classes(X_test)\n",
    "print(\"Taux de classifications exactes sur le jeu de test :\", metrics.accuracy_score(y_test, y_pred_test)) # 68.5\n",
    "print(metrics.classification_report(y_test, y_pred_test))\n",
    "print(metrics.confusion_matrix(y_test, y_pred_test))\n",
    "\n",
    "K.clear_session()"
   ]
  }
 ],
 "metadata": {
  "kernelspec": {
   "display_name": "Python 3",
   "language": "python",
   "name": "python3"
  },
  "language_info": {
   "codemirror_mode": {
    "name": "ipython",
    "version": 3
   },
   "file_extension": ".py",
   "mimetype": "text/x-python",
   "name": "python",
   "nbconvert_exporter": "python",
   "pygments_lexer": "ipython3",
   "version": "3.6.8"
  }
 },
 "nbformat": 4,
 "nbformat_minor": 2
}
