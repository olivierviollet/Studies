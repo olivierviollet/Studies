{
 "cells": [
  {
   "cell_type": "markdown",
   "metadata": {},
   "source": [
    "# Modéliser la ponctualité des trains du Transilien\n",
    "\n",
    "Olivier Viollet, Avril 2019, olivier.viollet[a]gmail.com\n",
    "\n",
    "## Résumé\n",
    "\n",
    "Cette étude crée une modélisation de la ponctualité des trains du Transilien, avec une erreur moyenne absolue de 3,3 points de pourcentage.\n",
    "\n",
    "Plan :\n",
    "\n",
    "1. Objectif, préparation et exploration des données\n",
    "2. Modéliser la ponctualité\n",
    "3. Evaluer la précision de la modélisation"
   ]
  },
  {
   "cell_type": "markdown",
   "metadata": {},
   "source": [
    "## 1. Objectif, préparation et exploration des données"
   ]
  },
  {
   "cell_type": "markdown",
   "metadata": {},
   "source": [
    "Nous cherchons dans cette étude à utiliser les données collectées entre 2013 et 2018 relatives à la ponctualité des trains du réseau Transilien afin de construire un modèle capable de prédire aussi précisément que possible le degré de ponctualité d'un train donné à partir de certaines de ses caractéristiques. Un tel modèle pourrait être utile à l'entreprise afin, par exemple, d'optimiser l'utilisation de ses ressources pour améliorer la ponctualité de ses trains. Le **taux de ponctualité** est défini par la SNCF comme le \"pourcentage de voyageurs arrivant avec un retard de moins de cinq minutes à leur gare de destination\".\n",
    "\n",
    "Les données ont été mises à disposition par la SNCF sur sa plateforme d'ouverture de données, SNCF Open Data. Elles sont accessibles à l'adresse suivante : https://ressources.data.sncf.com/explore/dataset/ponctualite-mensuelle-transilien/information/?sort=date\n",
    "\n",
    "Le jeu de données, dans son état au 27 février 2019, comprend 935 observations après le retrait d'une observation dont la valeur cible - le taux de ponctualité - est manquante. Les variables prédictives sont :\n",
    "\n",
    "- la date ;\n",
    "- le type de service (RER ou Transilien) ;\n",
    "- la ligne.\n",
    "\n",
    "Nous extrayons les deux seules informations possibles à partir de la date : le mois et l'année. Le jeu de données ne nécessite pas d'autre préparation.\n",
    "\n",
    "Une exploration sommaire des données fait émerger les constats suivants :\n",
    "\n",
    "- la ponctualité, pour 50 % des observations, est comprise entre 85,5 % et 92,6 % des voyageurs, ce qui signifie une forte concentration des valeurs, confirmée par un écart-type de seulement 5,9 ;\n",
    "- la ponctualité est globalement meilleure sur le Transilien que sur le RER, d'autant que c'est sur ce dernier que l'on retrouve les quelques cas de très fort manquement à la ponctualité, hormis une exception sur le Transilien ;\n",
    "- en lien avec le précédent constat, la ponctualité la plus faible provient de la ligne A ;\n",
    "- le taux médian de ponctualité n'a pas beacoup évolué entre 2013 et 2018, mais il convient de noter que l'année 2016 a été marquée par un plus grand nombre de manquements importants à la ponctualité ;\n",
    "- la ponctualité est sensiblement plus faible en milieu et fin d'année."
   ]
  },
  {
   "cell_type": "code",
   "execution_count": 2,
   "metadata": {},
   "outputs": [],
   "source": [
    "import pandas as pd\n",
    "import numpy as np\n",
    "import matplotlib.pyplot as plt\n",
    "import seaborn as sns\n",
    "\n",
    "from sklearn.linear_model import LinearRegression\n",
    "from sklearn.metrics import mean_absolute_error, median_absolute_error\n",
    "\n",
    "from sklearn.ensemble import RandomForestRegressor\n",
    "import lightgbm as lgb\n",
    "\n",
    "# fonction de recodage\n",
    "def coding(col, codeDict):\n",
    "    colCoded = pd.Series(col, copy=True)\n",
    "    for key, value in codeDict.items():\n",
    "        colCoded.replace(key, value, inplace=True)\n",
    "    return colCoded"
   ]
  },
  {
   "cell_type": "code",
   "execution_count": 3,
   "metadata": {},
   "outputs": [
    {
     "name": "stdout",
     "output_type": "stream",
     "text": [
      "<class 'pandas.core.frame.DataFrame'>\n",
      "RangeIndex: 936 entries, 0 to 935\n",
      "Data columns (total 4 columns):\n",
      "Date                   936 non-null object\n",
      "Service                936 non-null object\n",
      "Ligne                  936 non-null object\n",
      "Taux de ponctualité    935 non-null float64\n",
      "dtypes: float64(1), object(3)\n",
      "memory usage: 29.3+ KB\n",
      "None\n"
     ]
    },
    {
     "data": {
      "text/html": [
       "<div>\n",
       "<style scoped>\n",
       "    .dataframe tbody tr th:only-of-type {\n",
       "        vertical-align: middle;\n",
       "    }\n",
       "\n",
       "    .dataframe tbody tr th {\n",
       "        vertical-align: top;\n",
       "    }\n",
       "\n",
       "    .dataframe thead th {\n",
       "        text-align: right;\n",
       "    }\n",
       "</style>\n",
       "<table border=\"1\" class=\"dataframe\">\n",
       "  <thead>\n",
       "    <tr style=\"text-align: right;\">\n",
       "      <th></th>\n",
       "      <th>Date</th>\n",
       "      <th>Service</th>\n",
       "      <th>Ligne</th>\n",
       "      <th>Taux de ponctualité</th>\n",
       "    </tr>\n",
       "  </thead>\n",
       "  <tbody>\n",
       "    <tr>\n",
       "      <th>0</th>\n",
       "      <td>2013-02</td>\n",
       "      <td>Transilien</td>\n",
       "      <td>H</td>\n",
       "      <td>92.700000</td>\n",
       "    </tr>\n",
       "    <tr>\n",
       "      <th>1</th>\n",
       "      <td>2013-02</td>\n",
       "      <td>Transilien</td>\n",
       "      <td>R</td>\n",
       "      <td>88.200000</td>\n",
       "    </tr>\n",
       "    <tr>\n",
       "      <th>2</th>\n",
       "      <td>2013-02</td>\n",
       "      <td>Transilien</td>\n",
       "      <td>P</td>\n",
       "      <td>89.400000</td>\n",
       "    </tr>\n",
       "    <tr>\n",
       "      <th>3</th>\n",
       "      <td>2013-01</td>\n",
       "      <td>Transilien</td>\n",
       "      <td>P</td>\n",
       "      <td>85.800000</td>\n",
       "    </tr>\n",
       "    <tr>\n",
       "      <th>4</th>\n",
       "      <td>2013-02</td>\n",
       "      <td>RER</td>\n",
       "      <td>E</td>\n",
       "      <td>94.700000</td>\n",
       "    </tr>\n",
       "    <tr>\n",
       "      <th>5</th>\n",
       "      <td>2013-01</td>\n",
       "      <td>RER</td>\n",
       "      <td>B</td>\n",
       "      <td>80.100000</td>\n",
       "    </tr>\n",
       "    <tr>\n",
       "      <th>6</th>\n",
       "      <td>2013-01</td>\n",
       "      <td>RER</td>\n",
       "      <td>A</td>\n",
       "      <td>83.600000</td>\n",
       "    </tr>\n",
       "    <tr>\n",
       "      <th>7</th>\n",
       "      <td>2015-02</td>\n",
       "      <td>Transilien</td>\n",
       "      <td>U</td>\n",
       "      <td>91.446172</td>\n",
       "    </tr>\n",
       "    <tr>\n",
       "      <th>8</th>\n",
       "      <td>2015-03</td>\n",
       "      <td>Transilien</td>\n",
       "      <td>U</td>\n",
       "      <td>95.922037</td>\n",
       "    </tr>\n",
       "    <tr>\n",
       "      <th>9</th>\n",
       "      <td>2015-02</td>\n",
       "      <td>Transilien</td>\n",
       "      <td>J</td>\n",
       "      <td>85.058236</td>\n",
       "    </tr>\n",
       "  </tbody>\n",
       "</table>\n",
       "</div>"
      ],
      "text/plain": [
       "      Date     Service Ligne  Taux de ponctualité\n",
       "0  2013-02  Transilien     H            92.700000\n",
       "1  2013-02  Transilien     R            88.200000\n",
       "2  2013-02  Transilien     P            89.400000\n",
       "3  2013-01  Transilien     P            85.800000\n",
       "4  2013-02         RER     E            94.700000\n",
       "5  2013-01         RER     B            80.100000\n",
       "6  2013-01         RER     A            83.600000\n",
       "7  2015-02  Transilien     U            91.446172\n",
       "8  2015-03  Transilien     U            95.922037\n",
       "9  2015-02  Transilien     J            85.058236"
      ]
     },
     "execution_count": 3,
     "metadata": {},
     "output_type": "execute_result"
    }
   ],
   "source": [
    "transilien = pd.read_csv('ponctualite-mensuelle-transilien.csv', usecols = [1,2,3,5], sep = ';', encoding = 'utf-8')\n",
    "print(transilien.info()) # une valeur manquante dans la cible\n",
    "transilien.head(10)"
   ]
  },
  {
   "cell_type": "code",
   "execution_count": 4,
   "metadata": {},
   "outputs": [
    {
     "name": "stdout",
     "output_type": "stream",
     "text": [
      "count    935.000000\n",
      "mean      88.184163\n",
      "std        5.884123\n",
      "min       58.100000\n",
      "25%       85.500000\n",
      "50%       89.200000\n",
      "75%       92.600000\n",
      "max       97.600000\n",
      "Name: Taux de ponctualité, dtype: float64\n"
     ]
    },
    {
     "data": {
      "text/plain": [
       "<matplotlib.axes._subplots.AxesSubplot at 0x11d1d9ca550>"
      ]
     },
     "execution_count": 4,
     "metadata": {},
     "output_type": "execute_result"
    },
    {
     "data": {
      "image/png": "[encoded data removed]",
      "text/plain": [
       "<Figure size 432x288 with 1 Axes>"
      ]
     },
     "metadata": {
      "needs_background": "light"
     },
     "output_type": "display_data"
    }
   ],
   "source": [
    "transilien = transilien[np.isfinite(transilien['Taux de ponctualité'])]\n",
    "print(transilien['Taux de ponctualité'].describe())\n",
    "transilien['Taux de ponctualité'].plot.hist(100)"
   ]
  },
  {
   "cell_type": "code",
   "execution_count": 5,
   "metadata": {},
   "outputs": [
    {
     "data": {
      "text/plain": [
       "2018    156\n",
       "2017    156\n",
       "2016    156\n",
       "2015    156\n",
       "2013    156\n",
       "2014    155\n",
       "Name: Année, dtype: int64"
      ]
     },
     "execution_count": 5,
     "metadata": {},
     "output_type": "execute_result"
    }
   ],
   "source": [
    "transilien['Date'] = pd.to_datetime(transilien['Date'], utc = True)\n",
    "transilien['Année'] = transilien['Date'].dt.year\n",
    "pd.value_counts(transilien.Année)"
   ]
  },
  {
   "cell_type": "code",
   "execution_count": 6,
   "metadata": {},
   "outputs": [],
   "source": [
    "transilien['Mois'] = transilien['Date'].dt.month\n",
    "transilien['Mois'] = transilien['Mois'].astype('category')\n",
    "transilien.drop(columns = ['Date'], inplace=True)"
   ]
  },
  {
   "cell_type": "code",
   "execution_count": 7,
   "metadata": {},
   "outputs": [
    {
     "data": {
      "text/plain": [
       "<seaborn.axisgrid.FacetGrid at 0x11d1dd2dd30>"
      ]
     },
     "execution_count": 7,
     "metadata": {},
     "output_type": "execute_result"
    },
    {
     "data": {
      "image/png": "[encoded data removed]",
      "text/plain": [
       "<Figure size 360x360 with 1 Axes>"
      ]
     },
     "metadata": {
      "needs_background": "light"
     },
     "output_type": "display_data"
    },
    {
     "data": {
      "image/png": "[encoded data removed]",
      "text/plain": [
       "<Figure size 360x360 with 1 Axes>"
      ]
     },
     "metadata": {
      "needs_background": "light"
     },
     "output_type": "display_data"
    },
    {
     "data": {
      "image/png": "[encoded data removed]",
      "text/plain": [
       "<Figure size 360x360 with 1 Axes>"
      ]
     },
     "metadata": {
      "needs_background": "light"
     },
     "output_type": "display_data"
    },
    {
     "data": {
      "image/png": "[encoded data removed]",
      "text/plain": [
       "<Figure size 360x360 with 1 Axes>"
      ]
     },
     "metadata": {
      "needs_background": "light"
     },
     "output_type": "display_data"
    }
   ],
   "source": [
    "sns.catplot(x = 'Service', y = 'Taux de ponctualité', kind = 'boxen', data = transilien)\n",
    "sns.catplot(x = 'Ligne', y = 'Taux de ponctualité', kind = 'boxen', data = transilien)\n",
    "sns.catplot(x = 'Année', y = 'Taux de ponctualité', kind = 'boxen', data = transilien)\n",
    "sns.catplot(x = 'Mois', y = 'Taux de ponctualité', kind = 'boxen', data = transilien)"
   ]
  },
  {
   "cell_type": "code",
   "execution_count": 8,
   "metadata": {},
   "outputs": [
    {
     "name": "stdout",
     "output_type": "stream",
     "text": [
      "<class 'pandas.core.frame.DataFrame'>\n",
      "Int64Index: 935 entries, 0 to 935\n",
      "Data columns (total 5 columns):\n",
      "Service                935 non-null object\n",
      "Ligne                  935 non-null object\n",
      "Taux de ponctualité    935 non-null float64\n",
      "Année                  935 non-null int64\n",
      "Mois                   935 non-null category\n",
      "dtypes: category(1), float64(1), int64(1), object(2)\n",
      "memory usage: 77.8+ KB\n"
     ]
    },
    {
     "data": {
      "text/html": [
       "<div>\n",
       "<style scoped>\n",
       "    .dataframe tbody tr th:only-of-type {\n",
       "        vertical-align: middle;\n",
       "    }\n",
       "\n",
       "    .dataframe tbody tr th {\n",
       "        vertical-align: top;\n",
       "    }\n",
       "\n",
       "    .dataframe thead th {\n",
       "        text-align: right;\n",
       "    }\n",
       "</style>\n",
       "<table border=\"1\" class=\"dataframe\">\n",
       "  <thead>\n",
       "    <tr style=\"text-align: right;\">\n",
       "      <th></th>\n",
       "      <th>Service</th>\n",
       "      <th>Ligne</th>\n",
       "      <th>Taux de ponctualité</th>\n",
       "      <th>Année</th>\n",
       "      <th>Mois</th>\n",
       "    </tr>\n",
       "  </thead>\n",
       "  <tbody>\n",
       "    <tr>\n",
       "      <th>0</th>\n",
       "      <td>Transilien</td>\n",
       "      <td>H</td>\n",
       "      <td>92.700000</td>\n",
       "      <td>2013</td>\n",
       "      <td>2</td>\n",
       "    </tr>\n",
       "    <tr>\n",
       "      <th>1</th>\n",
       "      <td>Transilien</td>\n",
       "      <td>R</td>\n",
       "      <td>88.200000</td>\n",
       "      <td>2013</td>\n",
       "      <td>2</td>\n",
       "    </tr>\n",
       "    <tr>\n",
       "      <th>2</th>\n",
       "      <td>Transilien</td>\n",
       "      <td>P</td>\n",
       "      <td>89.400000</td>\n",
       "      <td>2013</td>\n",
       "      <td>2</td>\n",
       "    </tr>\n",
       "    <tr>\n",
       "      <th>3</th>\n",
       "      <td>Transilien</td>\n",
       "      <td>P</td>\n",
       "      <td>85.800000</td>\n",
       "      <td>2013</td>\n",
       "      <td>1</td>\n",
       "    </tr>\n",
       "    <tr>\n",
       "      <th>4</th>\n",
       "      <td>RER</td>\n",
       "      <td>E</td>\n",
       "      <td>94.700000</td>\n",
       "      <td>2013</td>\n",
       "      <td>2</td>\n",
       "    </tr>\n",
       "    <tr>\n",
       "      <th>5</th>\n",
       "      <td>RER</td>\n",
       "      <td>B</td>\n",
       "      <td>80.100000</td>\n",
       "      <td>2013</td>\n",
       "      <td>1</td>\n",
       "    </tr>\n",
       "    <tr>\n",
       "      <th>6</th>\n",
       "      <td>RER</td>\n",
       "      <td>A</td>\n",
       "      <td>83.600000</td>\n",
       "      <td>2013</td>\n",
       "      <td>1</td>\n",
       "    </tr>\n",
       "    <tr>\n",
       "      <th>7</th>\n",
       "      <td>Transilien</td>\n",
       "      <td>U</td>\n",
       "      <td>91.446172</td>\n",
       "      <td>2015</td>\n",
       "      <td>2</td>\n",
       "    </tr>\n",
       "    <tr>\n",
       "      <th>8</th>\n",
       "      <td>Transilien</td>\n",
       "      <td>U</td>\n",
       "      <td>95.922037</td>\n",
       "      <td>2015</td>\n",
       "      <td>3</td>\n",
       "    </tr>\n",
       "    <tr>\n",
       "      <th>9</th>\n",
       "      <td>Transilien</td>\n",
       "      <td>J</td>\n",
       "      <td>85.058236</td>\n",
       "      <td>2015</td>\n",
       "      <td>2</td>\n",
       "    </tr>\n",
       "  </tbody>\n",
       "</table>\n",
       "</div>"
      ],
      "text/plain": [
       "      Service Ligne  Taux de ponctualité  Année Mois\n",
       "0  Transilien     H            92.700000   2013    2\n",
       "1  Transilien     R            88.200000   2013    2\n",
       "2  Transilien     P            89.400000   2013    2\n",
       "3  Transilien     P            85.800000   2013    1\n",
       "4         RER     E            94.700000   2013    2\n",
       "5         RER     B            80.100000   2013    1\n",
       "6         RER     A            83.600000   2013    1\n",
       "7  Transilien     U            91.446172   2015    2\n",
       "8  Transilien     U            95.922037   2015    3\n",
       "9  Transilien     J            85.058236   2015    2"
      ]
     },
     "execution_count": 8,
     "metadata": {},
     "output_type": "execute_result"
    }
   ],
   "source": [
    "transilien.info()\n",
    "transilien.head(10)"
   ]
  },
  {
   "cell_type": "markdown",
   "metadata": {},
   "source": [
    "## 2. Modéliser la ponctualité\n",
    "\n",
    "### Jeux de données et mesure de performance\n",
    "\n",
    "Trois jeux de données sont créés à partir du jeu initial : \n",
    "- un jeu de **test**, qui correspond à l'année 2018 ; \n",
    "- un jeu de **validation**, qui correspond à l'année 2017 ;\n",
    "- un jeu d'**entrainement**, pour les années 2013-2016.\n",
    "\n",
    "En effet, dès lors que le jeu de données comporte une dimension temporel, il convient de ne pas créer les jeux de données de manière aléatoire, puisque l'objectif réel du modèle est de prédire la ponctualité durant les prochaines années.\n",
    "\n",
    "La mesure de performance retenue ici est l'**erreur moyenne absolue**."
   ]
  },
  {
   "cell_type": "code",
   "execution_count": 9,
   "metadata": {},
   "outputs": [
    {
     "name": "stderr",
     "output_type": "stream",
     "text": [
      "C:\\Users\\olivi\\Anaconda3\\envs\\dl\\lib\\site-packages\\pandas\\core\\frame.py:3940: SettingWithCopyWarning: \n",
      "A value is trying to be set on a copy of a slice from a DataFrame\n",
      "\n",
      "See the caveats in the documentation: http://pandas.pydata.org/pandas-docs/stable/indexing.html#indexing-view-versus-copy\n",
      "  errors=errors)\n"
     ]
    }
   ],
   "source": [
    "# test\n",
    "test = transilien[transilien['Année'] == 2018]\n",
    "y_test = test['Taux de ponctualité']\n",
    "test.drop(columns = ['Taux de ponctualité'], inplace=True)\n",
    "X_test = pd.get_dummies(test)"
   ]
  },
  {
   "cell_type": "code",
   "execution_count": 10,
   "metadata": {},
   "outputs": [],
   "source": [
    "# validation \n",
    "validation = transilien[transilien['Année'] == 2017]\n",
    "y_val = validation['Taux de ponctualité']\n",
    "validation.drop(columns = ['Taux de ponctualité'], inplace=True)\n",
    "X_val = pd.get_dummies(validation)"
   ]
  },
  {
   "cell_type": "code",
   "execution_count": 11,
   "metadata": {},
   "outputs": [],
   "source": [
    "# entrainement \n",
    "training = transilien[transilien['Année'] != 2017]\n",
    "training = training[training['Année'] != 2018]\n",
    "y_train = training['Taux de ponctualité']\n",
    "training.drop(columns = ['Taux de ponctualité'], inplace=True)\n",
    "X_train = pd.get_dummies(training)"
   ]
  },
  {
   "cell_type": "markdown",
   "metadata": {},
   "source": [
    "### Résultats des modèles\n",
    "\n",
    "La manière la plus simple de prédire le taux de ponctualité serait de **prédire la moyenne ou la médiane** des observations passées pour chacune des observations futures. Dans ce cas, l'erreur moyenne absolue avoisine **4.4 points de pourcentage**, ce qui constitue un repère pour comparer la performance des modélisations plus sophistiquées.\n",
    "\n",
    "Ainsi, l'erreur moyenne de la **régression linéaire** s'élève à **3.2 points**, que l'on prenne la valeur brute ou le logarithme naturel de la variable cible.\n",
    "\n",
    "La **forêt aléatoire**, après mesures de régularisation pour réduire le sur-apprentissage, commet une erreur moyenne de **2.7 points**. \n",
    "\n",
    "Enfin, le ***light gradient boosting machine*** réalise les meilleures prédictions puisque son erreur moyenne tombe à **2.4 points**."
   ]
  },
  {
   "cell_type": "code",
   "execution_count": 14,
   "metadata": {},
   "outputs": [
    {
     "name": "stdout",
     "output_type": "stream",
     "text": [
      "       Taux de ponctualité\n",
      "count           623.000000\n",
      "mean             88.221322\n",
      "std               6.037617\n",
      "min              58.100000\n",
      "25%              85.500000\n",
      "50%              89.100000\n",
      "75%              92.793089\n",
      "max              96.900000\n",
      "4.480744915950632\n",
      "4.387485905425316\n"
     ]
    }
   ],
   "source": [
    "# prédictions simples\n",
    "y_train = pd.DataFrame(y_train)\n",
    "y_val = pd.DataFrame(y_val)\n",
    "print(y_train.describe())\n",
    "y_val['predictions_mean'] = 88.2 # prédire la moyenne pour toutes les observations\n",
    "y_val['predictions_median'] = 89.1 # prédire la médiane pour toutes les observations\n",
    "print(mean_absolute_error(y_val['Taux de ponctualité'], y_val['predictions_mean']))\n",
    "print(mean_absolute_error(y_val['Taux de ponctualité'], y_val['predictions_median']))"
   ]
  },
  {
   "cell_type": "code",
   "execution_count": 16,
   "metadata": {},
   "outputs": [
    {
     "name": "stderr",
     "output_type": "stream",
     "text": [
      "C:\\Users\\olivi\\Anaconda3\\envs\\dl\\lib\\site-packages\\pandas\\core\\frame.py:3940: SettingWithCopyWarning: \n",
      "A value is trying to be set on a copy of a slice from a DataFrame\n",
      "\n",
      "See the caveats in the documentation: http://pandas.pydata.org/pandas-docs/stable/indexing.html#indexing-view-versus-copy\n",
      "  errors=errors)\n"
     ]
    }
   ],
   "source": [
    "# recréer le jeu de validation\n",
    "validation = transilien[transilien['Année'] == 2017]\n",
    "y_val = validation['Taux de ponctualité']\n",
    "validation.drop(columns = ['Taux de ponctualité'], inplace=True)\n",
    "X_val = pd.get_dummies(validation)"
   ]
  },
  {
   "cell_type": "markdown",
   "metadata": {},
   "source": [
    "#### Régression linéaire"
   ]
  },
  {
   "cell_type": "code",
   "execution_count": 17,
   "metadata": {},
   "outputs": [
    {
     "name": "stdout",
     "output_type": "stream",
     "text": [
      "Erreur moyenne sur le jeu d'entrainement :  2.436458702798556\n",
      "Erreur moyenne sur le jeu de validation :  3.1882159867576925\n"
     ]
    }
   ],
   "source": [
    "# régression linéaire\n",
    "reg = LinearRegression().fit(X_train, y_train)\n",
    "y_train_pred = reg.predict(X_train)\n",
    "print('Erreur moyenne sur le jeu d\\'entrainement : ', mean_absolute_error(y_train, y_train_pred)) # 2.4\n",
    "\n",
    "y_val_pred = reg.predict(X_val)\n",
    "print('Erreur moyenne sur le jeu de validation : ', mean_absolute_error(y_val, y_val_pred)) # 3.2"
   ]
  },
  {
   "cell_type": "code",
   "execution_count": 18,
   "metadata": {},
   "outputs": [
    {
     "name": "stdout",
     "output_type": "stream",
     "text": [
      "Erreur moyenne sur le jeu d'entrainement :  2.457060043002903\n",
      "Erreur moyenne sur le jeu de validation :  3.1863912355016777\n"
     ]
    }
   ],
   "source": [
    "    # régression linéaire avec le logarithme naturel\n",
    "y_train_log = y_train + 0.1\n",
    "y_train_log = np.log(y_train_log)\n",
    "reg_log = LinearRegression().fit(X_train, y_train_log)\n",
    "y_train_pred = reg_log.predict(X_train)\n",
    "print('Erreur moyenne sur le jeu d\\'entrainement : ', mean_absolute_error(y_train, np.exp(y_train_pred))) # 2.4\n",
    "\n",
    "y_val_pred = reg_log.predict(X_val)\n",
    "print('Erreur moyenne sur le jeu de validation : ', mean_absolute_error(y_val,np.exp(y_val_pred))) # 3.2"
   ]
  },
  {
   "cell_type": "markdown",
   "metadata": {},
   "source": [
    "#### Forêt aléatoire"
   ]
  },
  {
   "cell_type": "code",
   "execution_count": 19,
   "metadata": {},
   "outputs": [
    {
     "name": "stderr",
     "output_type": "stream",
     "text": [
      "C:\\Users\\olivi\\Anaconda3\\envs\\dl\\lib\\site-packages\\sklearn\\ensemble\\forest.py:246: FutureWarning: The default value of n_estimators will change from 10 in version 0.20 to 100 in 0.22.\n",
      "  \"10 in version 0.20 to 100 in 0.22.\", FutureWarning)\n",
      "C:\\Users\\olivi\\Anaconda3\\envs\\dl\\lib\\site-packages\\ipykernel_launcher.py:3: DataConversionWarning: A column-vector y was passed when a 1d array was expected. Please change the shape of y to (n_samples,), for example using ravel().\n",
      "  This is separate from the ipykernel package so we can avoid doing imports until\n"
     ]
    },
    {
     "name": "stdout",
     "output_type": "stream",
     "text": [
      "Erreur moyenne sur le jeu d'entrainement :  0.8270999704741564\n",
      "Erreur moyenne sur le jeu de validation :  2.8694537128339745\n"
     ]
    }
   ],
   "source": [
    "# forêt aléatoire\n",
    "forest = RandomForestRegressor(criterion = 'mae',random_state = 1, n_jobs = -1)\n",
    "forest.fit(X_train, y_train)\n",
    "y_train_pred = forest.predict(X_train)\n",
    "y_val_pred = forest.predict(X_val)\n",
    "\n",
    "print(\"Erreur moyenne sur le jeu d\\'entrainement : \", mean_absolute_error(y_train, y_train_pred)) # 0.8\n",
    "print(\"Erreur moyenne sur le jeu de validation : \", mean_absolute_error(y_val, y_val_pred)) # 2.9"
   ]
  },
  {
   "cell_type": "code",
   "execution_count": 20,
   "metadata": {},
   "outputs": [
    {
     "name": "stderr",
     "output_type": "stream",
     "text": [
      "C:\\Users\\olivi\\Anaconda3\\envs\\dl\\lib\\site-packages\\sklearn\\ensemble\\forest.py:246: FutureWarning: The default value of n_estimators will change from 10 in version 0.20 to 100 in 0.22.\n",
      "  \"10 in version 0.20 to 100 in 0.22.\", FutureWarning)\n",
      "C:\\Users\\olivi\\Anaconda3\\envs\\dl\\lib\\site-packages\\ipykernel_launcher.py:3: DataConversionWarning: A column-vector y was passed when a 1d array was expected. Please change the shape of y to (n_samples,), for example using ravel().\n",
      "  This is separate from the ipykernel package so we can avoid doing imports until\n"
     ]
    },
    {
     "name": "stdout",
     "output_type": "stream",
     "text": [
      "Erreur moyenne sur le jeu d'entrainement :  1.4531355218848236\n",
      "Erreur moyenne sur le jeu de validation :  2.6980825149144243\n"
     ]
    }
   ],
   "source": [
    "forest = RandomForestRegressor(criterion = 'mae', min_samples_split=5, max_features = 0.6, max_depth =16,\n",
    "                               random_state = 1, n_jobs = -1)\n",
    "forest.fit(X_train, y_train)\n",
    "y_train_pred = forest.predict(X_train)\n",
    "y_val_pred = forest.predict(X_val)\n",
    "\n",
    "print(\"Erreur moyenne sur le jeu d\\'entrainement : \", mean_absolute_error(y_train, y_train_pred)) # 1.4\n",
    "print(\"Erreur moyenne sur le jeu de validation : \", mean_absolute_error(y_val, y_val_pred)) # 2.7"
   ]
  },
  {
   "cell_type": "markdown",
   "metadata": {},
   "source": [
    "#### Light gradient boosting machine"
   ]
  },
  {
   "cell_type": "code",
   "execution_count": 21,
   "metadata": {},
   "outputs": [],
   "source": [
    "# light GBM \n",
    "y_train = pd.DataFrame(y_train)\n",
    "\n",
    "params = {\"objective\" : \"regression\",\n",
    "          \"metric\" : \"mae\",\n",
    "          'boosting_type' : 'gbdt',\n",
    "          \"num_leaves\" : 30,\n",
    "          \"learning_rate\" : 0.1,\n",
    "          \"bagging_fraction\" : 0.7,\n",
    "          \"feature_fraction\" : 0.7,\n",
    "          \"bagging_seed\" : 420,\n",
    "          \"verbosity\" : -1}\n",
    "\n",
    "d_train = lgb.Dataset(X_train, label = y_train[\"Taux de ponctualité\"])"
   ]
  },
  {
   "cell_type": "code",
   "execution_count": 22,
   "metadata": {},
   "outputs": [
    {
     "name": "stdout",
     "output_type": "stream",
     "text": [
      "Erreur moyenne sur le jeu d'entrainement :  1.7312601039649245\n",
      "Erreur moyenne sur le jeu de validation :  2.454312035258635\n"
     ]
    }
   ],
   "source": [
    "clf = lgb.train(params, d_train, 100)\n",
    "y_train_pred = clf.predict(X_train)\n",
    "print(\"Erreur moyenne sur le jeu d\\'entrainement : \", mean_absolute_error(y_train, y_train_pred)) # 1.7\n",
    "\n",
    "y_val_pred = clf.predict(X_val)\n",
    "print('Erreur moyenne sur le jeu de validation : ', mean_absolute_error(y_val, y_val_pred)) # 2.4"
   ]
  },
  {
   "cell_type": "markdown",
   "metadata": {},
   "source": [
    "## 3. Evaluer la précision de la modélisation\n",
    "\n",
    "Afin d'évaluer la capacité de généralisation des modèles, un jeu d'entrainement final est recréé, comprenant le jeu d'entrainement ci-dessus ainsi que le jeu ayant servi à la validation ; autrement dit, toutes les années antérieures à 2018, laquelle est dédiée au test.\n",
    "\n",
    "Reprenant les hyperparamètres des modèles ci-dessus, et les entrainant une dernière fois sur le jeu d'entrainement, il apparait que la performance globale des trois algorithmes est identique, avec une erreur moyenne absolue d'environ **3.3 points de pourcentage**, même si les modèles commettent, dans le détail, des erreurs différentes. Cela signifie que si, pour une observation donnée, à partir des variables explicatives, le modèle prédit - par exemple - \"90\", le taux réel de ponctualité sera en moyenne compris entre 86.7 % et 93.3 % ; il peut excéder ces bornes, auquel cas l'erreur commise sur une autre observation sera moindre.\n",
    "\n",
    "Les modèles les plus simples étant les plus aisés à déployer en production, il peut être recommandé d'utiliser la **régression linéaire**, sans besoin de transformer la variable cible."
   ]
  },
  {
   "cell_type": "code",
   "execution_count": 23,
   "metadata": {},
   "outputs": [
    {
     "name": "stderr",
     "output_type": "stream",
     "text": [
      "C:\\Users\\olivi\\Anaconda3\\envs\\dl\\lib\\site-packages\\pandas\\core\\frame.py:3940: SettingWithCopyWarning: \n",
      "A value is trying to be set on a copy of a slice from a DataFrame\n",
      "\n",
      "See the caveats in the documentation: http://pandas.pydata.org/pandas-docs/stable/indexing.html#indexing-view-versus-copy\n",
      "  errors=errors)\n"
     ]
    }
   ],
   "source": [
    "# jeu complet d'entrainement \n",
    "training = transilien[transilien['Année'] != 2018]\n",
    "y_train = training['Taux de ponctualité']\n",
    "training.drop(columns = ['Taux de ponctualité'], inplace=True)\n",
    "X_train = pd.get_dummies(training)"
   ]
  },
  {
   "cell_type": "markdown",
   "metadata": {},
   "source": [
    "#### Régression linéaire"
   ]
  },
  {
   "cell_type": "code",
   "execution_count": 24,
   "metadata": {},
   "outputs": [
    {
     "name": "stdout",
     "output_type": "stream",
     "text": [
      "Erreur moyenne sur le jeu d'entrainement :  2.5776209400624364\n",
      "Erreur moyenne sur le jeu de test :  3.254712982396139\n"
     ]
    }
   ],
   "source": [
    "    # régression linéaire\n",
    "reg = LinearRegression().fit(X_train, y_train)\n",
    "y_train_pred = reg.predict(X_train)\n",
    "print('Erreur moyenne sur le jeu d\\'entrainement : ', mean_absolute_error(y_train, y_train_pred)) # 2.6\n",
    "\n",
    "y_test_pred = reg.predict(X_test)\n",
    "print('Erreur moyenne sur le jeu de test : ', mean_absolute_error(y_test,y_test_pred)) # 3.3"
   ]
  },
  {
   "cell_type": "markdown",
   "metadata": {},
   "source": [
    "#### Forêt aléatoire"
   ]
  },
  {
   "cell_type": "code",
   "execution_count": 25,
   "metadata": {},
   "outputs": [
    {
     "name": "stderr",
     "output_type": "stream",
     "text": [
      "C:\\Users\\olivi\\Anaconda3\\envs\\dl\\lib\\site-packages\\sklearn\\ensemble\\forest.py:246: FutureWarning: The default value of n_estimators will change from 10 in version 0.20 to 100 in 0.22.\n",
      "  \"10 in version 0.20 to 100 in 0.22.\", FutureWarning)\n"
     ]
    },
    {
     "name": "stdout",
     "output_type": "stream",
     "text": [
      "Erreur moyenne sur le jeu d'entrainement :  1.54210697852387\n",
      "Erreur moyenne sur le jeu de test :  3.3388762675767296\n"
     ]
    }
   ],
   "source": [
    "forest = RandomForestRegressor(criterion = 'mae', min_samples_split=5, max_features = 0.6, max_depth =16,\n",
    "                               random_state = 1, n_jobs = -1)\n",
    "forest.fit(X_train, y_train)\n",
    "y_train_pred = forest.predict(X_train)\n",
    "y_test_pred = forest.predict(X_test)\n",
    "\n",
    "print(\"Erreur moyenne sur le jeu d\\'entrainement : \", mean_absolute_error(y_train, y_train_pred)) # 1.5\n",
    "print(\"Erreur moyenne sur le jeu de test : \", mean_absolute_error(y_test, y_test_pred)) # 3.3"
   ]
  },
  {
   "cell_type": "code",
   "execution_count": 26,
   "metadata": {},
   "outputs": [
    {
     "data": {
      "text/html": [
       "<div>\n",
       "<style scoped>\n",
       "    .dataframe tbody tr th:only-of-type {\n",
       "        vertical-align: middle;\n",
       "    }\n",
       "\n",
       "    .dataframe tbody tr th {\n",
       "        vertical-align: top;\n",
       "    }\n",
       "\n",
       "    .dataframe thead th {\n",
       "        text-align: right;\n",
       "    }\n",
       "</style>\n",
       "<table border=\"1\" class=\"dataframe\">\n",
       "  <thead>\n",
       "    <tr style=\"text-align: right;\">\n",
       "      <th></th>\n",
       "      <th>Variable</th>\n",
       "      <th>Importance</th>\n",
       "    </tr>\n",
       "  </thead>\n",
       "  <tbody>\n",
       "    <tr>\n",
       "      <th>3</th>\n",
       "      <td>Ligne_A</td>\n",
       "      <td>0.183504</td>\n",
       "    </tr>\n",
       "    <tr>\n",
       "      <th>0</th>\n",
       "      <td>Année</td>\n",
       "      <td>0.136840</td>\n",
       "    </tr>\n",
       "    <tr>\n",
       "      <th>8</th>\n",
       "      <td>Ligne_H</td>\n",
       "      <td>0.084389</td>\n",
       "    </tr>\n",
       "    <tr>\n",
       "      <th>7</th>\n",
       "      <td>Ligne_E</td>\n",
       "      <td>0.082415</td>\n",
       "    </tr>\n",
       "    <tr>\n",
       "      <th>15</th>\n",
       "      <td>Ligne_U</td>\n",
       "      <td>0.058875</td>\n",
       "    </tr>\n",
       "    <tr>\n",
       "      <th>12</th>\n",
       "      <td>Ligne_N</td>\n",
       "      <td>0.047011</td>\n",
       "    </tr>\n",
       "    <tr>\n",
       "      <th>23</th>\n",
       "      <td>Mois_8</td>\n",
       "      <td>0.046355</td>\n",
       "    </tr>\n",
       "    <tr>\n",
       "      <th>26</th>\n",
       "      <td>Mois_11</td>\n",
       "      <td>0.037938</td>\n",
       "    </tr>\n",
       "    <tr>\n",
       "      <th>20</th>\n",
       "      <td>Mois_5</td>\n",
       "      <td>0.025990</td>\n",
       "    </tr>\n",
       "    <tr>\n",
       "      <th>21</th>\n",
       "      <td>Mois_6</td>\n",
       "      <td>0.023749</td>\n",
       "    </tr>\n",
       "    <tr>\n",
       "      <th>6</th>\n",
       "      <td>Ligne_D</td>\n",
       "      <td>0.021515</td>\n",
       "    </tr>\n",
       "    <tr>\n",
       "      <th>27</th>\n",
       "      <td>Mois_12</td>\n",
       "      <td>0.021397</td>\n",
       "    </tr>\n",
       "    <tr>\n",
       "      <th>18</th>\n",
       "      <td>Mois_3</td>\n",
       "      <td>0.019745</td>\n",
       "    </tr>\n",
       "    <tr>\n",
       "      <th>5</th>\n",
       "      <td>Ligne_C</td>\n",
       "      <td>0.018647</td>\n",
       "    </tr>\n",
       "    <tr>\n",
       "      <th>17</th>\n",
       "      <td>Mois_2</td>\n",
       "      <td>0.017808</td>\n",
       "    </tr>\n",
       "    <tr>\n",
       "      <th>22</th>\n",
       "      <td>Mois_7</td>\n",
       "      <td>0.017597</td>\n",
       "    </tr>\n",
       "    <tr>\n",
       "      <th>16</th>\n",
       "      <td>Mois_1</td>\n",
       "      <td>0.017025</td>\n",
       "    </tr>\n",
       "    <tr>\n",
       "      <th>24</th>\n",
       "      <td>Mois_9</td>\n",
       "      <td>0.016973</td>\n",
       "    </tr>\n",
       "    <tr>\n",
       "      <th>14</th>\n",
       "      <td>Ligne_R</td>\n",
       "      <td>0.016911</td>\n",
       "    </tr>\n",
       "    <tr>\n",
       "      <th>13</th>\n",
       "      <td>Ligne_P</td>\n",
       "      <td>0.016649</td>\n",
       "    </tr>\n",
       "    <tr>\n",
       "      <th>25</th>\n",
       "      <td>Mois_10</td>\n",
       "      <td>0.016210</td>\n",
       "    </tr>\n",
       "    <tr>\n",
       "      <th>10</th>\n",
       "      <td>Ligne_K</td>\n",
       "      <td>0.013945</td>\n",
       "    </tr>\n",
       "    <tr>\n",
       "      <th>19</th>\n",
       "      <td>Mois_4</td>\n",
       "      <td>0.013822</td>\n",
       "    </tr>\n",
       "    <tr>\n",
       "      <th>2</th>\n",
       "      <td>Service_Transilien</td>\n",
       "      <td>0.013629</td>\n",
       "    </tr>\n",
       "    <tr>\n",
       "      <th>9</th>\n",
       "      <td>Ligne_J</td>\n",
       "      <td>0.010439</td>\n",
       "    </tr>\n",
       "    <tr>\n",
       "      <th>11</th>\n",
       "      <td>Ligne_L</td>\n",
       "      <td>0.010150</td>\n",
       "    </tr>\n",
       "    <tr>\n",
       "      <th>1</th>\n",
       "      <td>Service_RER</td>\n",
       "      <td>0.005364</td>\n",
       "    </tr>\n",
       "    <tr>\n",
       "      <th>4</th>\n",
       "      <td>Ligne_B</td>\n",
       "      <td>0.005110</td>\n",
       "    </tr>\n",
       "  </tbody>\n",
       "</table>\n",
       "</div>"
      ],
      "text/plain": [
       "              Variable  Importance\n",
       "3              Ligne_A    0.183504\n",
       "0                Année    0.136840\n",
       "8              Ligne_H    0.084389\n",
       "7              Ligne_E    0.082415\n",
       "15             Ligne_U    0.058875\n",
       "12             Ligne_N    0.047011\n",
       "23              Mois_8    0.046355\n",
       "26             Mois_11    0.037938\n",
       "20              Mois_5    0.025990\n",
       "21              Mois_6    0.023749\n",
       "6              Ligne_D    0.021515\n",
       "27             Mois_12    0.021397\n",
       "18              Mois_3    0.019745\n",
       "5              Ligne_C    0.018647\n",
       "17              Mois_2    0.017808\n",
       "22              Mois_7    0.017597\n",
       "16              Mois_1    0.017025\n",
       "24              Mois_9    0.016973\n",
       "14             Ligne_R    0.016911\n",
       "13             Ligne_P    0.016649\n",
       "25             Mois_10    0.016210\n",
       "10             Ligne_K    0.013945\n",
       "19              Mois_4    0.013822\n",
       "2   Service_Transilien    0.013629\n",
       "9              Ligne_J    0.010439\n",
       "11             Ligne_L    0.010150\n",
       "1          Service_RER    0.005364\n",
       "4              Ligne_B    0.005110"
      ]
     },
     "execution_count": 26,
     "metadata": {},
     "output_type": "execute_result"
    }
   ],
   "source": [
    "# importance des variables\n",
    "pd.DataFrame({'Variable':pd.DataFrame(X_test).columns,'Importance':forest.feature_importances_}).sort_values('Importance', ascending=False)"
   ]
  },
  {
   "cell_type": "markdown",
   "metadata": {},
   "source": [
    "#### Light gradient boosting machine"
   ]
  },
  {
   "cell_type": "code",
   "execution_count": 27,
   "metadata": {},
   "outputs": [
    {
     "name": "stdout",
     "output_type": "stream",
     "text": [
      "Erreur moyenne sur le jeu d'entrainement :  1.7393162749281583\n",
      "Erreur moyenne sur le jeu de test :  3.2790448455495396\n"
     ]
    }
   ],
   "source": [
    "# light GBM \n",
    "y_train = pd.DataFrame(y_train)\n",
    "\n",
    "params = {\"objective\" : \"regression\",\n",
    "          \"metric\" : \"mae\",\n",
    "          'boosting_type' : 'gbdt',\n",
    "          \"num_leaves\" : 30,\n",
    "          \"learning_rate\" : 0.1,\n",
    "          \"bagging_fraction\" : 0.7,\n",
    "          \"feature_fraction\" : 0.7,\n",
    "          \"bagging_seed\" : 420,\n",
    "          \"verbosity\" : -1}\n",
    "\n",
    "d_train = lgb.Dataset(X_train, label = y_train[\"Taux de ponctualité\"])\n",
    "\n",
    "clf = lgb.train(params, d_train, 100)\n",
    "y_train_pred = clf.predict(X_train)\n",
    "print(\"Erreur moyenne sur le jeu d\\'entrainement : \", mean_absolute_error(y_train, y_train_pred)) # 1.7\n",
    "\n",
    "y_test_pred = clf.predict(X_test)\n",
    "print('Erreur moyenne sur le jeu de test : ', mean_absolute_error(y_test, y_test_pred)) # 3.3"
   ]
  },
  {
   "cell_type": "code",
   "execution_count": 28,
   "metadata": {},
   "outputs": [
    {
     "data": {
      "text/html": [
       "<div>\n",
       "<style scoped>\n",
       "    .dataframe tbody tr th:only-of-type {\n",
       "        vertical-align: middle;\n",
       "    }\n",
       "\n",
       "    .dataframe tbody tr th {\n",
       "        vertical-align: top;\n",
       "    }\n",
       "\n",
       "    .dataframe thead th {\n",
       "        text-align: right;\n",
       "    }\n",
       "</style>\n",
       "<table border=\"1\" class=\"dataframe\">\n",
       "  <thead>\n",
       "    <tr style=\"text-align: right;\">\n",
       "      <th></th>\n",
       "      <th>Importance</th>\n",
       "      <th>Variable</th>\n",
       "    </tr>\n",
       "  </thead>\n",
       "  <tbody>\n",
       "    <tr>\n",
       "      <th>27</th>\n",
       "      <td>718</td>\n",
       "      <td>Année</td>\n",
       "    </tr>\n",
       "    <tr>\n",
       "      <th>26</th>\n",
       "      <td>219</td>\n",
       "      <td>Service_RER</td>\n",
       "    </tr>\n",
       "    <tr>\n",
       "      <th>25</th>\n",
       "      <td>70</td>\n",
       "      <td>Ligne_K</td>\n",
       "    </tr>\n",
       "    <tr>\n",
       "      <th>24</th>\n",
       "      <td>68</td>\n",
       "      <td>Mois_8</td>\n",
       "    </tr>\n",
       "    <tr>\n",
       "      <th>23</th>\n",
       "      <td>64</td>\n",
       "      <td>Ligne_R</td>\n",
       "    </tr>\n",
       "    <tr>\n",
       "      <th>22</th>\n",
       "      <td>64</td>\n",
       "      <td>Ligne_A</td>\n",
       "    </tr>\n",
       "    <tr>\n",
       "      <th>21</th>\n",
       "      <td>61</td>\n",
       "      <td>Service_Transilien</td>\n",
       "    </tr>\n",
       "    <tr>\n",
       "      <th>20</th>\n",
       "      <td>59</td>\n",
       "      <td>Mois_12</td>\n",
       "    </tr>\n",
       "    <tr>\n",
       "      <th>19</th>\n",
       "      <td>55</td>\n",
       "      <td>Ligne_H</td>\n",
       "    </tr>\n",
       "    <tr>\n",
       "      <th>18</th>\n",
       "      <td>55</td>\n",
       "      <td>Ligne_E</td>\n",
       "    </tr>\n",
       "    <tr>\n",
       "      <th>17</th>\n",
       "      <td>54</td>\n",
       "      <td>Ligne_D</td>\n",
       "    </tr>\n",
       "    <tr>\n",
       "      <th>15</th>\n",
       "      <td>53</td>\n",
       "      <td>Ligne_J</td>\n",
       "    </tr>\n",
       "    <tr>\n",
       "      <th>16</th>\n",
       "      <td>53</td>\n",
       "      <td>Mois_11</td>\n",
       "    </tr>\n",
       "    <tr>\n",
       "      <th>14</th>\n",
       "      <td>52</td>\n",
       "      <td>Ligne_N</td>\n",
       "    </tr>\n",
       "    <tr>\n",
       "      <th>13</th>\n",
       "      <td>49</td>\n",
       "      <td>Ligne_B</td>\n",
       "    </tr>\n",
       "    <tr>\n",
       "      <th>12</th>\n",
       "      <td>47</td>\n",
       "      <td>Mois_5</td>\n",
       "    </tr>\n",
       "    <tr>\n",
       "      <th>11</th>\n",
       "      <td>47</td>\n",
       "      <td>Ligne_C</td>\n",
       "    </tr>\n",
       "    <tr>\n",
       "      <th>10</th>\n",
       "      <td>45</td>\n",
       "      <td>Ligne_U</td>\n",
       "    </tr>\n",
       "    <tr>\n",
       "      <th>9</th>\n",
       "      <td>44</td>\n",
       "      <td>Ligne_L</td>\n",
       "    </tr>\n",
       "    <tr>\n",
       "      <th>8</th>\n",
       "      <td>43</td>\n",
       "      <td>Ligne_P</td>\n",
       "    </tr>\n",
       "    <tr>\n",
       "      <th>7</th>\n",
       "      <td>42</td>\n",
       "      <td>Mois_3</td>\n",
       "    </tr>\n",
       "    <tr>\n",
       "      <th>6</th>\n",
       "      <td>42</td>\n",
       "      <td>Mois_10</td>\n",
       "    </tr>\n",
       "    <tr>\n",
       "      <th>5</th>\n",
       "      <td>41</td>\n",
       "      <td>Mois_1</td>\n",
       "    </tr>\n",
       "    <tr>\n",
       "      <th>4</th>\n",
       "      <td>37</td>\n",
       "      <td>Mois_6</td>\n",
       "    </tr>\n",
       "    <tr>\n",
       "      <th>1</th>\n",
       "      <td>32</td>\n",
       "      <td>Mois_2</td>\n",
       "    </tr>\n",
       "    <tr>\n",
       "      <th>3</th>\n",
       "      <td>32</td>\n",
       "      <td>Mois_9</td>\n",
       "    </tr>\n",
       "    <tr>\n",
       "      <th>2</th>\n",
       "      <td>32</td>\n",
       "      <td>Mois_4</td>\n",
       "    </tr>\n",
       "    <tr>\n",
       "      <th>0</th>\n",
       "      <td>30</td>\n",
       "      <td>Mois_7</td>\n",
       "    </tr>\n",
       "  </tbody>\n",
       "</table>\n",
       "</div>"
      ],
      "text/plain": [
       "    Importance            Variable\n",
       "27         718               Année\n",
       "26         219         Service_RER\n",
       "25          70             Ligne_K\n",
       "24          68              Mois_8\n",
       "23          64             Ligne_R\n",
       "22          64             Ligne_A\n",
       "21          61  Service_Transilien\n",
       "20          59             Mois_12\n",
       "19          55             Ligne_H\n",
       "18          55             Ligne_E\n",
       "17          54             Ligne_D\n",
       "15          53             Ligne_J\n",
       "16          53             Mois_11\n",
       "14          52             Ligne_N\n",
       "13          49             Ligne_B\n",
       "12          47              Mois_5\n",
       "11          47             Ligne_C\n",
       "10          45             Ligne_U\n",
       "9           44             Ligne_L\n",
       "8           43             Ligne_P\n",
       "7           42              Mois_3\n",
       "6           42             Mois_10\n",
       "5           41              Mois_1\n",
       "4           37              Mois_6\n",
       "1           32              Mois_2\n",
       "3           32              Mois_9\n",
       "2           32              Mois_4\n",
       "0           30              Mois_7"
      ]
     },
     "execution_count": 28,
     "metadata": {},
     "output_type": "execute_result"
    }
   ],
   "source": [
    "# importance des variables\n",
    "pd.DataFrame(sorted(zip(clf.feature_importance(),X_test.columns)), \n",
    "             columns=['Importance','Variable']).sort_values('Importance', ascending=False)"
   ]
  }
 ],
 "metadata": {
  "kernelspec": {
   "display_name": "Python 3",
   "language": "python",
   "name": "python3"
  },
  "language_info": {
   "codemirror_mode": {
    "name": "ipython",
    "version": 3
   },
   "file_extension": ".py",
   "mimetype": "text/x-python",
   "name": "python",
   "nbconvert_exporter": "python",
   "pygments_lexer": "ipython3",
   "version": "3.6.8"
  }
 },
 "nbformat": 4,
 "nbformat_minor": 2
}
