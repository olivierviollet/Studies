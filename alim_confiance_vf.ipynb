{
 "cells": [
  {
   "cell_type": "markdown",
   "metadata": {},
   "source": [
    "# Prédire la qualité sanitaire d'un établissement alimentaire\n",
    "\n",
    "Olivier Viollet, avril 2019, olivier.viollet[a]gmail.com\n",
    "\n",
    "## Résumé\n",
    "\n",
    "Cette étude apporte aux autorités chargées du contrôle sanitaire des établissements alimentaires un modèle destiné à prédire leur qualité sanitaire. Les meilleurs modèles n'y parviennent qu'avec une efficacité relativement satisfaisante, ce qui indique la nécessité d'inclure d'autres variables explicatives.\n",
    "\n",
    "Plan :\n",
    "\n",
    "1. Objectif et données\n",
    "2. Exploration et transformation des données\n",
    "3. Modélisation de la qualité sanitaire\n",
    "4. Evaluation de la modélisation\n",
    "\n",
    "## 1. Objectif et données\n",
    "\n",
    "L'objectif de cette étude est de concevoir un modèle permettant aux autorités chargées du contrôle sanitaire des établissements alimentaires de prédire leur qualité sanitaire. Un tel modèle serait avantageux dans la mesure où il permettrait d'inspecter en priorité des établissements dont la qualité prédite serait insuffisante.\n",
    "\n",
    "Les données proviennent du dispositif d'information \"Alim' confiance\", dans leur état mis à jour le 27 août 2018. Elles sont accessibles sur le site d'ouverture des données publiques, data.gouv.fr, à l'adresse suivante : https://www.data.gouv.fr/fr/datasets/resultats-des-controles-officiels-sanitaires-dispositif-dinformation-alimconfiance/\n",
    "\n",
    "Les résultats de **41350 contrôles** sont disponibles. La variable cible est l'appréciation de l'inspection sur la qualité sanitaire de l'établissement, \"Synthese_eval_sanit\". Pour la prédire, sont mobilisées les variables explicatives suivantes :\n",
    "\n",
    "- le type d'établissement ;\n",
    "- son activité ;\n",
    "- son adresse, y compris son département.\n",
    "\n",
    "Les données doivent faire l'objet de plusieurs transformations afin d'extraire et de mettre en forme les variables prédictives."
   ]
  },
  {
   "cell_type": "code",
   "execution_count": 2,
   "metadata": {},
   "outputs": [
    {
     "name": "stderr",
     "output_type": "stream",
     "text": [
      "Using TensorFlow backend.\n"
     ]
    }
   ],
   "source": [
    "import warnings\n",
    "warnings.filterwarnings('ignore')\n",
    "\n",
    "import pandas as pd\n",
    "import numpy as np\n",
    "import matplotlib.pyplot as plt\n",
    "import seaborn as sns\n",
    "\n",
    "from sklearn.model_selection import train_test_split\n",
    "from sklearn.preprocessing import MinMaxScaler\n",
    "from imblearn.over_sampling import SMOTE\n",
    "\n",
    "from sklearn.linear_model import LogisticRegression\n",
    "from sklearn.model_selection import GridSearchCV\n",
    "from sklearn.ensemble import RandomForestClassifier\n",
    "from sklearn import svm\n",
    "\n",
    "import xgboost as xgb\n",
    "from xgboost import XGBClassifier, plot_importance\n",
    "\n",
    "from keras.models import Sequential\n",
    "from keras.layers import Dense, Dropout, Activation\n",
    "from keras.utils import np_utils, to_categorical\n",
    "from keras import regularizers\n",
    "from keras import backend as K\n",
    "\n",
    "from sklearn import metrics\n",
    "\n",
    "# fonction de recodage\n",
    "def coding(col, codeDict):\n",
    "    colCoded = pd.Series(col, copy=True)\n",
    "    for key, value in codeDict.items():\n",
    "        colCoded.replace(key, value, inplace=True)\n",
    "    return colCoded"
   ]
  },
  {
   "cell_type": "code",
   "execution_count": 3,
   "metadata": {},
   "outputs": [
    {
     "name": "stdout",
     "output_type": "stream",
     "text": [
      "<class 'pandas.core.frame.DataFrame'>\n",
      "RangeIndex: 41350 entries, 0 to 41349\n",
      "Data columns (total 7 columns):\n",
      "filtre                                28520 non-null object\n",
      "APP_Libelle_activite_etablissement    41347 non-null object\n",
      "ods_adresse                           39746 non-null object\n",
      "Code_postal                           41350 non-null object\n",
      "Libelle_commune                       41350 non-null object\n",
      "Synthese_eval_sanit                   41350 non-null object\n",
      "ods_type_activite                     41350 non-null object\n",
      "dtypes: object(7)\n",
      "memory usage: 2.2+ MB\n",
      "None\n"
     ]
    },
    {
     "data": {
      "text/html": [
       "<div>\n",
       "<style scoped>\n",
       "    .dataframe tbody tr th:only-of-type {\n",
       "        vertical-align: middle;\n",
       "    }\n",
       "\n",
       "    .dataframe tbody tr th {\n",
       "        vertical-align: top;\n",
       "    }\n",
       "\n",
       "    .dataframe thead th {\n",
       "        text-align: right;\n",
       "    }\n",
       "</style>\n",
       "<table border=\"1\" class=\"dataframe\">\n",
       "  <thead>\n",
       "    <tr style=\"text-align: right;\">\n",
       "      <th></th>\n",
       "      <th>filtre</th>\n",
       "      <th>APP_Libelle_activite_etablissement</th>\n",
       "      <th>ods_adresse</th>\n",
       "      <th>Code_postal</th>\n",
       "      <th>Libelle_commune</th>\n",
       "      <th>Synthese_eval_sanit</th>\n",
       "      <th>ods_type_activite</th>\n",
       "    </tr>\n",
       "  </thead>\n",
       "  <tbody>\n",
       "    <tr>\n",
       "      <th>0</th>\n",
       "      <td>Libre service</td>\n",
       "      <td>Libre service</td>\n",
       "      <td>229 AV DE LA REPUBLIQUE</td>\n",
       "      <td>93800</td>\n",
       "      <td>Épinay-sur-Seine</td>\n",
       "      <td>Très satisfaisant</td>\n",
       "      <td>Autres</td>\n",
       "    </tr>\n",
       "    <tr>\n",
       "      <th>1</th>\n",
       "      <td>Restaurant</td>\n",
       "      <td>Restaurant</td>\n",
       "      <td>2 PLACE DU COMMERCE</td>\n",
       "      <td>51430</td>\n",
       "      <td>Tinqueux</td>\n",
       "      <td>Satisfaisant</td>\n",
       "      <td>Autres</td>\n",
       "    </tr>\n",
       "    <tr>\n",
       "      <th>2</th>\n",
       "      <td>Restaurant</td>\n",
       "      <td>Restaurant</td>\n",
       "      <td>11 RUE DE MONTYON</td>\n",
       "      <td>75009</td>\n",
       "      <td>Paris 9e  Arrondissement</td>\n",
       "      <td>Satisfaisant</td>\n",
       "      <td>Autres</td>\n",
       "    </tr>\n",
       "    <tr>\n",
       "      <th>3</th>\n",
       "      <td>Restauration collective</td>\n",
       "      <td>Restauration collective</td>\n",
       "      <td>40 Av de la Gare</td>\n",
       "      <td>33200</td>\n",
       "      <td>Bordeaux</td>\n",
       "      <td>Très satisfaisant</td>\n",
       "      <td>Autres</td>\n",
       "    </tr>\n",
       "    <tr>\n",
       "      <th>4</th>\n",
       "      <td>Restaurant</td>\n",
       "      <td>Restaurant</td>\n",
       "      <td>54 AVENUE DAUMESNIL</td>\n",
       "      <td>75012</td>\n",
       "      <td>Paris 12e  Arrondissement</td>\n",
       "      <td>Satisfaisant</td>\n",
       "      <td>Autres</td>\n",
       "    </tr>\n",
       "  </tbody>\n",
       "</table>\n",
       "</div>"
      ],
      "text/plain": [
       "                    filtre APP_Libelle_activite_etablissement  \\\n",
       "0            Libre service                      Libre service   \n",
       "1               Restaurant                         Restaurant   \n",
       "2               Restaurant                         Restaurant   \n",
       "3  Restauration collective            Restauration collective   \n",
       "4               Restaurant                         Restaurant   \n",
       "\n",
       "               ods_adresse Code_postal            Libelle_commune  \\\n",
       "0  229 AV DE LA REPUBLIQUE       93800           Épinay-sur-Seine   \n",
       "1      2 PLACE DU COMMERCE       51430                   Tinqueux   \n",
       "2        11 RUE DE MONTYON       75009   Paris 9e  Arrondissement   \n",
       "3         40 Av de la Gare       33200                   Bordeaux   \n",
       "4      54 AVENUE DAUMESNIL       75012  Paris 12e  Arrondissement   \n",
       "\n",
       "  Synthese_eval_sanit ods_type_activite  \n",
       "0   Très satisfaisant            Autres  \n",
       "1        Satisfaisant            Autres  \n",
       "2        Satisfaisant            Autres  \n",
       "3   Très satisfaisant            Autres  \n",
       "4        Satisfaisant            Autres  "
      ]
     },
     "execution_count": 3,
     "metadata": {},
     "output_type": "execute_result"
    }
   ],
   "source": [
    "    # charger les données\n",
    "alimentation = pd.read_csv('export_alimconfiance.csv', encoding = \"utf-8\", sep = \";\", usecols = [0,1,3,4,5,6,12])\n",
    "print(alimentation.info())\n",
    "alimentation.head()"
   ]
  },
  {
   "cell_type": "markdown",
   "metadata": {},
   "source": [
    "## 2. Exploration et transformation des données\n",
    "\n",
    "### Variable cible : la qualité sanitaire de l'établissement\n",
    "\n",
    "Le jeu de données initial distingue quatre classes de niveau sanitaire ; or, seule une poignée d'établissements relève du pire niveau. C'est pourquoi nous choisissons de **fusionner les deux niveaux les moins sains en une même classe**, \"à améliorer\", ramenant le nombre de classes à trois. \n",
    "\n",
    "Malgré cette reclassification, le jeu de données demeure très déséquilibré, la pire classe ne comprenant qu'environ 2500 cas tandis que les deux meilleures, \"très satisfaisant\" et \"satisfaisant\", dépassent les 17500 établissements chacun. "
   ]
  },
  {
   "cell_type": "code",
   "execution_count": 4,
   "metadata": {},
   "outputs": [
    {
     "data": {
      "text/plain": [
       "<seaborn.axisgrid.FacetGrid at 0x19fcae2acc0>"
      ]
     },
     "execution_count": 4,
     "metadata": {},
     "output_type": "execute_result"
    },
    {
     "data": {
      "image/png": "[encoded data removed]",
      "text/plain": [
       "<Figure size 360x360 with 1 Axes>"
      ]
     },
     "metadata": {
      "needs_background": "light"
     },
     "output_type": "display_data"
    }
   ],
   "source": [
    "pd.value_counts(alimentation.Synthese_eval_sanit)\n",
    "alimentation['Synthese_eval_sanit'] = coding(alimentation['Synthese_eval_sanit'], \n",
    "                                             {'A corriger de manière urgente':'A améliorer'})\n",
    "sns.catplot(x = 'Synthese_eval_sanit', \n",
    "            kind = 'count', palette=\"rocket\", data = alimentation).set_xticklabels(rotation=90) "
   ]
  },
  {
   "cell_type": "markdown",
   "metadata": {},
   "source": [
    "### Variables explicatives \n",
    "\n",
    "#### Type d'activité\n",
    "\n",
    "Deux colonnes du jeu de données initial aident à cerner l'activité de l'établissement ; les fusionner permet de réduire le nombre de valeurs manquantes pour cette variable explicative, dénommée \"type\" d'activité. Le grand nombre de types d'activité nous conduit à ne conserver que les plus fréquents, les autres étant fusionnés dans une modalité \"Autre\".\n",
    "\n",
    "On observe que la qualité sanitaire varie fortement en fonction du type d'activité, même si, pour la plupart des activités, les inspections relèvent un nombre assez proche d'établissements, sauf exceptions (restaurant, produits de la mer et d'eau douce, etc.), appartenant à l'une ou l'autre des deux meilleures classes sanitaires."
   ]
  },
  {
   "cell_type": "code",
   "execution_count": 5,
   "metadata": {},
   "outputs": [
    {
     "data": {
      "text/plain": [
       "<seaborn.axisgrid.FacetGrid at 0x19fd5fcb9e8>"
      ]
     },
     "execution_count": 5,
     "metadata": {},
     "output_type": "execute_result"
    },
    {
     "data": {
      "image/png": "[encoded data removed]",
      "text/plain": [
       "<Figure size 478.234x360 with 1 Axes>"
      ]
     },
     "metadata": {
      "needs_background": "light"
     },
     "output_type": "display_data"
    }
   ],
   "source": [
    "alimentation['ods_type_activite'] = coding(alimentation['ods_type_activite'], {'Autres':''})\n",
    "alimentation['filtre'].fillna('', inplace = True)\n",
    "alimentation['type'] = alimentation['filtre'] + alimentation['ods_type_activite']\n",
    "alimentation['type'] = coding(alimentation['type'], {'':'nd'})\n",
    "alimentation.drop(columns = ['ods_type_activite','filtre'], inplace=True)\n",
    "series = pd.value_counts(alimentation['type'])\n",
    "mask = (series/series.sum() * 100).lt(1)  \n",
    "alimentation['type'] = np.where(alimentation['type'].isin(series[mask].index),\n",
    "                                'Autre',alimentation['type'])\n",
    "sns.catplot(x = 'type', hue = 'Synthese_eval_sanit', \n",
    "            kind = 'count', palette=\"rocket\", data = alimentation).set_xticklabels(rotation=90) "
   ]
  },
  {
   "cell_type": "markdown",
   "metadata": {},
   "source": [
    "#### Département\n",
    "\n",
    "Le grand nombre de départements rendrait l'observation graphique des données trop illisible."
   ]
  },
  {
   "cell_type": "code",
   "execution_count": 6,
   "metadata": {},
   "outputs": [],
   "source": [
    "alimentation['Code_postal'] = alimentation['Code_postal'].apply('{0:0>5}'.format)\n",
    "alimentation['Code_postal'] = alimentation['Code_postal'].astype(str).str[:2]\n",
    "alimentation['Code_postal'] = coding(alimentation['Code_postal'], {'99':'00'})"
   ]
  },
  {
   "cell_type": "markdown",
   "metadata": {},
   "source": [
    "#### Nature et activité de l'établissement\n",
    "\n",
    "A partir de la colonne rapportant le libellé de l'activité de l'établissement, est créée une variable permettant de savoir si celui-ci est un rayon d'un établissement qui l'englobe. On observe néanmoins que cette variable risque de s'avérer peu utile car les proportions entre classes selon que l'établissement est un rayon ou non n'apparaissent pas très différentes des proportions des classes du jeu de données dans son ensemble.\n",
    "\n",
    "Par ailleurs, tenant compte du grand nombre d'activités possibles du jeu de données, la cardinalité de la variable est réduite pour ne conserver que les occurrences les plus fréquentes. L'observation graphique du résultat semble indiquer que cette variable sera utile à la modélisation car les proportions entre classes selon l'activité apparaissent sensiblement différentes."
   ]
  },
  {
   "cell_type": "code",
   "execution_count": 7,
   "metadata": {},
   "outputs": [
    {
     "data": {
      "text/plain": [
       "<seaborn.axisgrid.FacetGrid at 0x19fd67504a8>"
      ]
     },
     "execution_count": 7,
     "metadata": {},
     "output_type": "execute_result"
    },
    {
     "data": {
      "image/png": "[encoded data removed]",
      "text/plain": [
       "<Figure size 478.234x360 with 1 Axes>"
      ]
     },
     "metadata": {
      "needs_background": "light"
     },
     "output_type": "display_data"
    },
    {
     "data": {
      "image/png": "[encoded data removed]",
      "text/plain": [
       "<Figure size 478.234x360 with 1 Axes>"
      ]
     },
     "metadata": {
      "needs_background": "light"
     },
     "output_type": "display_data"
    }
   ],
   "source": [
    "pd.value_counts(alimentation.APP_Libelle_activite_etablissement)\n",
    "alimentation['APP_Libelle_activite_etablissement'].fillna('nd', inplace = True)\n",
    "\n",
    "    # is Rayon\n",
    "alimentation['is_Rayon'] = alimentation['APP_Libelle_activite_etablissement'].str.count('Rayon')\n",
    "alimentation[\"is_Rayon\"] = coding(alimentation[\"is_Rayon\"], {2: 1, 3:1, 4:1, 5:1}) \n",
    "sns.catplot(x=\"is_Rayon\", hue = \"Synthese_eval_sanit\", \n",
    "            kind=\"count\", palette=\"rocket\", data=alimentation)\n",
    "\n",
    "    # réduire la cardinalité\n",
    "series = pd.value_counts(alimentation.APP_Libelle_activite_etablissement)\n",
    "mask = (series/series.sum() * 100).lt(0.5)\n",
    "alimentation['activite'] = np.where(alimentation['APP_Libelle_activite_etablissement'].isin(series[mask].index),\n",
    "                                    'Autre',alimentation['APP_Libelle_activite_etablissement'])\n",
    "alimentation.drop(columns = ['APP_Libelle_activite_etablissement'], inplace=True)\n",
    "sns.catplot(x=\"activite\", hue = \"Synthese_eval_sanit\", \n",
    "            kind=\"count\", palette=\"rocket\", data=alimentation).set_xticklabels(rotation=90) "
   ]
  },
  {
   "cell_type": "markdown",
   "metadata": {},
   "source": [
    "#### Adresse de l'établissement\n",
    "\n",
    "A partir de l'adresse de l'établissement, nous créons plusieurs variables binaires afin de savoir si ce dernier se situe sur une avenue, une rue, une place, un chemin, un boulevard. Cependant, la visualisation des données nous amène à douter de la pertinence de ces nouvelles variables explicatives dans la mesure où les proportions entre classes n'apparaissent pas très différentes en fonction de la localisation urbaine par rapport aux proportions du jeu de données dans son ensemble. "
   ]
  },
  {
   "cell_type": "code",
   "execution_count": 8,
   "metadata": {},
   "outputs": [
    {
     "data": {
      "text/plain": [
       "<seaborn.axisgrid.FacetGrid at 0x19fd6802c50>"
      ]
     },
     "execution_count": 8,
     "metadata": {},
     "output_type": "execute_result"
    },
    {
     "data": {
      "image/png": "[encoded data removed]",
      "text/plain": [
       "<Figure size 478.234x360 with 1 Axes>"
      ]
     },
     "metadata": {
      "needs_background": "light"
     },
     "output_type": "display_data"
    }
   ],
   "source": [
    "alimentation['ods_adresse'] = alimentation['ods_adresse'].str.upper()\n",
    "alimentation['ods_adresse'].fillna('nd', inplace = True)\n",
    "alimentation['is_avenue'] = alimentation['ods_adresse'].str.count('AVENUE')\n",
    "alimentation['is_av'] = alimentation['ods_adresse'].str.count('AV')\n",
    "alimentation['is_av'] = coding(alimentation['is_av'], {2:1})\n",
    "alimentation['is_av_full'] = alimentation['is_avenue'] + alimentation['is_av']\n",
    "alimentation['is_av_full'] = coding(alimentation['is_av_full'], {2:1})\n",
    "alimentation.drop(columns = ['is_av','is_avenue'], inplace=True)\n",
    "sns.catplot(x=\"is_av_full\", hue = \"Synthese_eval_sanit\", \n",
    "            kind=\"count\", palette=\"rocket\", data=alimentation)"
   ]
  },
  {
   "cell_type": "code",
   "execution_count": 9,
   "metadata": {},
   "outputs": [
    {
     "data": {
      "text/plain": [
       "<seaborn.axisgrid.FacetGrid at 0x19fd6037d30>"
      ]
     },
     "execution_count": 9,
     "metadata": {},
     "output_type": "execute_result"
    },
    {
     "data": {
      "image/png": "[encoded data removed]",
      "text/plain": [
       "<Figure size 478.234x360 with 1 Axes>"
      ]
     },
     "metadata": {
      "needs_background": "light"
     },
     "output_type": "display_data"
    }
   ],
   "source": [
    "alimentation['is_rue'] = alimentation['ods_adresse'].str.count('RUE')\n",
    "alimentation['is_rue'] = coding(alimentation['is_rue'], {2:1})\n",
    "sns.catplot(x=\"is_rue\", hue = \"Synthese_eval_sanit\", \n",
    "            kind=\"count\", palette=\"rocket\", data=alimentation)"
   ]
  },
  {
   "cell_type": "code",
   "execution_count": 10,
   "metadata": {},
   "outputs": [
    {
     "data": {
      "text/plain": [
       "<seaborn.axisgrid.FacetGrid at 0x19fd6041cc0>"
      ]
     },
     "execution_count": 10,
     "metadata": {},
     "output_type": "execute_result"
    },
    {
     "data": {
      "image/png": "[encoded data removed]",
      "text/plain": [
       "<Figure size 478.234x360 with 1 Axes>"
      ]
     },
     "metadata": {
      "needs_background": "light"
     },
     "output_type": "display_data"
    }
   ],
   "source": [
    "alimentation['is_place'] = alimentation['ods_adresse'].str.count('PLACE')\n",
    "sns.catplot(x=\"is_place\", hue = \"Synthese_eval_sanit\", \n",
    "            kind=\"count\", palette=\"rocket\", data=alimentation)"
   ]
  },
  {
   "cell_type": "code",
   "execution_count": 11,
   "metadata": {},
   "outputs": [
    {
     "data": {
      "text/plain": [
       "<seaborn.axisgrid.FacetGrid at 0x19fd60ba1d0>"
      ]
     },
     "execution_count": 11,
     "metadata": {},
     "output_type": "execute_result"
    },
    {
     "data": {
      "image/png": "[encoded data removed]",
      "text/plain": [
       "<Figure size 478.234x360 with 1 Axes>"
      ]
     },
     "metadata": {
      "needs_background": "light"
     },
     "output_type": "display_data"
    }
   ],
   "source": [
    "alimentation['is_chemin'] = alimentation['ods_adresse'].str.count('CHEMIN')\n",
    "sns.catplot(x=\"is_chemin\", hue = \"Synthese_eval_sanit\", \n",
    "            kind=\"count\", palette=\"rocket\", data=alimentation)"
   ]
  },
  {
   "cell_type": "code",
   "execution_count": 12,
   "metadata": {},
   "outputs": [
    {
     "data": {
      "text/plain": [
       "<seaborn.axisgrid.FacetGrid at 0x19fd61ac128>"
      ]
     },
     "execution_count": 12,
     "metadata": {},
     "output_type": "execute_result"
    },
    {
     "data": {
      "image/png": "[encoded data removed]",
      "text/plain": [
       "<Figure size 478.234x360 with 1 Axes>"
      ]
     },
     "metadata": {
      "needs_background": "light"
     },
     "output_type": "display_data"
    }
   ],
   "source": [
    "alimentation['is_boulevard'] = alimentation['ods_adresse'].str.count('BOULEVARD')\n",
    "alimentation['is_bd'] = alimentation['ods_adresse'].str.count('BD')\n",
    "alimentation['is_bd_full'] = alimentation['is_boulevard'] + alimentation['is_bd']\n",
    "alimentation['is_bd_full'] = coding(alimentation['is_bd_full'], {2:1})\n",
    "alimentation.drop(columns = ['is_bd','is_boulevard'], inplace=True)\n",
    "sns.catplot(x=\"is_bd_full\", hue = \"Synthese_eval_sanit\",\n",
    "            kind=\"count\", palette=\"rocket\", data=alimentation)"
   ]
  },
  {
   "cell_type": "code",
   "execution_count": 13,
   "metadata": {},
   "outputs": [
    {
     "name": "stdout",
     "output_type": "stream",
     "text": [
      "<class 'pandas.core.frame.DataFrame'>\n",
      "RangeIndex: 41350 entries, 0 to 41349\n",
      "Data columns (total 10 columns):\n",
      "Code_postal            41350 non-null object\n",
      "Synthese_eval_sanit    41350 non-null object\n",
      "type                   41350 non-null object\n",
      "is_Rayon               41350 non-null int64\n",
      "activite               41350 non-null object\n",
      "is_av_full             41350 non-null int64\n",
      "is_rue                 41350 non-null int64\n",
      "is_place               41350 non-null int64\n",
      "is_chemin              41350 non-null int64\n",
      "is_bd_full             41350 non-null int64\n",
      "dtypes: int64(6), object(4)\n",
      "memory usage: 3.2+ MB\n"
     ]
    }
   ],
   "source": [
    "alimentation.drop(columns = ['ods_adresse','Libelle_commune'], inplace=True)\n",
    "alimentation.info()"
   ]
  },
  {
   "cell_type": "markdown",
   "metadata": {},
   "source": [
    "## 3. Modélisation de la qualité sanitaire\n",
    "\n",
    "### Mesure de performance\n",
    "\n",
    "Le problème relève de la **classification**, puisque les modèles devront prédire de quelle classe sanitaire relève un établissement, avec trois possibilités : \"très satisfaisant\", \"satisfaisant\" et \"à améliorer\".\n",
    "\n",
    "Deux mesures de performance devraient être retenues : \n",
    "- d'une part, le **taux de classifications justes** ; \n",
    "- d'autre part, le taux d'établissements relevant de la pire classe, \"à améliorer\", qui ont été identifiés comme tels, autrement dit le ***recall*** de cette classe. \n",
    "\n",
    "### Jeux de données\n",
    "\n",
    "Des **variables binaires** sont obtenues à partir des variables catégoriques. Puis, **trois jeux de données** sont créés à partir du jeu de données initial : d'abord un jeu d'entrainement et un jeu de test, puis un jeu de validation est extrait du premier. Les modèles sont construits sur le jeu d'entrainement, et leurs hyperparamètres ajustés sur le jeu de validation - sauf exception. Ce n'est que dans la partie 4. que nous pourrons jauger, grâce au jeu de test, de leur faculté à se généraliser.\n",
    "\n",
    "A noter que les valeurs sont transformées à l'aide de la technique **SMOTE** (Synthetic Minority Over-sampling Technique) afin d'équilibrer les trois classes dans le jeu d'entrainement. "
   ]
  },
  {
   "cell_type": "code",
   "execution_count": 14,
   "metadata": {},
   "outputs": [],
   "source": [
    "# préparer les jeux de données\n",
    "    # variable cible\n",
    "Target = alimentation['Synthese_eval_sanit']\n",
    "alimentation.drop(columns = ['Synthese_eval_sanit'], inplace=True)\n",
    "\n",
    "    # variables binaires\n",
    "predictors = pd.get_dummies(alimentation)\n",
    "\n",
    "    # jeux d'entrainement et de test\n",
    "X_train, X_test, y_train, y_test = train_test_split(predictors, Target, test_size=0.2, random_state=15)\n",
    "\n",
    "    # jeux d'entrainement et de validation\n",
    "X_train, X_val, y_train, y_val = train_test_split(X_train, y_train, stratify = y_train, test_size=0.2, random_state=42)\n",
    "\n",
    "    # SMOTE\n",
    "pd.value_counts(y_train)\n",
    "smote = SMOTE('all', random_state = 2) \n",
    "X_train_res, y_train = smote.fit_resample(X_train, y_train)\n",
    "X_train = pd.DataFrame(X_train_res, columns = X_train.columns)\n",
    "del X_train_res"
   ]
  },
  {
   "cell_type": "markdown",
   "metadata": {},
   "source": [
    "### Régression logistique\n",
    "\n",
    "55 % des prédictions de la régression logistique sont justes ; toutefois, seuls 16 % des établissements dont la qualité sanitaire est \"à améliorer\" ont été identifiés, ce qui est peu."
   ]
  },
  {
   "cell_type": "code",
   "execution_count": 15,
   "metadata": {},
   "outputs": [
    {
     "data": {
      "text/plain": [
       "{'C': 20.0}"
      ]
     },
     "execution_count": 15,
     "metadata": {},
     "output_type": "execute_result"
    }
   ],
   "source": [
    "# régression logistique\n",
    "lr = LogisticRegression()\n",
    "parameters = {'C': np.linspace(1, 20, 10)}\n",
    "clf = GridSearchCV(lr, parameters, cv=3, verbose=0, n_jobs=-1)\n",
    "clf.fit(X_train, y_train.ravel())\n",
    "clf.best_params_ # 20"
   ]
  },
  {
   "cell_type": "code",
   "execution_count": 17,
   "metadata": {},
   "outputs": [
    {
     "name": "stdout",
     "output_type": "stream",
     "text": [
      "Taux de classifications exactes sur le jeu d'entrainement : 0.6137062232300328\n",
      "Taux de classifications exactes sur le jeu de validation : 0.5471584038694075\n",
      "                   precision    recall  f1-score   support\n",
      "\n",
      "      A améliorer       0.09      0.16      0.11       351\n",
      "     Satisfaisant       0.61      0.56      0.58      3308\n",
      "Très satisfaisant       0.59      0.58      0.58      2957\n",
      "\n",
      "        micro avg       0.55      0.55      0.55      6616\n",
      "        macro avg       0.43      0.43      0.43      6616\n",
      "     weighted avg       0.57      0.55      0.56      6616\n",
      "\n"
     ]
    }
   ],
   "source": [
    "lr_def = LogisticRegression(C = 20, penalty = 'l2', verbose=0)\n",
    "lr_def.fit(X_train, y_train)\n",
    "y_pred_train = lr_def.predict(X_train)\n",
    "y_pred_val = lr_def.predict(X_val)\n",
    "print(\"Taux de classifications exactes sur le jeu d\\'entrainement :\", \n",
    "      metrics.accuracy_score(y_train, y_pred_train)) # 61.4\n",
    "print(\"Taux de classifications exactes sur le jeu de validation :\", \n",
    "      metrics.accuracy_score(y_val, y_pred_val)) # 54.7\n",
    "print(metrics.classification_report(y_val, y_pred_val))"
   ]
  },
  {
   "cell_type": "markdown",
   "metadata": {},
   "source": [
    "### Forêt aléatoire\n",
    "\n",
    "La forêt aléatoire régularisée parvient à un taux de classifications justes analogue à la régression logistique (54 %) et identifie un quart des établissements dont la qualité sanitaire doit être améliorée."
   ]
  },
  {
   "cell_type": "code",
   "execution_count": 18,
   "metadata": {},
   "outputs": [
    {
     "name": "stdout",
     "output_type": "stream",
     "text": [
      "Taux de classifications exactes sur le jeu d'entrainement : 0.7054169816074578\n",
      "Taux de classifications exactes sur le jeu de validation : 0.5155683192261185\n",
      "                   precision    recall  f1-score   support\n",
      "\n",
      "      A améliorer       0.10      0.31      0.15       351\n",
      "     Satisfaisant       0.59      0.53      0.56      3308\n",
      "Très satisfaisant       0.60      0.52      0.56      2957\n",
      "\n",
      "        micro avg       0.52      0.52      0.52      6616\n",
      "        macro avg       0.43      0.45      0.42      6616\n",
      "     weighted avg       0.57      0.52      0.54      6616\n",
      "\n"
     ]
    }
   ],
   "source": [
    "# forêt aléatoire\n",
    "forest = RandomForestClassifier(criterion='entropy', random_state=1, n_jobs=-1)\n",
    "forest.fit(X_train, y_train)\n",
    "y_pred_train = forest.predict(X_train)\n",
    "y_pred_val = forest.predict(X_val)\n",
    "print(\"Taux de classifications exactes sur le jeu d\\'entrainement :\", \n",
    "      metrics.accuracy_score(y_train, y_pred_train)) # 70.5\n",
    "print(\"Taux de classifications exactes sur le jeu de validation :\", \n",
    "      metrics.accuracy_score(y_val, y_pred_val)) # 51.5\n",
    "print(metrics.classification_report(y_val, y_pred_val))"
   ]
  },
  {
   "cell_type": "code",
   "execution_count": 19,
   "metadata": {},
   "outputs": [
    {
     "name": "stdout",
     "output_type": "stream",
     "text": [
      "Taux de classifications exactes sur le jeu d'entrainement : 0.6647770219198791\n",
      "Taux de classifications exactes sur le jeu de validation : 0.5444377267230955\n",
      "                   precision    recall  f1-score   support\n",
      "\n",
      "      A améliorer       0.10      0.24      0.14       351\n",
      "     Satisfaisant       0.61      0.56      0.58      3308\n",
      "Très satisfaisant       0.61      0.56      0.58      2957\n",
      "\n",
      "        micro avg       0.54      0.54      0.54      6616\n",
      "        macro avg       0.44      0.45      0.44      6616\n",
      "     weighted avg       0.58      0.54      0.56      6616\n",
      "\n"
     ]
    }
   ],
   "source": [
    "forest = RandomForestClassifier(criterion='entropy', \n",
    "                                random_state=1, \n",
    "                                n_jobs=-1, \n",
    "                                min_samples_split = 60,\n",
    "                                max_features = .6) \n",
    "forest.fit(X_train, y_train)\n",
    "y_pred_train = forest.predict(X_train)\n",
    "y_pred_val = forest.predict(X_val)\n",
    "print(\"Taux de classifications exactes sur le jeu d\\'entrainement :\", \n",
    "      metrics.accuracy_score(y_train, y_pred_train)) # 66.4\n",
    "print(\"Taux de classifications exactes sur le jeu de validation :\", \n",
    "      metrics.accuracy_score(y_val, y_pred_val)) # 54.4\n",
    "print(metrics.classification_report(y_val, y_pred_val))"
   ]
  },
  {
   "cell_type": "markdown",
   "metadata": {},
   "source": [
    "### SVM\n",
    "\n",
    "Si le *support vector machine* parvient à un meilleur taux global de classifications justes (58 %), il n'identifie guère plus d'établissements dont la qualité sanitaire doit être améliorée que la régression logistique."
   ]
  },
  {
   "cell_type": "code",
   "execution_count": 20,
   "metadata": {},
   "outputs": [
    {
     "name": "stdout",
     "output_type": "stream",
     "text": [
      "Taux de classifications exactes sur le jeu d'entrainement : 0.61708238851096\n",
      "Taux de classifications exactes sur le jeu de validation: 0.5801088270858524\n",
      "                   precision    recall  f1-score   support\n",
      "\n",
      "      A améliorer       0.12      0.17      0.14       351\n",
      "     Satisfaisant       0.63      0.60      0.61      3308\n",
      "Très satisfaisant       0.61      0.61      0.61      2957\n",
      "\n",
      "        micro avg       0.58      0.58      0.58      6616\n",
      "        macro avg       0.45      0.46      0.45      6616\n",
      "     weighted avg       0.59      0.58      0.59      6616\n",
      "\n"
     ]
    }
   ],
   "source": [
    "# SVM\n",
    "clf = svm.SVC(gamma='scale', decision_function_shape='ovo')\n",
    "clf.fit(X_train, y_train)\n",
    "y_pred_train = clf.predict(X_train)\n",
    "y_pred_val = clf.predict(X_val)\n",
    "print(\"Taux de classifications exactes sur le jeu d\\'entrainement :\", \n",
    "      metrics.accuracy_score(y_train, y_pred_train)) # 61.7\n",
    "print(\"Taux de classifications exactes sur le jeu de validation:\", \n",
    "      metrics.accuracy_score(y_val, y_pred_val)) # 58.0\n",
    "print(metrics.classification_report(y_val, y_pred_val))"
   ]
  },
  {
   "cell_type": "markdown",
   "metadata": {},
   "source": [
    "### XGboost\n",
    "\n",
    "Régularisé, le modèle XGboost réalise moins de prédictions justes que les autres algorithmes (50 %) mais il repère 40 % des établissements dont la qualité sanitaire est \"à améliorer\"."
   ]
  },
  {
   "cell_type": "code",
   "execution_count": 21,
   "metadata": {},
   "outputs": [],
   "source": [
    "y_train = pd.DataFrame(y_train)\n",
    "y_train[0] = coding(y_train[0], {'A améliorer': 0, 'Satisfaisant':1,'Très satisfaisant':2}) \n",
    "xg_train = xgb.DMatrix(X_train, label= y_train.values)\n",
    "\n",
    "y_val = pd.DataFrame(y_val)\n",
    "y_val[\"Synthese_eval_sanit\"] = coding(y_val[\"Synthese_eval_sanit\"], \n",
    "                                      {'A améliorer': 0, 'Satisfaisant':1,'Très satisfaisant':2}) \n",
    "xg_validation = xgb.DMatrix(X_val)"
   ]
  },
  {
   "cell_type": "code",
   "execution_count": 22,
   "metadata": {},
   "outputs": [
    {
     "name": "stdout",
     "output_type": "stream",
     "text": [
      "Taux de classifications exactes sur le jeu d'entrainement : 0.6321995464852608\n",
      "Taux de classifications exactes sur le jeu de validation: 0.4960701330108827\n",
      "              precision    recall  f1-score   support\n",
      "\n",
      "           0       0.09      0.40      0.14       351\n",
      "           1       0.63      0.49      0.55      3308\n",
      "           2       0.63      0.51      0.57      2957\n",
      "\n",
      "   micro avg       0.50      0.50      0.50      6616\n",
      "   macro avg       0.45      0.47      0.42      6616\n",
      "weighted avg       0.60      0.50      0.54      6616\n",
      "\n"
     ]
    }
   ],
   "source": [
    "params = {\n",
    "    \"eta\": 0.2,\n",
    "    \"max_depth\":12,\n",
    "    \"objective\": \"multi:softmax\",\n",
    "    \"silent\": 1,\n",
    "    'n_estimators': 40,\n",
    "    \"eval_metric\": \"merror\",\n",
    "    'num_class' : 3}\n",
    "\n",
    "model = xgb.train(params, xg_train, 30)\n",
    "\n",
    "y_pred_train = model.predict(xg_train)\n",
    "y_pred_val = model.predict(xg_validation)\n",
    "\n",
    "print(\"Taux de classifications exactes sur le jeu d\\'entrainement :\", \n",
    "      metrics.accuracy_score(y_train, y_pred_train)) # 63.2\n",
    "print(\"Taux de classifications exactes sur le jeu de validation:\", \n",
    "      metrics.accuracy_score(y_val, y_pred_val)) # 49.6\n",
    "print(metrics.classification_report(y_val, y_pred_val))"
   ]
  },
  {
   "cell_type": "markdown",
   "metadata": {},
   "source": [
    "### Réseau de neurones\n",
    "\n",
    "Le réseau de neurones régularisé réussit 55 % de ses prédictions et identifie un établissement sur cinq parmi ceux dont la qualité sanitaire doit être améliorée."
   ]
  },
  {
   "cell_type": "code",
   "execution_count": 23,
   "metadata": {},
   "outputs": [],
   "source": [
    "dummy_y_train = to_categorical(y_train)\n",
    "dummy_y_val = to_categorical(y_val)"
   ]
  },
  {
   "cell_type": "code",
   "execution_count": 24,
   "metadata": {},
   "outputs": [
    {
     "name": "stdout",
     "output_type": "stream",
     "text": [
      "Train on 39690 samples, validate on 6616 samples\n",
      "Epoch 1/50\n",
      "39690/39690 [==============================] - 3s 70us/step - loss: 1.0657 - acc: 0.4182 - val_loss: 1.0227 - val_acc: 0.4255\n",
      "Epoch 2/50\n",
      "39690/39690 [==============================] - 1s 24us/step - loss: 0.9359 - acc: 0.5412 - val_loss: 0.9462 - val_acc: 0.5281\n",
      "Epoch 3/50\n",
      "39690/39690 [==============================] - 1s 24us/step - loss: 0.8920 - acc: 0.5634 - val_loss: 0.9393 - val_acc: 0.5473\n",
      "Epoch 4/50\n",
      "39690/39690 [==============================] - 1s 25us/step - loss: 0.8711 - acc: 0.5737 - val_loss: 0.9624 - val_acc: 0.5148\n",
      "Epoch 5/50\n",
      "39690/39690 [==============================] - 1s 25us/step - loss: 0.8656 - acc: 0.5769 - val_loss: 0.9217 - val_acc: 0.5434\n",
      "Epoch 6/50\n",
      "39690/39690 [==============================] - 1s 25us/step - loss: 0.8571 - acc: 0.5791 - val_loss: 0.9528 - val_acc: 0.5307\n",
      "Epoch 7/50\n",
      "39690/39690 [==============================] - 1s 25us/step - loss: 0.8539 - acc: 0.5858 - val_loss: 0.9323 - val_acc: 0.5404\n",
      "Epoch 8/50\n",
      "39690/39690 [==============================] - 1s 24us/step - loss: 0.8468 - acc: 0.5868 - val_loss: 0.9153 - val_acc: 0.5505\n",
      "Epoch 9/50\n",
      "39690/39690 [==============================] - 1s 24us/step - loss: 0.8463 - acc: 0.5852 - val_loss: 0.9405 - val_acc: 0.5376\n",
      "Epoch 10/50\n",
      "39690/39690 [==============================] - 1s 24us/step - loss: 0.8433 - acc: 0.5880 - val_loss: 0.9367 - val_acc: 0.5367\n",
      "Epoch 11/50\n",
      "39690/39690 [==============================] - 1s 24us/step - loss: 0.8426 - acc: 0.5908 - val_loss: 0.9091 - val_acc: 0.5518\n",
      "Epoch 12/50\n",
      "39690/39690 [==============================] - 1s 25us/step - loss: 0.8405 - acc: 0.5923 - val_loss: 0.9068 - val_acc: 0.5529\n",
      "Epoch 13/50\n",
      "39690/39690 [==============================] - 1s 24us/step - loss: 0.8394 - acc: 0.5959 - val_loss: 0.9017 - val_acc: 0.5473\n",
      "Epoch 14/50\n",
      "39690/39690 [==============================] - 1s 25us/step - loss: 0.8392 - acc: 0.5913 - val_loss: 0.9263 - val_acc: 0.5476\n",
      "Epoch 15/50\n",
      "39690/39690 [==============================] - 1s 24us/step - loss: 0.8351 - acc: 0.5929 - val_loss: 0.9112 - val_acc: 0.5455\n",
      "Epoch 16/50\n",
      "39690/39690 [==============================] - 1s 24us/step - loss: 0.8375 - acc: 0.5956 - val_loss: 0.9136 - val_acc: 0.5485\n",
      "Epoch 17/50\n",
      "39690/39690 [==============================] - 1s 24us/step - loss: 0.8326 - acc: 0.5968 - val_loss: 0.9259 - val_acc: 0.5437\n",
      "Epoch 18/50\n",
      "39690/39690 [==============================] - 1s 26us/step - loss: 0.8315 - acc: 0.5952 - val_loss: 0.9225 - val_acc: 0.5447\n",
      "Epoch 19/50\n",
      "39690/39690 [==============================] - 1s 25us/step - loss: 0.8340 - acc: 0.5937 - val_loss: 0.8968 - val_acc: 0.5552\n",
      "Epoch 20/50\n",
      "39690/39690 [==============================] - 1s 24us/step - loss: 0.8310 - acc: 0.5965 - val_loss: 0.9418 - val_acc: 0.5333\n",
      "Epoch 21/50\n",
      "39690/39690 [==============================] - 1s 25us/step - loss: 0.8280 - acc: 0.6014 - val_loss: 0.9069 - val_acc: 0.5472\n",
      "Epoch 22/50\n",
      "39690/39690 [==============================] - 1s 26us/step - loss: 0.8272 - acc: 0.6014 - val_loss: 0.9234 - val_acc: 0.5340\n",
      "Epoch 23/50\n",
      "39690/39690 [==============================] - 1s 26us/step - loss: 0.8270 - acc: 0.6023 - val_loss: 0.9080 - val_acc: 0.5340\n",
      "Epoch 24/50\n",
      "39690/39690 [==============================] - 1s 24us/step - loss: 0.8272 - acc: 0.5990 - val_loss: 0.9190 - val_acc: 0.5360\n",
      "Epoch 25/50\n",
      "39690/39690 [==============================] - 1s 24us/step - loss: 0.8318 - acc: 0.5982 - val_loss: 0.9176 - val_acc: 0.5487\n",
      "Epoch 26/50\n",
      "39690/39690 [==============================] - 1s 24us/step - loss: 0.8290 - acc: 0.6003 - val_loss: 0.9268 - val_acc: 0.5458\n",
      "Epoch 27/50\n",
      "39690/39690 [==============================] - 1s 25us/step - loss: 0.8247 - acc: 0.6042 - val_loss: 0.9183 - val_acc: 0.5446\n",
      "Epoch 28/50\n",
      "39690/39690 [==============================] - 1s 24us/step - loss: 0.8258 - acc: 0.6055 - val_loss: 0.9030 - val_acc: 0.5426\n",
      "Epoch 29/50\n",
      "39690/39690 [==============================] - 1s 25us/step - loss: 0.8243 - acc: 0.6014 - val_loss: 0.9051 - val_acc: 0.5447\n",
      "Epoch 30/50\n",
      "39690/39690 [==============================] - 1s 24us/step - loss: 0.8243 - acc: 0.6047 - val_loss: 0.9139 - val_acc: 0.5435\n",
      "Epoch 31/50\n",
      "39690/39690 [==============================] - 1s 24us/step - loss: 0.8234 - acc: 0.6043 - val_loss: 0.9140 - val_acc: 0.5432\n",
      "Epoch 32/50\n",
      "39690/39690 [==============================] - 1s 25us/step - loss: 0.8248 - acc: 0.6021 - val_loss: 0.9099 - val_acc: 0.5414\n",
      "Epoch 33/50\n",
      "39690/39690 [==============================] - 1s 24us/step - loss: 0.8233 - acc: 0.6012 - val_loss: 0.9198 - val_acc: 0.5456\n",
      "Epoch 34/50\n",
      "39690/39690 [==============================] - 1s 24us/step - loss: 0.8249 - acc: 0.6029 - val_loss: 0.9129 - val_acc: 0.5479\n",
      "Epoch 35/50\n",
      "39690/39690 [==============================] - 1s 25us/step - loss: 0.8218 - acc: 0.6051 - val_loss: 0.9095 - val_acc: 0.5434\n",
      "Epoch 36/50\n",
      "39690/39690 [==============================] - 1s 24us/step - loss: 0.8174 - acc: 0.6051 - val_loss: 0.9237 - val_acc: 0.5435\n",
      "Epoch 37/50\n",
      "39690/39690 [==============================] - 1s 24us/step - loss: 0.8212 - acc: 0.6052 - val_loss: 0.9248 - val_acc: 0.5361\n",
      "Epoch 38/50\n",
      "39690/39690 [==============================] - 1s 24us/step - loss: 0.8228 - acc: 0.6056 - val_loss: 0.9236 - val_acc: 0.5345\n",
      "Epoch 39/50\n",
      "39690/39690 [==============================] - 1s 26us/step - loss: 0.8187 - acc: 0.6066 - val_loss: 0.9098 - val_acc: 0.5429\n",
      "Epoch 40/50\n",
      "39690/39690 [==============================] - 1s 24us/step - loss: 0.8221 - acc: 0.6045 - val_loss: 0.9220 - val_acc: 0.5330\n",
      "Epoch 41/50\n",
      "39690/39690 [==============================] - 1s 24us/step - loss: 0.8224 - acc: 0.6049 - val_loss: 0.9065 - val_acc: 0.5441\n",
      "Epoch 42/50\n",
      "39690/39690 [==============================] - 1s 24us/step - loss: 0.8225 - acc: 0.6069 - val_loss: 0.9086 - val_acc: 0.5553\n",
      "Epoch 43/50\n",
      "39690/39690 [==============================] - 1s 24us/step - loss: 0.8189 - acc: 0.6080 - val_loss: 0.9128 - val_acc: 0.5493\n",
      "Epoch 44/50\n",
      "39690/39690 [==============================] - 1s 24us/step - loss: 0.8176 - acc: 0.6084 - val_loss: 0.9181 - val_acc: 0.5369\n",
      "Epoch 45/50\n",
      "39690/39690 [==============================] - 1s 24us/step - loss: 0.8161 - acc: 0.6091 - val_loss: 0.9162 - val_acc: 0.5405\n",
      "Epoch 46/50\n",
      "39690/39690 [==============================] - 1s 24us/step - loss: 0.8185 - acc: 0.6069 - val_loss: 0.9148 - val_acc: 0.5417\n",
      "Epoch 47/50\n",
      "39690/39690 [==============================] - 1s 24us/step - loss: 0.8194 - acc: 0.6060 - val_loss: 0.9091 - val_acc: 0.5524\n",
      "Epoch 48/50\n",
      "39690/39690 [==============================] - 1s 24us/step - loss: 0.8178 - acc: 0.6103 - val_loss: 0.9223 - val_acc: 0.5443\n",
      "Epoch 49/50\n",
      "39690/39690 [==============================] - 1s 25us/step - loss: 0.8170 - acc: 0.6073 - val_loss: 0.9180 - val_acc: 0.5411\n",
      "Epoch 50/50\n",
      "39690/39690 [==============================] - 1s 24us/step - loss: 0.8195 - acc: 0.6084 - val_loss: 0.9009 - val_acc: 0.5463\n",
      "              precision    recall  f1-score   support\n",
      "\n",
      "           0       0.10      0.21      0.13       351\n",
      "           1       0.59      0.59      0.59      3308\n",
      "           2       0.62      0.54      0.57      2957\n",
      "\n",
      "   micro avg       0.55      0.55      0.55      6616\n",
      "   macro avg       0.44      0.45      0.43      6616\n",
      "weighted avg       0.58      0.55      0.56      6616\n",
      "\n"
     ]
    }
   ],
   "source": [
    "model = Sequential()\n",
    "model.add(Dense(32, input_dim = X_train.shape[1], activation='relu'))\n",
    "model.add(Dropout(0.5))\n",
    "model.add(Dense(32, activation='relu'))\n",
    "model.add(Dropout(0.5))\n",
    "model.add(Dense(32, activation='relu'))\n",
    "model.add(Dropout(0.5))\n",
    "model.add(Dense(3, activation='softmax'))\n",
    "model.compile(loss='categorical_crossentropy', optimizer='adam', metrics=['accuracy'])\n",
    "model.fit(X_train, dummy_y_train, epochs=50, validation_data = (X_val, dummy_y_val), verbose=1)\n",
    "y_pred_val = model.predict_classes(X_val) # 54.6\n",
    "print(metrics.classification_report(y_val, y_pred_val))\n",
    "K.clear_session()"
   ]
  },
  {
   "cell_type": "markdown",
   "metadata": {},
   "source": [
    "## 4. Evaluer la modélisation\n",
    "\n",
    "Les jeux d'entrainement et de test sont recréés. Le jeu d'entrainement est transformé à l'aide du SMOTE afin d'équilibrer les trois classes sanitaires en son sein. Les modèles sont entrainés une ultime fois sur les jeux d'entrainement à l'aide des hyperparamètres trouvés sur le jeu de validation dans la partie précédente, puis évalués sur le jeu de test.\n",
    "\n",
    "Nous recommandons le recours au **modèle XGboost**. En effet, si son **taux de classifications justes** sur le jeu de test est certes le plus faible de tous les modèles (51 %), cette faiblesse ne consiste qu'en quelques points de pourcentage d'écart. Surtout, ce modèle s'avère, de loin, le meilleur pour identifier comme tels les **établissements les moins sains** : **44 %** des établissements dont la qualité sanitaire est \"à améliorer\" ont bien été repérés ainsi. Ces résultats sont cohérents avec ceux obtenus sur le jeu de validation.\n",
    "\n",
    "Cependant, il convient de noter que, sur 100 établissements pour lesquels XGboost prédirait \"à améliorer\", seuls 9 correspondraient effectivement à cette classe. Cette faible ***precision*** nous indique que d'autres variables explicatives sont nécessaires pour améliorer la force prédictive des algorithmes."
   ]
  },
  {
   "cell_type": "code",
   "execution_count": 25,
   "metadata": {},
   "outputs": [],
   "source": [
    "# re-créer le jeu d'entrainement et le jeu de test\n",
    "X_train, X_test, y_train, y_test = train_test_split(predictors, Target, test_size=0.2, random_state=15)\n",
    "\n",
    "# SMOTE\n",
    "pd.value_counts(y_train)\n",
    "smote = SMOTE('all', random_state = 2) \n",
    "X_train_res, y_train = smote.fit_resample(X_train, y_train)\n",
    "X_train = pd.DataFrame(X_train_res, columns = X_train.columns)\n",
    "del X_train_res"
   ]
  },
  {
   "cell_type": "markdown",
   "metadata": {},
   "source": [
    "### Régression logistique"
   ]
  },
  {
   "cell_type": "code",
   "execution_count": 26,
   "metadata": {},
   "outputs": [
    {
     "name": "stdout",
     "output_type": "stream",
     "text": [
      "Taux de classifications exactes sur le jeu d'entrainement : 0.6016245414600717\n",
      "Taux de classifications exactes sur le jeu de test : 0.5570737605804111\n",
      "                   precision    recall  f1-score   support\n",
      "\n",
      "      A améliorer       0.10      0.22      0.14       413\n",
      "     Satisfaisant       0.63      0.57      0.60      4222\n",
      "Très satisfaisant       0.60      0.58      0.59      3635\n",
      "\n",
      "        micro avg       0.56      0.56      0.56      8270\n",
      "        macro avg       0.44      0.46      0.44      8270\n",
      "     weighted avg       0.59      0.56      0.57      8270\n",
      "\n"
     ]
    }
   ],
   "source": [
    "# régression logistique\n",
    "lr_def = LogisticRegression(C = 20, penalty = 'l2', verbose=0)\n",
    "lr_def.fit(X_train, y_train)\n",
    "y_pred_train = lr_def.predict(X_train)\n",
    "y_pred_test = lr_def.predict(X_test)\n",
    "print(\"Taux de classifications exactes sur le jeu d\\'entrainement :\", \n",
    "      metrics.accuracy_score(y_train, y_pred_train)) # 60.2\n",
    "print(\"Taux de classifications exactes sur le jeu de test :\", \n",
    "      metrics.accuracy_score(y_test, y_pred_test)) # 55.7\n",
    "print(metrics.classification_report(y_test, y_pred_test))"
   ]
  },
  {
   "cell_type": "markdown",
   "metadata": {},
   "source": [
    "### Forêt aléatoire"
   ]
  },
  {
   "cell_type": "code",
   "execution_count": 27,
   "metadata": {},
   "outputs": [
    {
     "name": "stdout",
     "output_type": "stream",
     "text": [
      "Taux de classifications exactes sur le jeu d'entrainement : 0.6533841254484621\n",
      "Taux de classifications exactes sur le jeu de test : 0.5500604594921402\n",
      "                   precision    recall  f1-score   support\n",
      "\n",
      "      A améliorer       0.09      0.26      0.14       413\n",
      "     Satisfaisant       0.63      0.57      0.60      4222\n",
      "Très satisfaisant       0.61      0.56      0.58      3635\n",
      "\n",
      "        micro avg       0.55      0.55      0.55      8270\n",
      "        macro avg       0.45      0.46      0.44      8270\n",
      "     weighted avg       0.60      0.55      0.57      8270\n",
      "\n"
     ]
    }
   ],
   "source": [
    "# forêt aléatoire\n",
    "forest = RandomForestClassifier(criterion='entropy', \n",
    "                                random_state=1, \n",
    "                                n_jobs=-1, \n",
    "                                min_samples_split = 60,\n",
    "                                max_features = .6) \n",
    "forest.fit(X_train, y_train)\n",
    "y_pred_train = forest.predict(X_train)\n",
    "y_pred_test = forest.predict(X_test)\n",
    "print(\"Taux de classifications exactes sur le jeu d\\'entrainement :\", \n",
    "      metrics.accuracy_score(y_train, y_pred_train)) # 65.3\n",
    "print(\"Taux de classifications exactes sur le jeu de test :\", \n",
    "      metrics.accuracy_score(y_test, y_pred_test)) # 55.0\n",
    "print(metrics.classification_report(y_test, y_pred_test))"
   ]
  },
  {
   "cell_type": "markdown",
   "metadata": {},
   "source": [
    "### SVM"
   ]
  },
  {
   "cell_type": "code",
   "execution_count": 28,
   "metadata": {},
   "outputs": [
    {
     "name": "stdout",
     "output_type": "stream",
     "text": [
      "Taux de classifications exactes sur le jeu d'entrainement : 0.6095053815455315\n",
      "Taux de classifications exactes sur le jeu de test: 0.575695284159613\n",
      "                   precision    recall  f1-score   support\n",
      "\n",
      "      A améliorer       0.12      0.23      0.16       413\n",
      "     Satisfaisant       0.64      0.59      0.61      4222\n",
      "Très satisfaisant       0.61      0.60      0.60      3635\n",
      "\n",
      "        micro avg       0.58      0.58      0.58      8270\n",
      "        macro avg       0.46      0.47      0.46      8270\n",
      "     weighted avg       0.60      0.58      0.59      8270\n",
      "\n"
     ]
    }
   ],
   "source": [
    "# SVM\n",
    "clf = svm.SVC(gamma='scale', decision_function_shape='ovo')\n",
    "clf.fit(X_train, y_train)\n",
    "y_pred_train = clf.predict(X_train)\n",
    "y_pred_test = clf.predict(X_test)\n",
    "print(\"Taux de classifications exactes sur le jeu d\\'entrainement :\", \n",
    "      metrics.accuracy_score(y_train, y_pred_train)) # 60.9\n",
    "print(\"Taux de classifications exactes sur le jeu de test:\", \n",
    "      metrics.accuracy_score(y_test, y_pred_test)) # 57.6\n",
    "print(metrics.classification_report(y_test, y_pred_test))"
   ]
  },
  {
   "cell_type": "markdown",
   "metadata": {},
   "source": [
    "### XGboost"
   ]
  },
  {
   "cell_type": "code",
   "execution_count": 29,
   "metadata": {},
   "outputs": [],
   "source": [
    "y_train = pd.DataFrame(y_train)\n",
    "y_train[0] = coding(y_train[0], {'A améliorer': 0, 'Satisfaisant':1,'Très satisfaisant':2}) \n",
    "xg_train = xgb.DMatrix(X_train, label= y_train.values)\n",
    "\n",
    "y_test = pd.DataFrame(y_test)\n",
    "y_test[\"Synthese_eval_sanit\"] = coding(y_test[\"Synthese_eval_sanit\"], \n",
    "                                      {'A améliorer': 0, 'Satisfaisant':1,'Très satisfaisant':2}) \n",
    "xg_test = xgb.DMatrix(X_test)"
   ]
  },
  {
   "cell_type": "code",
   "execution_count": 30,
   "metadata": {},
   "outputs": [
    {
     "name": "stdout",
     "output_type": "stream",
     "text": [
      "Taux de classifications exactes sur le jeu d'entrainement : 0.6213971862780667\n",
      "Taux de classifications exactes sur le jeu de test: 0.5079806529625152\n",
      "              precision    recall  f1-score   support\n",
      "\n",
      "           0       0.09      0.44      0.15       413\n",
      "           1       0.65      0.50      0.56      4222\n",
      "           2       0.64      0.53      0.58      3635\n",
      "\n",
      "   micro avg       0.51      0.51      0.51      8270\n",
      "   macro avg       0.46      0.49      0.43      8270\n",
      "weighted avg       0.62      0.51      0.55      8270\n",
      "\n"
     ]
    }
   ],
   "source": [
    "params = {\n",
    "    \"eta\": 0.2,\n",
    "    \"max_depth\":12,\n",
    "    \"objective\": \"multi:softmax\",\n",
    "    \"silent\": 1,\n",
    "    'n_estimators': 40,\n",
    "    \"eval_metric\": \"merror\",\n",
    "    'num_class' : 3}\n",
    "\n",
    "model = xgb.train(params, xg_train, 30)\n",
    "\n",
    "y_pred_train = model.predict(xg_train)\n",
    "y_pred_test = model.predict(xg_test)\n",
    "\n",
    "print(\"Taux de classifications exactes sur le jeu d\\'entrainement :\", \n",
    "      metrics.accuracy_score(y_train, y_pred_train)) # 62.1\n",
    "print(\"Taux de classifications exactes sur le jeu de test:\", \n",
    "      metrics.accuracy_score(y_test, y_pred_test)) # 50.8\n",
    "print(metrics.classification_report(y_test, y_pred_test))"
   ]
  },
  {
   "cell_type": "markdown",
   "metadata": {},
   "source": [
    "### Réseau de neurones"
   ]
  },
  {
   "cell_type": "code",
   "execution_count": 31,
   "metadata": {},
   "outputs": [],
   "source": [
    "dummy_y_train = to_categorical(y_train)\n",
    "dummy_y_test = to_categorical(y_test)"
   ]
  },
  {
   "cell_type": "code",
   "execution_count": 32,
   "metadata": {},
   "outputs": [
    {
     "name": "stdout",
     "output_type": "stream",
     "text": [
      "Taux de classifications exactes sur le jeu de test: 0.5399032648125756\n",
      "              precision    recall  f1-score   support\n",
      "\n",
      "           0       0.09      0.27      0.14       413\n",
      "           1       0.61      0.59      0.60      4222\n",
      "           2       0.62      0.52      0.57      3635\n",
      "\n",
      "   micro avg       0.54      0.54      0.54      8270\n",
      "   macro avg       0.44      0.46      0.43      8270\n",
      "weighted avg       0.59      0.54      0.56      8270\n",
      "\n"
     ]
    }
   ],
   "source": [
    "model = Sequential()\n",
    "model.add(Dense(32, input_dim = X_train.shape[1], activation='relu'))\n",
    "model.add(Dropout(0.5))\n",
    "model.add(Dense(32, activation='relu'))\n",
    "model.add(Dropout(0.5))\n",
    "model.add(Dense(32, activation='relu'))\n",
    "model.add(Dropout(0.5))\n",
    "model.add(Dense(3, activation='softmax'))\n",
    "model.compile(loss='categorical_crossentropy', optimizer='adam', metrics=['accuracy'])\n",
    "model.fit(X_train, dummy_y_train, epochs=50, verbose=0)\n",
    "y_pred_test = model.predict_classes(X_test) \n",
    "print(\"Taux de classifications exactes sur le jeu de test:\", \n",
    "      metrics.accuracy_score(y_test, y_pred_test)) # 54\n",
    "print(metrics.classification_report(y_test, y_pred_test))\n",
    "K.clear_session()"
   ]
  }
 ],
 "metadata": {
  "kernelspec": {
   "display_name": "Python 3",
   "language": "python",
   "name": "python3"
  },
  "language_info": {
   "codemirror_mode": {
    "name": "ipython",
    "version": 3
   },
   "file_extension": ".py",
   "mimetype": "text/x-python",
   "name": "python",
   "nbconvert_exporter": "python",
   "pygments_lexer": "ipython3",
   "version": "3.6.8"
  }
 },
 "nbformat": 4,
 "nbformat_minor": 2
}
