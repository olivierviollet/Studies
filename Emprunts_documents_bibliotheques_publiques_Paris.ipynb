{
 "cells": [
  {
   "cell_type": "markdown",
   "metadata": {},
   "source": [
    "# Les prêts de documents dans les bibliothèques de la Ville de Paris"
   ]
  },
  {
   "cell_type": "markdown",
   "metadata": {},
   "source": [
    "- Olivier Viollet, olivier.viollet[a]gmail.com \n",
    "- Mars 2019"
   ]
  },
  {
   "cell_type": "markdown",
   "metadata": {},
   "source": [
    "## Résumé"
   ]
  },
  {
   "cell_type": "markdown",
   "metadata": {},
   "source": [
    "Cette étude recourt aux données de prêts de documents dans les bibliothèques publiques de la Ville de Paris afin de réaliser des modèles capables de prédire combien d'exemplaires d'un certain type de document seront empruntés par les usagers. Les meilleurs modèles parviennent à prédire le nombre d'exemplaires qui seront empruntés avec une erreur moyenne d'environ 10 emprunts par document ; dans 50 % des cas, l'erreur n'excède pas 2 emprunts par document. L'âge du document apparait en outre comme une variable particulièrement utile à la prédiction du nombre d'emprunts."
   ]
  },
  {
   "cell_type": "markdown",
   "metadata": {},
   "source": [
    "## Plan\n",
    "\n",
    "1. Objectif de l'étude\n",
    "2. Préparation et transformation des données\n",
    "3. Construction des modèles\n",
    "4. Evaluation des modèles"
   ]
  },
  {
   "cell_type": "markdown",
   "metadata": {},
   "source": [
    "## 1. Objectif de l'étude"
   ]
  },
  {
   "cell_type": "markdown",
   "metadata": {},
   "source": [
    "L'objectif de cette étude est de concevoir un modèle capable de prédire, dans une certaine mesure, le nombre d'exemplaires prêtés d'un document donné appartenant aux bibliothèques de la Ville de Paris à partir de ses caractéristiques. \n",
    "\n",
    "Un tel modèle pourrait s'avérer utile aux responsables des achats des bibliothèques publiques dès lors qu'il indiquerait approximativement combien d'exemplaires d'un document dont l'acquisition est envisagée seront empruntés sur une année. Autrement dit, un responsable pourrait utiliser le modèle afin d'estimer le nombre de fois qu'un document sera emprunté par les usagers et ajuster en conséquence la quantité d'achats de ce document."
   ]
  },
  {
   "cell_type": "markdown",
   "metadata": {},
   "source": [
    "## 2. Préparation et transformation des données"
   ]
  },
  {
   "cell_type": "markdown",
   "metadata": {},
   "source": [
    "### 2.1 Importation des données"
   ]
  },
  {
   "cell_type": "markdown",
   "metadata": {},
   "source": [
    "Les données ont été mises à disposition par la Ville de Paris sur son site d'ouverture des données publiques, Open Data Paris. Il s'agit des collections telles qu'elles étaient recensées au **27 juillet 2018**. Elles sont accessibles à l'adresse suivante : https://opendata.paris.fr/explore/dataset/tous-les-documents-des-bibliotheques-de-pret/information/\n",
    "\n",
    "Le jeu de données contient initialement 815 534 observations. Seules les colonnes pouvant *a priori* s'avérer utiles à la prédiction du nombre de prêts en 2017 sont conservées. Il s'agit des variables suivantes :\n",
    "\n",
    "- langue ;\n",
    "- éditeur ; \n",
    "- date ;\n",
    "- format ;\n",
    "- collection ;\n",
    "- numéro ;\n",
    "- type de document ;\n",
    "- catégorie statistique 1 ;\n",
    "- catégorie statistique 2 ;\n",
    "- nombre de prêts en 2017, variable cible.\n",
    "\n",
    "\n",
    "Les trois lignes pour lesquelles le nombre de prêts en 2017 n'est pas connu sont retirées. "
   ]
  },
  {
   "cell_type": "code",
   "execution_count": 15,
   "metadata": {},
   "outputs": [],
   "source": [
    "import pandas as pd\n",
    "import numpy as np\n",
    "import matplotlib.pyplot as plt\n",
    "import seaborn as sns\n",
    "import csv\n",
    "\n",
    "from sklearn.model_selection import train_test_split\n",
    "from sklearn.linear_model import LinearRegression\n",
    "from sklearn.metrics import mean_absolute_error, median_absolute_error\n",
    "from sklearn import preprocessing\n",
    "\n",
    "from sklearn.ensemble import RandomForestRegressor\n",
    "\n",
    "import lightgbm as lgb"
   ]
  },
  {
   "cell_type": "code",
   "execution_count": 16,
   "metadata": {},
   "outputs": [],
   "source": [
    "# fonction pour recoder des valeurs\n",
    "def coding(col, codeDict):\n",
    "    colCoded = pd.Series(col, copy=True)\n",
    "    for key, value in codeDict.items():\n",
    "        colCoded.replace(key, value, inplace=True)\n",
    "    return colCoded"
   ]
  },
  {
   "cell_type": "code",
   "execution_count": 4,
   "metadata": {},
   "outputs": [
    {
     "name": "stdout",
     "output_type": "stream",
     "text": [
      "<class 'pandas.core.frame.DataFrame'>\n",
      "RangeIndex: 815534 entries, 0 to 815533\n",
      "Data columns (total 10 columns):\n",
      "Langue                     734510 non-null object\n",
      "Editeur                    810522 non-null object\n",
      "Date                       810807 non-null object\n",
      "Format                     806408 non-null object\n",
      "Collection                 363333 non-null object\n",
      "N°                         68370 non-null object\n",
      "Type de document           815532 non-null object\n",
      "Nombre de prêts 2017       815531 non-null float64\n",
      "Catégorie statistique 1    815531 non-null object\n",
      "Catégorie statistique 2    815531 non-null object\n",
      "dtypes: float64(1), object(9)\n",
      "memory usage: 62.2+ MB\n",
      "None\n"
     ]
    },
    {
     "data": {
      "text/html": [
       "<div>\n",
       "<style scoped>\n",
       "    .dataframe tbody tr th:only-of-type {\n",
       "        vertical-align: middle;\n",
       "    }\n",
       "\n",
       "    .dataframe tbody tr th {\n",
       "        vertical-align: top;\n",
       "    }\n",
       "\n",
       "    .dataframe thead th {\n",
       "        text-align: right;\n",
       "    }\n",
       "</style>\n",
       "<table border=\"1\" class=\"dataframe\">\n",
       "  <thead>\n",
       "    <tr style=\"text-align: right;\">\n",
       "      <th></th>\n",
       "      <th>Langue</th>\n",
       "      <th>Editeur</th>\n",
       "      <th>Date</th>\n",
       "      <th>Format</th>\n",
       "      <th>Collection</th>\n",
       "      <th>N°</th>\n",
       "      <th>Type de document</th>\n",
       "      <th>Nombre de prêts 2017</th>\n",
       "      <th>Catégorie statistique 1</th>\n",
       "      <th>Catégorie statistique 2</th>\n",
       "    </tr>\n",
       "  </thead>\n",
       "  <tbody>\n",
       "    <tr>\n",
       "      <th>0</th>\n",
       "      <td>anglais</td>\n",
       "      <td>Gestalten</td>\n",
       "      <td>2013</td>\n",
       "      <td>1 vol. (395 p.) | 28 cm</td>\n",
       "      <td>NaN</td>\n",
       "      <td>NaN</td>\n",
       "      <td>Livre de Fonds spécialisés</td>\n",
       "      <td>0.0</td>\n",
       "      <td>D707 Musique</td>\n",
       "      <td>pas de code stat 2</td>\n",
       "    </tr>\n",
       "    <tr>\n",
       "      <th>1</th>\n",
       "      <td>anglais</td>\n",
       "      <td>Puffin</td>\n",
       "      <td>2011</td>\n",
       "      <td>1 vol. (non paginé [32] p.) | ill. en coul., c...</td>\n",
       "      <td>NaN</td>\n",
       "      <td>NaN</td>\n",
       "      <td>Livre jeunesse</td>\n",
       "      <td>12.0</td>\n",
       "      <td>LALB Albums</td>\n",
       "      <td>pas de code stat 2</td>\n",
       "    </tr>\n",
       "    <tr>\n",
       "      <th>2</th>\n",
       "      <td>anglais</td>\n",
       "      <td>Kitchen 93</td>\n",
       "      <td>ca 2011</td>\n",
       "      <td>1 vol. (407 p.) | couv. ill. en coul., ill. en...</td>\n",
       "      <td>NaN</td>\n",
       "      <td>NaN</td>\n",
       "      <td>Livre en langue étrangère</td>\n",
       "      <td>2.0</td>\n",
       "      <td>D704 Arts decoratifs</td>\n",
       "      <td>pas de code stat 2</td>\n",
       "    </tr>\n",
       "    <tr>\n",
       "      <th>3</th>\n",
       "      <td>français</td>\n",
       "      <td>Ed. Delatour France</td>\n",
       "      <td>2014</td>\n",
       "      <td>1 vol. (223 p.) | 21 cm</td>\n",
       "      <td>Filigrane | 2</td>\n",
       "      <td>NaN</td>\n",
       "      <td>Livre de Fonds spécialisés</td>\n",
       "      <td>0.0</td>\n",
       "      <td>D707 Musique</td>\n",
       "      <td>pas de code stat 2</td>\n",
       "    </tr>\n",
       "    <tr>\n",
       "      <th>4</th>\n",
       "      <td>anglais</td>\n",
       "      <td>Walker Books</td>\n",
       "      <td>2011</td>\n",
       "      <td>[30 p.] | ill. en coul., couv. ill. en coul. |...</td>\n",
       "      <td>NaN</td>\n",
       "      <td>NaN</td>\n",
       "      <td>Livre jeunesse</td>\n",
       "      <td>7.0</td>\n",
       "      <td>LALB Albums</td>\n",
       "      <td>pas de code stat 2</td>\n",
       "    </tr>\n",
       "  </tbody>\n",
       "</table>\n",
       "</div>"
      ],
      "text/plain": [
       "     Langue              Editeur     Date  \\\n",
       "0   anglais            Gestalten     2013   \n",
       "1   anglais               Puffin     2011   \n",
       "2   anglais           Kitchen 93  ca 2011   \n",
       "3  français  Ed. Delatour France     2014   \n",
       "4   anglais         Walker Books     2011   \n",
       "\n",
       "                                              Format     Collection   N°  \\\n",
       "0                            1 vol. (395 p.) | 28 cm            NaN  NaN   \n",
       "1  1 vol. (non paginé [32] p.) | ill. en coul., c...            NaN  NaN   \n",
       "2  1 vol. (407 p.) | couv. ill. en coul., ill. en...            NaN  NaN   \n",
       "3                            1 vol. (223 p.) | 21 cm  Filigrane | 2  NaN   \n",
       "4  [30 p.] | ill. en coul., couv. ill. en coul. |...            NaN  NaN   \n",
       "\n",
       "             Type de document  Nombre de prêts 2017 Catégorie statistique 1  \\\n",
       "0  Livre de Fonds spécialisés                   0.0            D707 Musique   \n",
       "1              Livre jeunesse                  12.0             LALB Albums   \n",
       "2   Livre en langue étrangère                   2.0    D704 Arts decoratifs   \n",
       "3  Livre de Fonds spécialisés                   0.0            D707 Musique   \n",
       "4              Livre jeunesse                   7.0             LALB Albums   \n",
       "\n",
       "  Catégorie statistique 2  \n",
       "0      pas de code stat 2  \n",
       "1      pas de code stat 2  \n",
       "2      pas de code stat 2  \n",
       "3      pas de code stat 2  \n",
       "4      pas de code stat 2  "
      ]
     },
     "execution_count": 4,
     "metadata": {},
     "output_type": "execute_result"
    }
   ],
   "source": [
    "# importer les données\n",
    "titres = pd.read_csv('tous-les-documents-des-bibliotheques-de-pret.csv', \n",
    "                                      usecols = [4,7,8,9,10,12,30,33,36,37],\n",
    "                                      encoding = 'utf-8', sep = ';')\n",
    "print(titres.info())\n",
    "titres.head()"
   ]
  },
  {
   "cell_type": "markdown",
   "metadata": {},
   "source": [
    "Le jeu de données comporte de nombreuses valeurs manquantes dans plusieurs colonnes. De plus, la plupart des variables ne peuvent être utilisées en l'état et doivent donc faire l'objet d'un retraitement."
   ]
  },
  {
   "cell_type": "code",
   "execution_count": 5,
   "metadata": {},
   "outputs": [
    {
     "data": {
      "text/plain": [
       "Langue                      81024\n",
       "Editeur                      5012\n",
       "Date                         4727\n",
       "Format                       9126\n",
       "Collection                 452201\n",
       "N°                         747164\n",
       "Type de document                2\n",
       "Nombre de prêts 2017            3\n",
       "Catégorie statistique 1         3\n",
       "Catégorie statistique 2         3\n",
       "dtype: int64"
      ]
     },
     "execution_count": 5,
     "metadata": {},
     "output_type": "execute_result"
    }
   ],
   "source": [
    "titres.isnull().sum()"
   ]
  },
  {
   "cell_type": "code",
   "execution_count": 6,
   "metadata": {},
   "outputs": [],
   "source": [
    "    # retirer les valeurs manquantes dans la variable cible\n",
    "titres = titres[np.isfinite(titres['Nombre de prêts 2017'])]"
   ]
  },
  {
   "cell_type": "markdown",
   "metadata": {},
   "source": [
    "### 2.2 Exploration et retraitement des données"
   ]
  },
  {
   "cell_type": "markdown",
   "metadata": {},
   "source": [
    "#### 2.2.1 Langue"
   ]
  },
  {
   "cell_type": "markdown",
   "metadata": {},
   "source": [
    "La valeur 'nd' pour 'non disponible' est imputée aux valeurs manquantes. Le nombre de valeurs possibles pour cette variable étant important, les moins fréquentes sont fusionnées en une catégorie Autre.\n",
    "\n",
    "Pour toutes les langues, le nombre de prêts est en général assez proche mais il convient de noter que ce sont les documents en français qui comportent le plus de valeurs très élevées."
   ]
  },
  {
   "cell_type": "code",
   "execution_count": 7,
   "metadata": {},
   "outputs": [
    {
     "data": {
      "text/plain": [
       "<seaborn.axisgrid.FacetGrid at 0x29495af04e0>"
      ]
     },
     "execution_count": 7,
     "metadata": {},
     "output_type": "execute_result"
    },
    {
     "data": {
      "image/png": "[encoded data removed]",
      "text/plain": [
       "<Figure size 360x360 with 1 Axes>"
      ]
     },
     "metadata": {
      "needs_background": "light"
     },
     "output_type": "display_data"
    }
   ],
   "source": [
    "    # langue\n",
    "#pd.value_counts(titres.Langue)\n",
    "titres['Langue'].fillna('nd', inplace = True)\n",
    "series = pd.value_counts(titres.Langue)\n",
    "mask = (series/series.sum() * 100).lt(0.5)  # ici, niveau = 0.5 %\n",
    "titres['Langue'] = np.where(titres['Langue'].isin(series[mask].index),'Other',titres['Langue'])\n",
    "sns.catplot(x = 'Langue', y = 'Nombre de prêts 2017', kind = 'boxen', data = titres).set_xticklabels(rotation=90)"
   ]
  },
  {
   "cell_type": "markdown",
   "metadata": {},
   "source": [
    "#### 2.2.2 Editeur"
   ]
  },
  {
   "cell_type": "markdown",
   "metadata": {},
   "source": [
    "La valeur 'nd' pour 'non disponible' est imputée aux valeurs manquantes. Le nombre de valeurs possibles pour cette variable étant important, de nouveau, les moins fréquentes sont fusionnées en une catégorie Autre. \n",
    "\n",
    "C'est au sein de cette dernière que l'on retrouve les valeurs les plus extrêmes, même si dans l'ensemble le niveau des prêts est assez semblable pour l'ensemble des éditeurs. "
   ]
  },
  {
   "cell_type": "code",
   "execution_count": 8,
   "metadata": {},
   "outputs": [
    {
     "data": {
      "text/plain": [
       "<seaborn.axisgrid.FacetGrid at 0x29495b18358>"
      ]
     },
     "execution_count": 8,
     "metadata": {},
     "output_type": "execute_result"
    },
    {
     "data": {
      "image/png": "[encoded data removed]",
      "text/plain": [
       "<Figure size 360x360 with 1 Axes>"
      ]
     },
     "metadata": {
      "needs_background": "light"
     },
     "output_type": "display_data"
    }
   ],
   "source": [
    "    # Editeur\n",
    "#pd.value_counts(titres.Editeur)\n",
    "titres['Editeur'].fillna('nd', inplace = True)\n",
    "series = pd.value_counts(titres.Editeur)\n",
    "mask = (series/series.sum() * 100).lt(0.5)  # ici, niveau = 0.5 %\n",
    "titres['Editeur'] = np.where(titres['Editeur'].isin(series[mask].index),'Other',titres['Editeur'])\n",
    "sns.catplot(x = 'Editeur', y = 'Nombre de prêts 2017', kind = 'boxen', data = titres).set_xticklabels(rotation=90)"
   ]
  },
  {
   "cell_type": "markdown",
   "metadata": {},
   "source": [
    "#### 2.2.3 Date"
   ]
  },
  {
   "cell_type": "markdown",
   "metadata": {},
   "source": [
    "La colonne Date est impratiquable en l'état de son chargement initial car aux années sont associées, pour nombre d'observations, du texte, des symboles, etc. Elle a été retravaillée afin de ne conserver que l'année, lorsque celle-ci est disponible. **Un recodage manuel, en-dehors du code ci-dessous, a de plus été nécessaire pour environ 50 observations**. Pour nombre d'observations, seuls deux ou trois premiers chiffres sont disponibles, suivis d'un tiret ou d'un point d'interrogation, par exemple : 198-?. Pour ces observations, par prudence, la valeur a été supprimée, même si une autre stratégie aurait pu être d'imputer un chiffre a priori neutre, tel 5 : 1985, dans notre exemple. \n",
    "\n",
    "Il résulte de ces opérations que 50 % des documents ont une date antérieure à 2005. La médiane a été imputée sur les valeurs manquantes et sur les valeurs supprimées. A noter qu'**ont été supprimées les observations pour lesquelles la date était 2018**, dans la mesure où cette date semble refléter une erreur : comment des documents datés de 2018 ont-ils pu être empruntés en 2017 ? Quelques milliers de lignes ont ainsi été retirées du jeu de données. \n",
    "\n",
    "Ensuite, les années ont été soustraites à 2018, date de création du jeu de données, afin d'obtenir l'\"âge\" du document. L'âge de l'un d'entre eux étant probablement erroné, la médiane (13 ans) lui est substituée. \n",
    "\n",
    "Il existe une corrélation légèrement négative entre l'âge et le nombre de prêts en 2017.  "
   ]
  },
  {
   "cell_type": "code",
   "execution_count": 9,
   "metadata": {},
   "outputs": [],
   "source": [
    "    # Date => Date_new\n",
    "titres.Date = titres.Date.astype(str)\n",
    "titres['Date_new'] = titres['Date'].map(lambda x: ''.join([i for i in x if i.isdigit()]))\n",
    "titres['Date_new'] = titres['Date_new'].astype(str).str[:4]\n",
    "titres['Date_new'] = titres['Date_new'].str.replace(' ', '')\n",
    "#titres.to_csv('titres.csv', sep = ';', index = False, encoding = 'utf-8')\n",
    "\n",
    "    ### recodage manuel d'environ 50 cellules de la colonne Date_new ###"
   ]
  },
  {
   "cell_type": "code",
   "execution_count": 17,
   "metadata": {},
   "outputs": [
    {
     "name": "stdout",
     "output_type": "stream",
     "text": [
      "Médiane de la date :  2005.0\n",
      "count    806053.000000\n",
      "mean       2002.179960\n",
      "std          13.479789\n",
      "min        1192.000000\n",
      "25%        1996.000000\n",
      "50%        2005.000000\n",
      "75%        2011.000000\n",
      "max        2018.000000\n",
      "Name: Date_new, dtype: float64\n"
     ]
    }
   ],
   "source": [
    "titres = pd.read_csv('titres.csv',encoding = 'utf-8', sep = ';')\n",
    "print('Médiane de la date : ', titres.Date_new.median()) # 2005\n",
    "print(titres.Date_new.describe())\n",
    "titres['Date_new'].fillna(2005, inplace = True) # impute la médiane\n",
    "titres = titres[titres['Date_new'] != 2018] # retirer les lignes pour lesquelles la date d'impression est 2018\n",
    "\n",
    "        # créer la variable âge\n",
    "titres['age'] = 2018 - titres['Date_new']\n",
    "\n",
    "        # supprimer les colonnes désormais inutiles\n",
    "titres.drop(columns = ['Date','Date_new'], inplace=True)"
   ]
  },
  {
   "cell_type": "code",
   "execution_count": 18,
   "metadata": {},
   "outputs": [
    {
     "data": {
      "text/plain": [
       "<matplotlib.axes._subplots.AxesSubplot at 0x275842f5940>"
      ]
     },
     "execution_count": 18,
     "metadata": {},
     "output_type": "execute_result"
    },
    {
     "data": {
      "image/png": "[encoded data removed]",
      "text/plain": [
       "<Figure size 432x288 with 1 Axes>"
      ]
     },
     "metadata": {
      "needs_background": "light"
     },
     "output_type": "display_data"
    }
   ],
   "source": [
    "sns.scatterplot(x = 'age', y = 'Nombre de prêts 2017', data = titres)"
   ]
  },
  {
   "cell_type": "code",
   "execution_count": 19,
   "metadata": {},
   "outputs": [],
   "source": [
    "        # une valeur semble erronnée pour l'âge : imputer la médiane à la place\n",
    "titres.age.median() # 13\n",
    "titres['age'] = coding(titres['age'], {826:13})"
   ]
  },
  {
   "cell_type": "code",
   "execution_count": 20,
   "metadata": {},
   "outputs": [
    {
     "name": "stdout",
     "output_type": "stream",
     "text": [
      "Coefficient de corrélation entre l'âge et le nombre de prêts :  [[ 1.         -0.10607475]\n",
      " [-0.10607475  1.        ]]\n"
     ]
    },
    {
     "data": {
      "image/png": "[encoded data removed]",
      "text/plain": [
       "<Figure size 432x288 with 1 Axes>"
      ]
     },
     "metadata": {
      "needs_background": "light"
     },
     "output_type": "display_data"
    }
   ],
   "source": [
    "sns.scatterplot(x = 'age', y = 'Nombre de prêts 2017', data = titres)\n",
    "print('Coefficient de corrélation entre l\\'âge et le nombre de prêts : ', \n",
    "      np.corrcoef(titres['age'], titres['Nombre de prêts 2017']))"
   ]
  },
  {
   "cell_type": "markdown",
   "metadata": {},
   "source": [
    "#### 2.2.4 Format"
   ]
  },
  {
   "cell_type": "markdown",
   "metadata": {},
   "source": [
    "Quatre variables ont été créées à partir d'informations présentes dans la variable Format, afin de savoir, pour chacun des documents, s'il s'agit ou non d'un magazine, de DVD, de diapositives, de partitions. Le choix de ces quatre types de format a été réalisé à partir d'une observation sommaire du nombre de prêts en 2017 en fonction du format, les deux premiers (magazine et DVD) étant à première vue très représentés parmi les plus empruntés, les deux suivants parmi les moins empruntés. Les graphiques confirment cette première impression, sauf pour les DVD : seuls quelques DVD ont été fortement empruntés, et non les DVD en général par rapport aux autres formats de documents.\n",
    "\n",
    "La colonne Format, comprenant un grand nombre de valeurs possibles, a été retravaillée afin de ne conserver que les plus fréquentes tandis que les autres ont été fusionnées dans une catégorie Autre. \n",
    "\n",
    "C'est au sein de cette dernière que l'on retrouve les valeurs les plus extrêmes, même si dans l'ensemble le nombre de prêts n'est pas très différent en fonction du seul format. "
   ]
  },
  {
   "cell_type": "code",
   "execution_count": 21,
   "metadata": {},
   "outputs": [
    {
     "data": {
      "text/plain": [
       "<seaborn.axisgrid.FacetGrid at 0x275842f5fd0>"
      ]
     },
     "execution_count": 21,
     "metadata": {},
     "output_type": "execute_result"
    },
    {
     "data": {
      "image/png": "[encoded data removed]",
      "text/plain": [
       "<Figure size 360x360 with 1 Axes>"
      ]
     },
     "metadata": {
      "needs_background": "light"
     },
     "output_type": "display_data"
    },
    {
     "data": {
      "image/png": "[encoded data removed]",
      "text/plain": [
       "<Figure size 360x360 with 1 Axes>"
      ]
     },
     "metadata": {
      "needs_background": "light"
     },
     "output_type": "display_data"
    },
    {
     "data": {
      "image/png": "[encoded data removed]",
      "text/plain": [
       "<Figure size 360x360 with 1 Axes>"
      ]
     },
     "metadata": {
      "needs_background": "light"
     },
     "output_type": "display_data"
    },
    {
     "data": {
      "image/png": "[encoded data removed]",
      "text/plain": [
       "<Figure size 360x360 with 1 Axes>"
      ]
     },
     "metadata": {
      "needs_background": "light"
     },
     "output_type": "display_data"
    },
    {
     "data": {
      "image/png": "[encoded data removed]",
      "text/plain": [
       "<Figure size 360x360 with 1 Axes>"
      ]
     },
     "metadata": {
      "needs_background": "light"
     },
     "output_type": "display_data"
    }
   ],
   "source": [
    "    # format : création de quatre variables nouvelles\n",
    "#pd.value_counts(titres.Format)\n",
    "titres['Format'].fillna('nd', inplace = True)\n",
    "\n",
    "        # is Magazine\n",
    "titres['is_magazine'] = titres['Format'].str.count('Magazine')\n",
    "sns.catplot(x = 'is_magazine', y = 'Nombre de prêts 2017', kind = 'boxen', data = titres) \n",
    "\n",
    "        # is_Diapositives\n",
    "titres['is_Diapositives'] = titres['Format'].str.count('diapositives')\n",
    "sns.catplot(x = 'is_Diapositives', y = 'Nombre de prêts 2017', kind = 'boxen', data = titres)\n",
    "\n",
    "        # is_Partition\n",
    "titres['is_Partition'] = titres['Format'].str.count('partition')\n",
    "titres['is_Partition'] = coding(titres['is_Partition'], {2:1})\n",
    "sns.catplot(x = 'is_Partition', y = 'Nombre de prêts 2017', kind = 'boxen', data = titres)\n",
    "\n",
    "        # is_DVD\n",
    "titres['is_DVD'] = titres['Format'].str.count('DVD')\n",
    "titres['is_DVD'] = coding(titres['is_DVD'], {2:1,3:1,4:1,5:1})\n",
    "sns.catplot(x = 'is_DVD', y = 'Nombre de prêts 2017', kind = 'boxen', data = titres)\n",
    "\n",
    "    # Format\n",
    "series = pd.value_counts(titres.Format)\n",
    "mask = (series/series.sum() * 100).lt(0.5)  # ici, niveau = 0.5 %\n",
    "titres['Format'] = np.where(titres['Format'].isin(series[mask].index),'Other',titres['Format'])\n",
    "sns.catplot(x = 'Format', y = 'Nombre de prêts 2017', kind = 'boxen', data = titres).set_xticklabels(rotation=90) "
   ]
  },
  {
   "cell_type": "markdown",
   "metadata": {},
   "source": [
    "#### 2.2.5 Collection"
   ]
  },
  {
   "cell_type": "markdown",
   "metadata": {},
   "source": [
    "La colonne Collection comprenant un trop grand nombre de niveaux et de valeurs manquantes, il a paru utile d'en extraire seulements les informations permettant de savoir si le document appartient à l'une des trois collections suivantes : Ainsi va la vie (livres - très empruntés - de Dominique de Saint Mars), Tom-Tom et Nana, Astérix. \n",
    "\n",
    "L'observation des données semble indiquer que ce choix est judicieux dans la mesure où les documents rattachés à chacune de ces collections sont empruntés dans les mêmes proportions, tandis que les documents d'autres collections connaissent une dispersion bien plus grande en raison de nombreuses valeurs extrêmes. "
   ]
  },
  {
   "cell_type": "code",
   "execution_count": 22,
   "metadata": {},
   "outputs": [
    {
     "data": {
      "image/png": "[encoded data removed]",
      "text/plain": [
       "<Figure size 360x360 with 1 Axes>"
      ]
     },
     "metadata": {
      "needs_background": "light"
     },
     "output_type": "display_data"
    },
    {
     "data": {
      "image/png": "[encoded data removed]",
      "text/plain": [
       "<Figure size 360x360 with 1 Axes>"
      ]
     },
     "metadata": {
      "needs_background": "light"
     },
     "output_type": "display_data"
    },
    {
     "data": {
      "image/png": "[encoded data removed]",
      "text/plain": [
       "<Figure size 360x360 with 1 Axes>"
      ]
     },
     "metadata": {
      "needs_background": "light"
     },
     "output_type": "display_data"
    }
   ],
   "source": [
    "    # collection\n",
    "#pd.value_counts(titres.Collection)\n",
    "titres['Collection'].fillna('nd', inplace = True)\n",
    "\n",
    "        # is Ainsi va la vie\n",
    "titres['is_Ainsi_va'] = titres['Collection'].str.count('Ainsi va la vie')\n",
    "sns.catplot(x = 'is_Ainsi_va', y = 'Nombre de prêts 2017', kind = 'boxen', data = titres)\n",
    "\n",
    "        # is Tom-Tom et Nana\n",
    "titres['is_Tom_Nana'] = titres['Collection'].str.count('Tom-Tom et Nana')\n",
    "sns.catplot(x = 'is_Tom_Nana', y = 'Nombre de prêts 2017', kind = 'boxen', data = titres)\n",
    "\n",
    "        # is Astérix\n",
    "titres['is_Astérix'] = titres['Collection'].str.count('Astérix')\n",
    "titres['is_Astérix'] = coding(titres['is_Astérix'], {2:1})\n",
    "sns.catplot(x = 'is_Astérix', y = 'Nombre de prêts 2017', kind = 'boxen', data = titres)\n",
    "\n",
    "    # supprimer la variable d'origine\n",
    "titres.drop(columns = ['Collection'], inplace=True)"
   ]
  },
  {
   "cell_type": "markdown",
   "metadata": {},
   "source": [
    "#### 2.2.6 Numéro"
   ]
  },
  {
   "cell_type": "markdown",
   "metadata": {},
   "source": [
    "La colonne Numéro est celle qui comporte le plus de valeurs manquantes : la valeur 'nd' pour 'non disponible' leur a été imputée. Du reste, les valeurs les moins fréquentes ont été regroupées dans une catégorie Autre.\n",
    "\n",
    "L'observation des données laisse penser que cette variable ne sera pas utile à la prédiction des emprunts en 2017 : les valeurs disponibles présentent des dispersions similaires tandis que les valeurs imputées sont associées à des niveaux d'emprunts bien trop différents. "
   ]
  },
  {
   "cell_type": "code",
   "execution_count": 23,
   "metadata": {
    "scrolled": false
   },
   "outputs": [
    {
     "data": {
      "text/plain": [
       "<seaborn.axisgrid.FacetGrid at 0x2758733f4e0>"
      ]
     },
     "execution_count": 23,
     "metadata": {},
     "output_type": "execute_result"
    },
    {
     "data": {
      "image/png": "[encoded data removed]",
      "text/plain": [
       "<Figure size 360x360 with 1 Axes>"
      ]
     },
     "metadata": {
      "needs_background": "light"
     },
     "output_type": "display_data"
    }
   ],
   "source": [
    "    # N°\n",
    "#pd.value_counts(titres['N°'])\n",
    "titres['N°'].fillna('nd', inplace = True)\n",
    "titres['N°'] = coding(titres['N°'], {'[1]':'1', '[2]':'2', '[3]':'3'})\n",
    "series = pd.value_counts(titres['N°'])\n",
    "mask = (series/series.sum() * 100).lt(0.5)  # ici, niveau = 0.5 %\n",
    "titres['N°'] = np.where(titres['N°'].isin(series[mask].index),'Other',titres['N°'])\n",
    "sns.catplot(x = 'N°', y = 'Nombre de prêts 2017', kind = 'boxen', data = titres).set_xticklabels(rotation=90) "
   ]
  },
  {
   "cell_type": "markdown",
   "metadata": {},
   "source": [
    "#### 2.2.7 Type de document"
   ]
  },
  {
   "cell_type": "markdown",
   "metadata": {},
   "source": [
    "Les types les moins fréquents ont été fusionnés au sein d'une catégorie Autre, qui contient désormais l'essentiel des valeurs extrêmes d'emprunts en 2017. Du reste, il semblerait que le nombre d'emprunts ne varie pas fortement en fonction du type."
   ]
  },
  {
   "cell_type": "code",
   "execution_count": 24,
   "metadata": {},
   "outputs": [
    {
     "data": {
      "text/plain": [
       "<seaborn.axisgrid.FacetGrid at 0x275848c5cc0>"
      ]
     },
     "execution_count": 24,
     "metadata": {},
     "output_type": "execute_result"
    },
    {
     "data": {
      "image/png": "[encoded data removed]",
      "text/plain": [
       "<Figure size 360x360 with 1 Axes>"
      ]
     },
     "metadata": {
      "needs_background": "light"
     },
     "output_type": "display_data"
    }
   ],
   "source": [
    "    # type de document\n",
    "#pd.value_counts(titres['Type de document'])\n",
    "series = pd.value_counts(titres['Type de document'])\n",
    "mask = (series/series.sum() * 100).lt(0.5) # ici, niveau = 0.5 %\n",
    "titres['Type de document'] = np.where(titres['Type de document'].isin(series[mask].index),\n",
    "                                             'Other',titres['Type de document'])\n",
    "sns.catplot(x = 'Type de document', y = 'Nombre de prêts 2017', \n",
    "            kind = 'boxen', data = titres).set_xticklabels(rotation=90) "
   ]
  },
  {
   "cell_type": "markdown",
   "metadata": {},
   "source": [
    "#### 2.2.8 Catégorie statistique 1"
   ]
  },
  {
   "cell_type": "markdown",
   "metadata": {},
   "source": [
    "La 'catégorie statistique 1' désigne le classement des documents opéré par les bibliothèques selon leur contenu. Seuls les niveaux les plus fréquents de cette variable ont été conservés intacts tandis que les autres étaient fusionnés dans une catégorie Autre. \n",
    "\n",
    "Il apparait les différentes catégories statistiques connaissent globalement un niveau semblable d'emprunts de documents mais que certaines comprennent davantage de valeurs extrêmes que les autres, en particulier la catégorie Littérature française."
   ]
  },
  {
   "cell_type": "code",
   "execution_count": 25,
   "metadata": {},
   "outputs": [
    {
     "data": {
      "text/plain": [
       "<seaborn.axisgrid.FacetGrid at 0x275817bc128>"
      ]
     },
     "execution_count": 25,
     "metadata": {},
     "output_type": "execute_result"
    },
    {
     "data": {
      "image/png": "[encoded data removed]",
      "text/plain": [
       "<Figure size 360x360 with 1 Axes>"
      ]
     },
     "metadata": {
      "needs_background": "light"
     },
     "output_type": "display_data"
    }
   ],
   "source": [
    "    # cat stat 1\n",
    "#pd.value_counts(titres['Catégorie statistique 1'])\n",
    "series = pd.value_counts(titres['Catégorie statistique 1'])\n",
    "mask = (series/series.sum() * 100).lt(1) # ici, niveau = 1 %\n",
    "titres['Catégorie statistique 1'] = np.where(titres['Catégorie statistique 1'].isin(series[mask].index),\n",
    "                                             'Other',titres['Catégorie statistique 1'])\n",
    "titres['Catégorie statistique 1'] = coding(titres['Catégorie statistique 1'], \n",
    "                                           {'65':'cat65', '136':'cat136','155':'cat155','95':'cat95'})\n",
    "sns.catplot(x = 'Catégorie statistique 1', y = 'Nombre de prêts 2017', \n",
    "            kind = 'boxen', data = titres).set_xticklabels(rotation=90) "
   ]
  },
  {
   "cell_type": "markdown",
   "metadata": {},
   "source": [
    "#### 2.2.9 Catégorie statistique 2"
   ]
  },
  {
   "cell_type": "markdown",
   "metadata": {},
   "source": [
    "Pour certains documents, un deuxième niveau de classification a été appliqué par les bibliothèques. Les niveaux les moins fréquents ont été fusionnés dans une catégorie Autre.\n",
    "\n",
    "L'observation des données laisse penser que cette variable ne sera pas utile pour prédire le nombre de prêts en 2017."
   ]
  },
  {
   "cell_type": "code",
   "execution_count": 26,
   "metadata": {},
   "outputs": [
    {
     "data": {
      "text/plain": [
       "<seaborn.axisgrid.FacetGrid at 0x2758054b6d8>"
      ]
     },
     "execution_count": 26,
     "metadata": {},
     "output_type": "execute_result"
    },
    {
     "data": {
      "image/png": "[encoded data removed]",
      "text/plain": [
       "<Figure size 360x360 with 1 Axes>"
      ]
     },
     "metadata": {
      "needs_background": "light"
     },
     "output_type": "display_data"
    }
   ],
   "source": [
    "    # cat stat 2\n",
    "#pd.value_counts(titres['Catégorie statistique 2'])\n",
    "series = pd.value_counts(titres['Catégorie statistique 2'])\n",
    "mask = (series/series.sum() * 100).lt(0.5)  # ici, niveau = 0.5 % \n",
    "titres['Catégorie statistique 2'] = np.where(titres['Catégorie statistique 2'].isin(series[mask].index),\n",
    "                                             'Other',titres['Catégorie statistique 2'])\n",
    "sns.catplot(x = 'Catégorie statistique 2', y = 'Nombre de prêts 2017', \n",
    "            kind = 'boxen', data = titres).set_xticklabels(rotation=90) "
   ]
  },
  {
   "cell_type": "code",
   "execution_count": 27,
   "metadata": {},
   "outputs": [
    {
     "name": "stdout",
     "output_type": "stream",
     "text": [
      "<class 'pandas.core.frame.DataFrame'>\n",
      "Int64Index: 806944 entries, 0 to 815530\n",
      "Data columns (total 16 columns):\n",
      "Langue                     806944 non-null object\n",
      "Editeur                    806944 non-null object\n",
      "Format                     806944 non-null object\n",
      "N°                         806944 non-null object\n",
      "Type de document           806944 non-null object\n",
      "Nombre de prêts 2017       806944 non-null float64\n",
      "Catégorie statistique 1    806944 non-null object\n",
      "Catégorie statistique 2    806944 non-null object\n",
      "age                        806944 non-null float64\n",
      "is_magazine                806944 non-null int64\n",
      "is_Diapositives            806944 non-null int64\n",
      "is_Partition               806944 non-null int64\n",
      "is_DVD                     806944 non-null int64\n",
      "is_Ainsi_va                806944 non-null int64\n",
      "is_Tom_Nana                806944 non-null int64\n",
      "is_Astérix                 806944 non-null int64\n",
      "dtypes: float64(2), int64(7), object(7)\n",
      "memory usage: 124.7+ MB\n"
     ]
    }
   ],
   "source": [
    "titres.info()"
   ]
  },
  {
   "cell_type": "markdown",
   "metadata": {},
   "source": [
    "## 3. Construction des modèles"
   ]
  },
  {
   "cell_type": "markdown",
   "metadata": {},
   "source": [
    "Le jeu de données principal est coupé en plusieurs morceaux. Dans un premier temps, sont distingués un jeu d'entrainement et un jeu de test. Dans un second temps, le jeu d'entrainement est lui-même coupé en un jeu d'entrainement et un jeu de validation. Les modèles sont entrainés sur ce dernier jeu d'entrainement, puis évalués et ajustés sur le jeu de validation. \n",
    "\n",
    "La variable cible est le nombre de prêts en 2017 pour chacun des 806 944 documents. En moyenne, les documents ont été prêtés 11 fois chacun en 2017. Cette moyenne est cependant trompeuse car :\n",
    "- une importante minorité de documents n'a été prêté aucune fois en 2017 ;\n",
    "- plus de la moitié des documents ont été empruntés moins de 2 fois en 2017 ;\n",
    "- plus de trois quarts des documents ont été prêtés moins de 8 fois en 2017 ;\n",
    "- quelques documents ont été empruntés un très grand nombre de fois, jusqu'à 12 744.\n",
    "\n",
    "En raison de la grande dispersion des données de prêts, que reflète au demeurant un écart-type de 47, il apparait utile de mesurer la performance des modèles avec l'**erreur médiane absolue** en plus de l'**erreur moyenne absolue** car cette dernière est davantage affectée par la présence de données extrêmes. Autrement dit, l'erreur médiane parait ici mieux à même de synthétiser la marge d'erreur avec laquelle le modèle prédit le nombre de prêts d'un document donné."
   ]
  },
  {
   "cell_type": "code",
   "execution_count": 28,
   "metadata": {},
   "outputs": [
    {
     "name": "stdout",
     "output_type": "stream",
     "text": [
      "count    806944.000000\n",
      "mean         11.376845\n",
      "std          47.535018\n",
      "min           0.000000\n",
      "25%           0.000000\n",
      "50%           2.000000\n",
      "75%           8.000000\n",
      "max       12744.000000\n",
      "Name: Nombre de prêts 2017, dtype: float64\n",
      "La médiane de la variable cible est :  2.0\n"
     ]
    },
    {
     "name": "stderr",
     "output_type": "stream",
     "text": [
      "C:\\Users\\olivi\\Anaconda3\\envs\\dl\\lib\\site-packages\\sklearn\\preprocessing\\data.py:323: DataConversionWarning: Data with input dtype uint8, int64, float64 were all converted to float64 by MinMaxScaler.\n",
      "  return self.partial_fit(X, y)\n"
     ]
    },
    {
     "data": {
      "image/png": "[encoded data removed]",
      "text/plain": [
       "<Figure size 432x288 with 1 Axes>"
      ]
     },
     "metadata": {
      "needs_background": "light"
     },
     "output_type": "display_data"
    }
   ],
   "source": [
    "# préparer les jeux d'entrainement et de test\n",
    "Target = titres['Nombre de prêts 2017']\n",
    "print(Target.describe())\n",
    "print('La médiane de la variable cible est : ', Target.median()) # 2\n",
    "Target.plot.hist(bins = 200)\n",
    "\n",
    "titres.drop(columns = ['Nombre de prêts 2017'], inplace=True)\n",
    "\n",
    "# créer les variables binaires\n",
    "predictors = pd.get_dummies(titres)\n",
    "\n",
    "# créer les jeux d'entrainement et de test\n",
    "X_train, X_test, y_train, y_test = train_test_split(predictors, Target, test_size=0.2, random_state=15)\n",
    "\n",
    "# créer les jeux d'entrainement et de validation\n",
    "X_train, X_val, y_train, y_val = train_test_split(X_train, y_train, test_size=0.2, random_state=42)\n",
    "\n",
    "# normaliser la variable numérique âge\n",
    "scaler = preprocessing.MinMaxScaler(feature_range=(0, 1)).fit(X_train)\n",
    "X_train_preprocess = scaler.transform(X_train)\n",
    "X_train = pd.DataFrame(X_train_preprocess, columns = X_train.columns)\n",
    "del X_train_preprocess\n",
    "X_val_preprocess = scaler.transform(X_val)\n",
    "X_val = pd.DataFrame(X_val_preprocess, columns = X_val.columns)\n",
    "del X_val_preprocess\n",
    "\n",
    "del titres"
   ]
  },
  {
   "cell_type": "markdown",
   "metadata": {},
   "source": [
    "### 3.1 Régression linéaire"
   ]
  },
  {
   "cell_type": "markdown",
   "metadata": {},
   "source": [
    "Le premier modèle réalisé est une simple régression linéaire. Son erreur moyenne s'élève à 13 tandis que son erreur médiane est comprise entre 5 et 6. Ceci signifie que si, par exemple, pour un document donné, le modèle prédit qu'il sera emprunté 20 fois, alors on peut s'attendre à ce qu'il soit réellement emprunté entre 7 et 33 fois. Il peut l'être davantage que 33 fois, ou moins que 7, mais alors l'erreur sera moindre sur un autre document. \n",
    "\n",
    "Toutefois, l'écart entre l'erreur moyenne et l'erreur médiane confirme que la présence de valeurs extrêmes dans la variable à prédire - le nombre de prêts en 2017 - rend utile le recours à l'erreur médiane comme mesure de performance. En l'occurrence, elle indique ici que dans 50 % des prédictions d'emprunts, le modèle prédit à moins de 6 emprunts près le nombre réel d'emprunts ; autrement dit, dans 50 % des cas, le modèle se trompe de moins de 6 prêts."
   ]
  },
  {
   "cell_type": "code",
   "execution_count": 29,
   "metadata": {},
   "outputs": [
    {
     "name": "stdout",
     "output_type": "stream",
     "text": [
      "Erreur moyenne sur le jeu d'entrainement :  13.100338444245649\n",
      "Erreur médiane sur le jeu d'entrainement :  5.8125\n",
      "Erreur moyenne sur le jeu de validation :  12.697070132482903\n",
      "Erreur médiane sur le jeu de validation :  5.546875\n"
     ]
    }
   ],
   "source": [
    "# régression linéaire\n",
    "reg = LinearRegression().fit(X_train, y_train)\n",
    "y_train_pred = reg.predict(X_train)\n",
    "print(\"Erreur moyenne sur le jeu d\\'entrainement : \", mean_absolute_error(y_train, y_train_pred)) # 13.1\n",
    "print(\"Erreur médiane sur le jeu d\\'entrainement : \", median_absolute_error(y_train, y_train_pred)) # 5.8\n",
    "\n",
    "y_val_pred = reg.predict(X_val)\n",
    "y_val_pred = pd.DataFrame(y_val_pred)\n",
    "y_val_pred.describe()\n",
    "y_val_pred.rename(columns = {0:'predictions'}, inplace = True)\n",
    "y_val_pred.loc[y_val_pred['predictions'] < 0, 'predictions'] = 0\n",
    "print('Erreur moyenne sur le jeu de validation : ', mean_absolute_error(y_val, y_val_pred)) # 12.7\n",
    "print('Erreur médiane sur le jeu de validation : ', median_absolute_error(y_val, y_val_pred)) # 5.5"
   ]
  },
  {
   "cell_type": "markdown",
   "metadata": {},
   "source": [
    "A noter que ce modèle linéaire explique moins de 20 % de la variance du nombre de prêts en 2017 (R² = 16.9 %)."
   ]
  },
  {
   "cell_type": "code",
   "execution_count": 30,
   "metadata": {},
   "outputs": [
    {
     "name": "stdout",
     "output_type": "stream",
     "text": [
      "                            OLS Regression Results                            \n",
      "==============================================================================\n",
      "Dep. Variable:                      y   R-squared:                       0.169\n",
      "Model:                            OLS   Adj. R-squared:                  0.169\n",
      "Method:                 Least Squares   F-statistic:                     1221.\n",
      "Date:                Sun, 31 Mar 2019   Prob (F-statistic):               0.00\n",
      "Time:                        15:33:02   Log-Likelihood:            -2.6961e+06\n",
      "No. Observations:              516444   AIC:                         5.392e+06\n",
      "Df Residuals:                  516357   BIC:                         5.393e+06\n",
      "Df Model:                          86                                         \n",
      "Covariance Type:            nonrobust                                         \n",
      "==============================================================================\n",
      "                 coef    std err          t      P>|t|      [0.025      0.975]\n",
      "------------------------------------------------------------------------------\n",
      "x1           -55.6750      1.123    -49.556      0.000     -57.877     -53.473\n",
      "x2           346.4692      2.020    171.539      0.000     342.510     350.428\n",
      "x3            -6.3671      2.486     -2.562      0.010     -11.239      -1.496\n",
      "x4             0.0364      1.437      0.025      0.980      -2.781       2.854\n",
      "x5             5.0137      0.714      7.022      0.000       3.614       6.413\n",
      "x6           867.1814      5.126    169.172      0.000     857.135     877.228\n",
      "x7           111.9109      7.814     14.322      0.000      96.596     127.226\n",
      "x8             2.4173      7.290      0.332      0.740     -11.871      16.706\n",
      "x9             1.9799      0.345      5.747      0.000       1.305       2.655\n",
      "x10            2.3901      0.578      4.134      0.000       1.257       3.523\n",
      "x11            2.9040      0.237     12.234      0.000       2.439       3.369\n",
      "x12            2.2416      0.654      3.430      0.001       0.961       3.523\n",
      "x13            5.2928      0.212     24.987      0.000       4.878       5.708\n",
      "x14            2.8172      0.588      4.793      0.000       1.665       3.969\n",
      "x15            4.8549      0.565      8.589      0.000       3.747       5.963\n",
      "x16            7.0782      0.244     29.025      0.000       6.600       7.556\n",
      "x17            4.8956      0.378     12.946      0.000       4.154       5.637\n",
      "x18            2.9471      0.718      4.104      0.000       1.540       4.354\n",
      "x19            6.9816      0.831      8.406      0.000       5.354       8.609\n",
      "x20           -1.3780      0.815     -1.691      0.091      -2.975       0.219\n",
      "x21            2.0164      0.725      2.780      0.005       0.595       3.438\n",
      "x22            3.4709      0.530      6.551      0.000       2.432       4.509\n",
      "x23            6.0574      0.377     16.070      0.000       5.319       6.796\n",
      "x24            3.9323      0.854      4.603      0.000       2.258       5.607\n",
      "x25            8.7646      0.803     10.913      0.000       7.190      10.339\n",
      "x26           -0.6331      0.816     -0.776      0.438      -2.232       0.966\n",
      "x27            4.6320      0.810      5.716      0.000       3.044       6.220\n",
      "x28            1.6634      0.191      8.720      0.000       1.289       2.037\n",
      "x29           -3.0214      0.829     -3.646      0.000      -4.646      -1.397\n",
      "x30           -0.3105      0.707     -0.439      0.660      -1.696       1.075\n",
      "x31            1.8890      0.810      2.331      0.020       0.301       3.477\n",
      "x32           -5.0120      0.779     -6.437      0.000      -6.538      -3.486\n",
      "x33            2.4548      0.757      3.242      0.001       0.971       3.939\n",
      "x34            2.2674      0.724      3.133      0.002       0.849       3.686\n",
      "x35            3.1673      0.390      8.131      0.000       2.404       3.931\n",
      "x36            2.1804      0.593      3.679      0.000       1.019       3.342\n",
      "x37            2.6062      0.594      4.390      0.000       1.443       3.770\n",
      "x38            2.8256      0.496      5.692      0.000       1.853       3.799\n",
      "x39            1.0152      0.603      1.685      0.092      -0.166       2.196\n",
      "x40            3.0448      0.379      8.030      0.000       2.302       3.788\n",
      "x41            4.8052      0.407     11.818      0.000       4.008       5.602\n",
      "x42            3.9373      0.204     19.301      0.000       3.537       4.337\n",
      "x43            8.6050      0.598     14.400      0.000       7.434       9.776\n",
      "x44            6.5856      0.462     14.250      0.000       5.680       7.491\n",
      "x45            4.1882      0.481      8.707      0.000       3.245       5.131\n",
      "x46            4.2891      0.583      7.352      0.000       3.146       5.432\n",
      "x47            6.4298      0.743      8.657      0.000       4.974       7.886\n",
      "x48            9.9272      0.358     27.739      0.000       9.226      10.629\n",
      "x49            3.0347      0.237     12.791      0.000       2.570       3.500\n",
      "x50           60.5626      0.826     73.285      0.000      58.943      62.182\n",
      "x51            8.1512      0.703     11.587      0.000       6.772       9.530\n",
      "x52            3.2998      0.943      3.500      0.000       1.452       5.148\n",
      "x53           -1.6795      0.661     -2.541      0.011      -2.975      -0.384\n",
      "x54           -3.0893      0.296    -10.443      0.000      -3.669      -2.509\n",
      "x55            4.4497      0.775      5.742      0.000       2.931       5.969\n",
      "x56          -10.2341      0.536    -19.077      0.000     -11.286      -9.183\n",
      "x57          -11.3156      0.450    -25.150      0.000     -12.197     -10.434\n",
      "x58            2.3209      0.312      7.431      0.000       1.709       2.933\n",
      "x59           -4.9353      0.256    -19.298      0.000      -5.437      -4.434\n",
      "x60           -0.6661      0.666     -1.000      0.317      -1.971       0.639\n",
      "x61           -3.2087      0.724     -4.432      0.000      -4.628      -1.790\n",
      "x62           -4.1502      0.359    -11.550      0.000      -4.854      -3.446\n",
      "x63           -5.0509      1.359     -3.715      0.000      -7.715      -2.386\n",
      "x64           17.1686      0.628     27.349      0.000      15.938      18.399\n",
      "x65           15.8312      0.552     28.682      0.000      14.749      16.913\n",
      "x66            0.5023      0.565      0.889      0.374      -0.605       1.610\n",
      "x67           -2.2697      0.538     -4.220      0.000      -3.324      -1.216\n",
      "x68           -3.1332      0.548     -5.716      0.000      -4.208      -2.059\n",
      "x69           -3.2619      0.553     -5.903      0.000      -4.345      -2.179\n",
      "x70           -1.4881      0.583     -2.552      0.011      -2.631      -0.345\n",
      "x71            6.0927      0.509     11.959      0.000       5.094       7.091\n",
      "x72           16.0183      0.400     40.059      0.000      15.235      16.802\n",
      "x73            9.3141      0.723     12.879      0.000       7.897      10.732\n",
      "x74            2.6499      0.382      6.933      0.000       1.901       3.399\n",
      "x75            1.4430      0.245      5.889      0.000       0.963       1.923\n",
      "x76          -11.6611      0.860    -13.567      0.000     -13.346      -9.976\n",
      "x77            1.5659      0.355      4.415      0.000       0.871       2.261\n",
      "x78           -3.1500      0.519     -6.072      0.000      -4.167      -2.133\n",
      "x79           -2.9601      0.512     -5.786      0.000      -3.963      -1.957\n",
      "x80           -6.8183      0.458    -14.875      0.000      -7.717      -5.920\n",
      "x81           -1.3891      0.164     -8.479      0.000      -1.710      -1.068\n",
      "x82           -1.4553      0.835     -1.744      0.081      -3.091       0.181\n",
      "x83           -0.9025      0.547     -1.650      0.099      -1.975       0.170\n",
      "x84           12.5080      1.012     12.364      0.000      10.525      14.491\n",
      "x85          -15.6906      0.709    -22.116      0.000     -17.081     -14.300\n",
      "x86            0.4408      0.576      0.765      0.444      -0.688       1.570\n",
      "x87            5.6276      0.757      7.437      0.000       4.144       7.111\n",
      "x88            3.6857      0.846      4.357      0.000       2.028       5.344\n",
      "x89           13.2761      0.446     29.734      0.000      12.401      14.151\n",
      "x90           12.3642      0.357     34.594      0.000      11.664      13.065\n",
      "x91            4.0386      0.820      4.922      0.000       2.431       5.647\n",
      "x92           -0.6709      0.376     -1.786      0.074      -1.407       0.066\n",
      "x93            1.2328      0.215      5.722      0.000       0.811       1.655\n",
      "==============================================================================\n",
      "Omnibus:                  1894507.842   Durbin-Watson:                   2.001\n",
      "Prob(Omnibus):                  0.000   Jarque-Bera (JB):    5585339033234.477\n",
      "Skew:                          77.513   Prob(JB):                         0.00\n",
      "Kurtosis:                   16113.116   Cond. No.                     1.34e+16\n",
      "==============================================================================\n",
      "\n",
      "Warnings:\n",
      "[1] Standard Errors assume that the covariance matrix of the errors is correctly specified.\n",
      "[2] The smallest eigenvalue is 1.22e-26. This might indicate that there are\n",
      "strong multicollinearity problems or that the design matrix is singular.\n"
     ]
    }
   ],
   "source": [
    "import statsmodels.api as sm\n",
    "model = sm.OLS(y_train.values, X_train.values)\n",
    "results = model.fit()\n",
    "print(results.summary())"
   ]
  },
  {
   "cell_type": "markdown",
   "metadata": {},
   "source": [
    "Il est possible qu'un modèle non-linéaire soit mieux à même de prédire le nombre de prêts. Pour cela, en restant dans le cadre d'une régression linéaire, il convient de transformer la variable cible - nombre de prêts - et/ou les variables explicatives. En l'occurrence, nous choisissons de transformer la variable cible en prenant son logarithme naturel, d'entrainer le modèle puis, afin d'obtenir des prédictions dans l'unité de départ, de transformer ces prédictions avec la fonction exponentielle. Il apparait alors que l'**erreur moyenne par document baisse à 10 prêts** (contre 13), que **dans plus de 50 % des cas l'erreur est de moins de 2 prêts par document**, et que dans trois cas sur quatre, l'erreur est de moins de 5,7 prêts par document. "
   ]
  },
  {
   "cell_type": "code",
   "execution_count": 31,
   "metadata": {},
   "outputs": [
    {
     "name": "stdout",
     "output_type": "stream",
     "text": [
      "Erreur moyenne sur le jeu d'entrainement :  10.218268644922189\n",
      "Erreur médiane sur le jeu d'entrainement :  1.828535960352658\n",
      "Erreur moyenne sur le jeu de validation :  10.06901314044317\n",
      "Erreur médiane sur le jeu de validation :  1.8029635699281998\n"
     ]
    }
   ],
   "source": [
    "    # logarithme naturel\n",
    "y_train_log = y_train + 0.1 \n",
    "y_train_log = np.log(y_train_log)\n",
    "reg_log = LinearRegression().fit(X_train, y_train_log)\n",
    "y_train_pred = reg_log.predict(X_train)\n",
    "print(\"Erreur moyenne sur le jeu d\\'entrainement : \", mean_absolute_error(y_train, np.exp(y_train_pred))) # 10.2\n",
    "print(\"Erreur médiane sur le jeu d\\'entrainement : \", median_absolute_error(y_train, np.exp(y_train_pred))) # 1.8\n",
    "\n",
    "y_val_pred = reg_log.predict(X_val)\n",
    "print('Erreur moyenne sur le jeu de validation : ', mean_absolute_error(y_val, np.exp(y_val_pred))) # 10.1\n",
    "print('Erreur médiane sur le jeu de validation : ', median_absolute_error(y_val, np.exp(y_val_pred))) # 1.8"
   ]
  },
  {
   "cell_type": "code",
   "execution_count": 32,
   "metadata": {},
   "outputs": [
    {
     "name": "stdout",
     "output_type": "stream",
     "text": [
      "count    129111.000000\n",
      "mean         10.069013\n",
      "std          44.750583\n",
      "min           0.000000\n",
      "25%           0.738795\n",
      "50%           1.802964\n",
      "75%           5.693204\n",
      "max        9006.577166\n",
      "Name: Nombre de prêts 2017, dtype: float64\n"
     ]
    }
   ],
   "source": [
    "error = y_val - np.exp(y_val_pred)\n",
    "error = np.abs(error)\n",
    "print(error.describe())"
   ]
  },
  {
   "cell_type": "markdown",
   "metadata": {},
   "source": [
    "### 3.2 Gradient boosting machine"
   ]
  },
  {
   "cell_type": "markdown",
   "metadata": {},
   "source": [
    "La deuxième famille de modèle à laquelle nous recourons ici est celle du *boosting*, technique ensembliste à base de modèles plus faibles. Nous utilisons sa version dite *light* notamment en raison de sa vitesse de calcul. Sans transformation de la variable cible - nombre de prêts - le modèle prédit en moyenne à environ 11-12 emprunts près le nombre d'emprunts dans l'année mais à moins de 4 emprunts près dans 50 % des cas. \n",
    "\n",
    "Comme pour la régression linéaire, les résultats sont **meilleurs en prenant le logarithme naturel** de la variable cible, avec une **erreur moyenne** inférieure à 10, une **erreur médiane** inférieure à 2 ; dans trois cas sur quatre, l'erreur est de moins de 5,7 prêts par document."
   ]
  },
  {
   "cell_type": "code",
   "execution_count": 33,
   "metadata": {},
   "outputs": [],
   "source": [
    "# light GBM \n",
    "y_train = pd.DataFrame(y_train)\n",
    "\n",
    "params = {\"objective\" : \"regression\",\n",
    "          \"metric\" : \"mae\",\n",
    "          'boosting_type' : 'gbdt',\n",
    "          \"num_leaves\" : 30,\n",
    "          \"min_child_weight\" : 50,\n",
    "          \"learning_rate\" : 0.1,\n",
    "          \"bagging_fraction\" : 0.7,\n",
    "          \"feature_fraction\" : 0.7,\n",
    "          \"bagging_seed\" : 420,\n",
    "          \"verbosity\" : -1}\n",
    "\n",
    "d_train = lgb.Dataset(X_train, label = y_train[\"Nombre de prêts 2017\"])"
   ]
  },
  {
   "cell_type": "code",
   "execution_count": 34,
   "metadata": {},
   "outputs": [
    {
     "name": "stdout",
     "output_type": "stream",
     "text": [
      "Erreur moyenne sur le jeu d'entrainement :  11.770087993900356\n",
      "Erreur médiane sur le jeu d'entrainement :  4.149933179236179\n",
      "Erreur moyenne sur le jeu de validation :  11.670672312067913\n",
      "Erreur médiane sur le jeu de validation :  4.140584382752647\n"
     ]
    }
   ],
   "source": [
    "clf = lgb.train(params, d_train, 100)\n",
    "y_train_pred = clf.predict(X_train)\n",
    "print(\"Erreur moyenne sur le jeu d\\'entrainement : \", mean_absolute_error(y_train, y_train_pred)) # 11.8\n",
    "print(\"Erreur médiane sur le jeu d\\'entrainement : \", median_absolute_error(y_train, y_train_pred)) # 4.1\n",
    "\n",
    "y_val_pred = clf.predict(X_val)\n",
    "y_val_pred = pd.DataFrame(y_val_pred)\n",
    "y_val_pred.describe()\n",
    "y_val_pred.rename(columns = {0:'predictions'}, inplace = True)\n",
    "y_val_pred.loc[y_val_pred['predictions'] < 0, 'predictions'] = 0\n",
    "print('Erreur moyenne sur le jeu de validation : ', mean_absolute_error(y_val, y_val_pred)) # 11.7\n",
    "print('Erreur médiane sur le jeu de validation : ', median_absolute_error(y_val, y_val_pred)) # 4.1\n"
   ]
  },
  {
   "cell_type": "code",
   "execution_count": 35,
   "metadata": {},
   "outputs": [
    {
     "name": "stdout",
     "output_type": "stream",
     "text": [
      "Erreur moyenne sur le jeu d'entrainement :  9.926337411853593\n",
      "Erreur médiane sur le jeu d'entrainement :  1.7393572648680484\n",
      "Erreur moyenne sur le jeu de validation :  9.778418707684395\n",
      "Erreur médiane sur le jeu de validation :  1.7240816234036098\n"
     ]
    },
    {
     "data": {
      "text/plain": [
       "<matplotlib.axes._subplots.AxesSubplot at 0x275f29e4c88>"
      ]
     },
     "execution_count": 35,
     "metadata": {},
     "output_type": "execute_result"
    },
    {
     "data": {
      "image/png": "[encoded data removed]",
      "text/plain": [
       "<Figure size 432x288 with 1 Axes>"
      ]
     },
     "metadata": {
      "needs_background": "light"
     },
     "output_type": "display_data"
    }
   ],
   "source": [
    "    # logarithme naturel\n",
    "y_train_log = y_train + 0.1 \n",
    "y_train_log = np.log(y_train_log)\n",
    "d_train = lgb.Dataset(X_train, label = y_train_log[\"Nombre de prêts 2017\"])\n",
    "\n",
    "clf = lgb.train(params, d_train, 100)\n",
    "y_train_pred = clf.predict(X_train)\n",
    "print(\"Erreur moyenne sur le jeu d\\'entrainement : \", mean_absolute_error(y_train, np.exp(y_train_pred))) # 9.9\n",
    "print(\"Erreur médiane sur le jeu d\\'entrainement : \", median_absolute_error(y_train, np.exp(y_train_pred))) # 1.7\n",
    "\n",
    "y_val_pred = clf.predict(X_val)\n",
    "print('Erreur moyenne sur le jeu de validation : ', mean_absolute_error(y_val, np.exp(y_val_pred))) # 9.8\n",
    "print('Erreur médiane sur le jeu de validation : ', median_absolute_error(y_val, np.exp(y_val_pred))) # 1.7\n",
    "pd.DataFrame(np.exp(y_val_pred)).describe()\n",
    "y_val.describe()\n",
    "\n",
    "pd.DataFrame(np.exp(y_val_pred)).plot.hist(bins = 200)\n",
    "y_val.plot.hist(bins = 200)"
   ]
  },
  {
   "cell_type": "code",
   "execution_count": 36,
   "metadata": {},
   "outputs": [
    {
     "name": "stdout",
     "output_type": "stream",
     "text": [
      "count    129111.000000\n",
      "mean          9.778419\n",
      "std          44.173870\n",
      "min           0.000021\n",
      "25%           0.653899\n",
      "50%           1.724082\n",
      "75%           5.695793\n",
      "max        8960.356650\n",
      "Name: Nombre de prêts 2017, dtype: float64\n"
     ]
    }
   ],
   "source": [
    "error = y_val - np.exp(y_val_pred)\n",
    "error = np.abs(error)\n",
    "print(error.describe())"
   ]
  },
  {
   "cell_type": "markdown",
   "metadata": {},
   "source": [
    "### 3.3 Forêt aléatoire"
   ]
  },
  {
   "cell_type": "markdown",
   "metadata": {},
   "source": [
    "La forêt aléatoire est également une technique ensembliste, à la base d'arbres de décision. En gardant la valeur brute du nombre de prêts en 2017, le modèle prédit en moyenne à 10 emprunts près mais dans 50 % des cas son erreur est inférieure à 2 emprunts. Les résultats sont presque identiques en prenant le logarithme naturel du nombre de prêts en 2017. A noter que pour éviter un temps de calcul trop long, seuls 5 % des données d'entrainement ont été utilisées pour former la forêt. "
   ]
  },
  {
   "cell_type": "code",
   "execution_count": 37,
   "metadata": {},
   "outputs": [
    {
     "name": "stderr",
     "output_type": "stream",
     "text": [
      "C:\\Users\\olivi\\Anaconda3\\envs\\dl\\lib\\site-packages\\sklearn\\ensemble\\forest.py:246: FutureWarning: The default value of n_estimators will change from 10 in version 0.20 to 100 in 0.22.\n",
      "  \"10 in version 0.20 to 100 in 0.22.\", FutureWarning)\n",
      "C:\\Users\\olivi\\Anaconda3\\envs\\dl\\lib\\site-packages\\ipykernel_launcher.py:4: DataConversionWarning: A column-vector y was passed when a 1d array was expected. Please change the shape of y to (n_samples,), for example using ravel().\n",
      "  after removing the cwd from sys.path.\n"
     ]
    },
    {
     "name": "stdout",
     "output_type": "stream",
     "text": [
      "Erreur moyenne sur le jeu d'entrainement :  9.326482205785538\n",
      "Erreur médiane sur le jeu d'entrainement :  2.0\n",
      "Erreur moyenne sur le jeu de validation :  10.297332140561222\n",
      "Erreur médiane sur le jeu de validation :  2.0\n"
     ]
    }
   ],
   "source": [
    "# forêt aléatoire\n",
    "X_train, X_train_sample, y_train, y_train_sample = train_test_split(X_train, y_train, test_size=0.05, random_state=80)\n",
    "forest = RandomForestRegressor(criterion = 'mae',random_state = 1, n_jobs = -1, max_depth = 10)\n",
    "forest.fit(X_train_sample, y_train_sample)\n",
    "y_train_pred = forest.predict(X_train_sample)\n",
    "y_val_pred = forest.predict(X_val)\n",
    "\n",
    "print(\"Erreur moyenne sur le jeu d\\'entrainement : \", mean_absolute_error(y_train_sample, y_train_pred)) #9.3\n",
    "print(\"Erreur médiane sur le jeu d\\'entrainement : \", median_absolute_error(y_train_sample, y_train_pred)) # 2\n",
    "\n",
    "print('Erreur moyenne sur le jeu de validation : ', mean_absolute_error(y_val, y_val_pred)) #10.3\n",
    "print('Erreur médiane sur le jeu de validation : ', median_absolute_error(y_val, y_val_pred)) # 2\n"
   ]
  },
  {
   "cell_type": "code",
   "execution_count": 38,
   "metadata": {},
   "outputs": [
    {
     "name": "stderr",
     "output_type": "stream",
     "text": [
      "C:\\Users\\olivi\\Anaconda3\\envs\\dl\\lib\\site-packages\\sklearn\\ensemble\\forest.py:246: FutureWarning: The default value of n_estimators will change from 10 in version 0.20 to 100 in 0.22.\n",
      "  \"10 in version 0.20 to 100 in 0.22.\", FutureWarning)\n",
      "C:\\Users\\olivi\\Anaconda3\\envs\\dl\\lib\\site-packages\\ipykernel_launcher.py:6: DataConversionWarning: A column-vector y was passed when a 1d array was expected. Please change the shape of y to (n_samples,), for example using ravel().\n",
      "  \n"
     ]
    },
    {
     "name": "stdout",
     "output_type": "stream",
     "text": [
      "Erreur moyenne sur le jeu d'entrainement :  9.717932683797871\n",
      "Erreur médiane sur le jeu d'entrainement :  1.968505505577824\n",
      "Erreur moyenne sur le jeu de validation :  10.015568981187524\n",
      "Erreur médiane sur le jeu de validation :  2.0767832477536983\n"
     ]
    }
   ],
   "source": [
    "    # logarithme naturel\n",
    "y_train_log = y_train_sample + 0.1 \n",
    "y_train_log = np.log(y_train_log)\n",
    "\n",
    "forest = RandomForestRegressor(criterion = 'mae',random_state = 1, n_jobs = -1, max_depth = 10)\n",
    "forest.fit(X_train_sample, y_train_log)\n",
    "\n",
    "y_train_pred = forest.predict(X_train_sample)\n",
    "print(\"Erreur moyenne sur le jeu d\\'entrainement : \", mean_absolute_error(y_train_sample, np.exp(y_train_pred))) # 9.7\n",
    "print(\"Erreur médiane sur le jeu d\\'entrainement : \", median_absolute_error(y_train_sample, np.exp(y_train_pred))) # 2\n",
    "\n",
    "y_val_pred = forest.predict(X_val)\n",
    "print('Erreur moyenne sur le jeu de validation : ', mean_absolute_error(y_val, np.exp(y_val_pred))) # 10.0\n",
    "print('Erreur médiane sur le jeu de validation : ', median_absolute_error(y_val, np.exp(y_val_pred))) # 2.1"
   ]
  },
  {
   "cell_type": "markdown",
   "metadata": {},
   "source": [
    "## 4. Evaluation des modèles"
   ]
  },
  {
   "cell_type": "markdown",
   "metadata": {},
   "source": [
    "Les modèles ont été entrainés et leurs hyperparamètres ajustés sur un jeu de données dit d'entrainement, comprenant en son sein un jeu de validation. Désormais, il convient de recréer les jeux de données d'entrainement et de test, d'entrainer une dernière fois les modèles sur le jeu d'entrainement complet, c'est-à-dire intégrant le jeu qui avait été utilisé pour la validation, et d'évaluer leurs performances sur le jeu de test. Les performances devraient être semblables à celles obtenues sur le jeu de validation."
   ]
  },
  {
   "cell_type": "code",
   "execution_count": 46,
   "metadata": {},
   "outputs": [
    {
     "name": "stderr",
     "output_type": "stream",
     "text": [
      "C:\\Users\\olivi\\Anaconda3\\envs\\dl\\lib\\site-packages\\sklearn\\preprocessing\\data.py:323: DataConversionWarning: Data with input dtype uint8, int64, float64 were all converted to float64 by MinMaxScaler.\n",
      "  return self.partial_fit(X, y)\n"
     ]
    }
   ],
   "source": [
    "# re-créer les jeux d'entrainement et de test\n",
    "X_train, X_test, y_train, y_test = train_test_split(predictors, Target, test_size=0.2, random_state=15)\n",
    "\n",
    "# normaliser la variable numérique âge\n",
    "scaler = preprocessing.MinMaxScaler(feature_range=(0, 1)).fit(X_train)\n",
    "X_train_preprocess = scaler.transform(X_train)\n",
    "X_train = pd.DataFrame(X_train_preprocess, columns = X_train.columns)\n",
    "del X_train_preprocess\n",
    "\n",
    "X_test_preprocess = scaler.transform(X_test)\n",
    "X_test = pd.DataFrame(X_test_preprocess, columns = X_test.columns)\n",
    "del X_test_preprocess"
   ]
  },
  {
   "cell_type": "markdown",
   "metadata": {},
   "source": [
    "### 4.1 Régression linéaire avec logarithme naturel"
   ]
  },
  {
   "cell_type": "markdown",
   "metadata": {},
   "source": [
    "En prenant le logarithme naturel du nombre de prêts, le modèle commet en moyenne 10 erreurs par document mais dans plus de 50 % des cas son erreur est de moins de 2 prêts par document. "
   ]
  },
  {
   "cell_type": "code",
   "execution_count": 40,
   "metadata": {},
   "outputs": [
    {
     "name": "stdout",
     "output_type": "stream",
     "text": [
      "Erreur moyenne sur le jeu d'entrainement :  10.191600315263804\n",
      "Erreur médiane sur le jeu d'entrainement :  1.8245852150751276\n",
      "Erreur moyenne sur le jeu de test :  10.129894665764631\n",
      "Erreur médiane sur le jeu de test :  1.8224284200731486\n"
     ]
    }
   ],
   "source": [
    "    # régression linéaire avec le logarithme naturel\n",
    "y_train_log = y_train + 0.1 \n",
    "y_train_log = np.log(y_train_log)\n",
    "reg_log = LinearRegression().fit(X_train, y_train_log)\n",
    "y_train_pred = reg_log.predict(X_train)\n",
    "print(\"Erreur moyenne sur le jeu d\\'entrainement : \", mean_absolute_error(y_train, np.exp(y_train_pred))) # 10.2\n",
    "print(\"Erreur médiane sur le jeu d\\'entrainement : \", median_absolute_error(y_train, np.exp(y_train_pred))) # 1.8\n",
    "\n",
    "y_test_pred = reg_log.predict(X_test)\n",
    "print('Erreur moyenne sur le jeu de test : ', mean_absolute_error(y_test, np.exp(y_test_pred))) # 10.1\n",
    "print('Erreur médiane sur le jeu de test : ', median_absolute_error(y_test, np.exp(y_test_pred))) # 1.8"
   ]
  },
  {
   "cell_type": "markdown",
   "metadata": {},
   "source": [
    "### 4.2 Light GBM"
   ]
  },
  {
   "cell_type": "markdown",
   "metadata": {},
   "source": [
    "En prenant le logarithme naturel du nombre de prêts, le modèle commet en moyenne 10 erreurs par document. Dans plus de 50 % des cas, son erreur est de moins de 2 prêts par document, et est inférieure à 6 prêts dans trois cas sur quatre. Ces résultats sont donc très proches de ceux obtenus par la régression linéaire. "
   ]
  },
  {
   "cell_type": "code",
   "execution_count": 47,
   "metadata": {},
   "outputs": [
    {
     "name": "stdout",
     "output_type": "stream",
     "text": [
      "Erreur moyenne sur le jeu d'entrainement :  9.914353721648201\n",
      "Erreur médiane sur le jeu d'entrainement :  1.7446861437962358\n",
      "Erreur moyenne sur le jeu de test :  9.86735009828151\n",
      "Erreur médiane sur le jeu de test :  1.7468177162706384\n"
     ]
    }
   ],
   "source": [
    "# light GBM \n",
    "y_train = pd.DataFrame(y_train)\n",
    "\n",
    "params = {\"objective\" : \"regression\",\n",
    "          \"metric\" : \"mae\",\n",
    "          'boosting_type' : 'gbdt',\n",
    "          \"num_leaves\" : 30,\n",
    "          \"min_child_weight\" : 50,\n",
    "          \"learning_rate\" : 0.1,\n",
    "          \"bagging_fraction\" : 0.7,\n",
    "          \"feature_fraction\" : 0.7,\n",
    "          \"bagging_seed\" : 420,\n",
    "          \"verbosity\" : -1}\n",
    "\n",
    "    # logarithme naturel\n",
    "y_train_log = y_train + 0.1 \n",
    "y_train_log = np.log(y_train_log)\n",
    "d_train = lgb.Dataset(X_train, label = y_train_log[\"Nombre de prêts 2017\"])\n",
    "\n",
    "clf = lgb.train(params, d_train, 100)\n",
    "y_train_pred = clf.predict(X_train)\n",
    "print(\"Erreur moyenne sur le jeu d\\'entrainement : \", mean_absolute_error(y_train, np.exp(y_train_pred))) # 9.9\n",
    "print(\"Erreur médiane sur le jeu d\\'entrainement : \", median_absolute_error(y_train, np.exp(y_train_pred))) # 1.7\n",
    "\n",
    "y_test_pred = clf.predict(X_test)\n",
    "print('Erreur moyenne sur le jeu de test : ', mean_absolute_error(y_test, np.exp(y_test_pred))) # 9.9\n",
    "print('Erreur médiane sur le jeu de test : ', median_absolute_error(y_test, np.exp(y_test_pred))) # 1.7"
   ]
  },
  {
   "cell_type": "code",
   "execution_count": 48,
   "metadata": {},
   "outputs": [
    {
     "data": {
      "text/plain": [
       "count    161389.000000\n",
       "mean          9.867350\n",
       "std          38.871157\n",
       "min           0.000130\n",
       "25%           0.669685\n",
       "50%           1.746818\n",
       "75%           5.765812\n",
       "max        4160.049880\n",
       "Name: Nombre de prêts 2017, dtype: float64"
      ]
     },
     "execution_count": 48,
     "metadata": {},
     "output_type": "execute_result"
    }
   ],
   "source": [
    "error = y_test - np.exp(y_test_pred)\n",
    "error = np.abs(error)\n",
    "error.describe()"
   ]
  },
  {
   "cell_type": "markdown",
   "metadata": {},
   "source": [
    "Il est par ailleurs intéressant d'observer quelles sont les variables qui ont le plus aidé l'algorithme à réaliser ses prédictions. En l'occurrence, il s'agit de très loin de la variable 'âge' que nous avions créée à partir de la colonne 'Date' du jeu de données initial, devant le fait pour le document d'être en langue française. A noter que l'importance d'une variable ne signifie pas qu'une valeur plus élevée pour celle-ci soit associée à un plus grand nombre de prêts."
   ]
  },
  {
   "cell_type": "code",
   "execution_count": 42,
   "metadata": {},
   "outputs": [
    {
     "data": {
      "text/html": [
       "<div>\n",
       "<style scoped>\n",
       "    .dataframe tbody tr th:only-of-type {\n",
       "        vertical-align: middle;\n",
       "    }\n",
       "\n",
       "    .dataframe tbody tr th {\n",
       "        vertical-align: top;\n",
       "    }\n",
       "\n",
       "    .dataframe thead th {\n",
       "        text-align: right;\n",
       "    }\n",
       "</style>\n",
       "<table border=\"1\" class=\"dataframe\">\n",
       "  <thead>\n",
       "    <tr style=\"text-align: right;\">\n",
       "      <th></th>\n",
       "      <th>Value</th>\n",
       "      <th>Feature</th>\n",
       "    </tr>\n",
       "  </thead>\n",
       "  <tbody>\n",
       "    <tr>\n",
       "      <th>92</th>\n",
       "      <td>407</td>\n",
       "      <td>age</td>\n",
       "    </tr>\n",
       "    <tr>\n",
       "      <th>91</th>\n",
       "      <td>169</td>\n",
       "      <td>Langue_français</td>\n",
       "    </tr>\n",
       "    <tr>\n",
       "      <th>90</th>\n",
       "      <td>85</td>\n",
       "      <td>Type de document_Other</td>\n",
       "    </tr>\n",
       "    <tr>\n",
       "      <th>89</th>\n",
       "      <td>81</td>\n",
       "      <td>is_DVD</td>\n",
       "    </tr>\n",
       "    <tr>\n",
       "      <th>88</th>\n",
       "      <td>81</td>\n",
       "      <td>Type de document_Livre pour adulte</td>\n",
       "    </tr>\n",
       "    <tr>\n",
       "      <th>87</th>\n",
       "      <td>81</td>\n",
       "      <td>Type de document_Livre jeunesse</td>\n",
       "    </tr>\n",
       "    <tr>\n",
       "      <th>86</th>\n",
       "      <td>73</td>\n",
       "      <td>Catégorie statistique 2_pas de code stat 2</td>\n",
       "    </tr>\n",
       "    <tr>\n",
       "      <th>85</th>\n",
       "      <td>61</td>\n",
       "      <td>Catégorie statistique 1_Other</td>\n",
       "    </tr>\n",
       "    <tr>\n",
       "      <th>83</th>\n",
       "      <td>54</td>\n",
       "      <td>Catégorie statistique 1_LALB Albums</td>\n",
       "    </tr>\n",
       "    <tr>\n",
       "      <th>84</th>\n",
       "      <td>54</td>\n",
       "      <td>Langue_nd</td>\n",
       "    </tr>\n",
       "    <tr>\n",
       "      <th>82</th>\n",
       "      <td>51</td>\n",
       "      <td>Langue_anglais</td>\n",
       "    </tr>\n",
       "    <tr>\n",
       "      <th>81</th>\n",
       "      <td>50</td>\n",
       "      <td>Editeur_Other</td>\n",
       "    </tr>\n",
       "    <tr>\n",
       "      <th>80</th>\n",
       "      <td>50</td>\n",
       "      <td>Catégorie statistique 2_LROP Roman après 1945</td>\n",
       "    </tr>\n",
       "    <tr>\n",
       "      <th>79</th>\n",
       "      <td>49</td>\n",
       "      <td>Type de document_Bande dessinée pour adulte</td>\n",
       "    </tr>\n",
       "    <tr>\n",
       "      <th>78</th>\n",
       "      <td>48</td>\n",
       "      <td>Type de document_Livre en langue étrangère</td>\n",
       "    </tr>\n",
       "    <tr>\n",
       "      <th>77</th>\n",
       "      <td>48</td>\n",
       "      <td>Type de document_Disque compact</td>\n",
       "    </tr>\n",
       "    <tr>\n",
       "      <th>76</th>\n",
       "      <td>46</td>\n",
       "      <td>Type de document_Bande dessinée jeunesse</td>\n",
       "    </tr>\n",
       "    <tr>\n",
       "      <th>75</th>\n",
       "      <td>44</td>\n",
       "      <td>N°_Other</td>\n",
       "    </tr>\n",
       "    <tr>\n",
       "      <th>74</th>\n",
       "      <td>44</td>\n",
       "      <td>Langue_Other</td>\n",
       "    </tr>\n",
       "    <tr>\n",
       "      <th>73</th>\n",
       "      <td>44</td>\n",
       "      <td>Catégorie statistique 1_MASO</td>\n",
       "    </tr>\n",
       "    <tr>\n",
       "      <th>71</th>\n",
       "      <td>43</td>\n",
       "      <td>Catégorie statistique 1_LFRA Litterature franc...</td>\n",
       "    </tr>\n",
       "    <tr>\n",
       "      <th>72</th>\n",
       "      <td>43</td>\n",
       "      <td>Format_1 disque compact | DDD | 1 brochure</td>\n",
       "    </tr>\n",
       "    <tr>\n",
       "      <th>70</th>\n",
       "      <td>42</td>\n",
       "      <td>Editeur_Gallimard</td>\n",
       "    </tr>\n",
       "    <tr>\n",
       "      <th>69</th>\n",
       "      <td>41</td>\n",
       "      <td>Type de document_Livre de Fonds spécialisés</td>\n",
       "    </tr>\n",
       "    <tr>\n",
       "      <th>68</th>\n",
       "      <td>39</td>\n",
       "      <td>Type de document_DVD-vidéo tous publics</td>\n",
       "    </tr>\n",
       "    <tr>\n",
       "      <th>67</th>\n",
       "      <td>39</td>\n",
       "      <td>Catégorie statistique 1_D911 Guides de voyage,...</td>\n",
       "    </tr>\n",
       "    <tr>\n",
       "      <th>66</th>\n",
       "      <td>38</td>\n",
       "      <td>is_magazine</td>\n",
       "    </tr>\n",
       "    <tr>\n",
       "      <th>65</th>\n",
       "      <td>37</td>\n",
       "      <td>Catégorie statistique 1_LBDE Bandes dessinees</td>\n",
       "    </tr>\n",
       "    <tr>\n",
       "      <th>64</th>\n",
       "      <td>36</td>\n",
       "      <td>Type de document_Livre sonore pour adulte</td>\n",
       "    </tr>\n",
       "    <tr>\n",
       "      <th>63</th>\n",
       "      <td>36</td>\n",
       "      <td>N°_nd</td>\n",
       "    </tr>\n",
       "    <tr>\n",
       "      <th>...</th>\n",
       "      <td>...</td>\n",
       "      <td>...</td>\n",
       "    </tr>\n",
       "    <tr>\n",
       "      <th>29</th>\n",
       "      <td>13</td>\n",
       "      <td>Format_1 compact | 1 dépliant</td>\n",
       "    </tr>\n",
       "    <tr>\n",
       "      <th>28</th>\n",
       "      <td>13</td>\n",
       "      <td>Catégorie statistique 1_D707 Musique</td>\n",
       "    </tr>\n",
       "    <tr>\n",
       "      <th>27</th>\n",
       "      <td>12</td>\n",
       "      <td>Catégorie statistique 2_DBIO Biographie, monog...</td>\n",
       "    </tr>\n",
       "    <tr>\n",
       "      <th>26</th>\n",
       "      <td>11</td>\n",
       "      <td>Format_1 compact | 1 feuillet</td>\n",
       "    </tr>\n",
       "    <tr>\n",
       "      <th>24</th>\n",
       "      <td>11</td>\n",
       "      <td>Catégorie statistique 1_D103 Psychologie</td>\n",
       "    </tr>\n",
       "    <tr>\n",
       "      <th>25</th>\n",
       "      <td>11</td>\n",
       "      <td>Editeur_Éd. du Seuil</td>\n",
       "    </tr>\n",
       "    <tr>\n",
       "      <th>23</th>\n",
       "      <td>10</td>\n",
       "      <td>Editeur_Hachette</td>\n",
       "    </tr>\n",
       "    <tr>\n",
       "      <th>22</th>\n",
       "      <td>9</td>\n",
       "      <td>Format_1 compact</td>\n",
       "    </tr>\n",
       "    <tr>\n",
       "      <th>21</th>\n",
       "      <td>9</td>\n",
       "      <td>Editeur_Flammarion</td>\n",
       "    </tr>\n",
       "    <tr>\n",
       "      <th>20</th>\n",
       "      <td>8</td>\n",
       "      <td>Catégorie statistique 2_LFAY Fantasy, Heroic f...</td>\n",
       "    </tr>\n",
       "    <tr>\n",
       "      <th>19</th>\n",
       "      <td>7</td>\n",
       "      <td>Catégorie statistique 1_M310 Musique classique...</td>\n",
       "    </tr>\n",
       "    <tr>\n",
       "      <th>18</th>\n",
       "      <td>6</td>\n",
       "      <td>Langue_sans</td>\n",
       "    </tr>\n",
       "    <tr>\n",
       "      <th>17</th>\n",
       "      <td>6</td>\n",
       "      <td>Editeur_Nathan</td>\n",
       "    </tr>\n",
       "    <tr>\n",
       "      <th>16</th>\n",
       "      <td>6</td>\n",
       "      <td>Editeur_A. Michel</td>\n",
       "    </tr>\n",
       "    <tr>\n",
       "      <th>14</th>\n",
       "      <td>5</td>\n",
       "      <td>Langue_espagnol</td>\n",
       "    </tr>\n",
       "    <tr>\n",
       "      <th>15</th>\n",
       "      <td>5</td>\n",
       "      <td>Langue_multilingue</td>\n",
       "    </tr>\n",
       "    <tr>\n",
       "      <th>13</th>\n",
       "      <td>4</td>\n",
       "      <td>Format_1 compact | DDD | 1 brochure</td>\n",
       "    </tr>\n",
       "    <tr>\n",
       "      <th>12</th>\n",
       "      <td>3</td>\n",
       "      <td>Langue_italien</td>\n",
       "    </tr>\n",
       "    <tr>\n",
       "      <th>11</th>\n",
       "      <td>3</td>\n",
       "      <td>Editeur_R. Laffont</td>\n",
       "    </tr>\n",
       "    <tr>\n",
       "      <th>10</th>\n",
       "      <td>3</td>\n",
       "      <td>Editeur_Glénat</td>\n",
       "    </tr>\n",
       "    <tr>\n",
       "      <th>9</th>\n",
       "      <td>3</td>\n",
       "      <td>Catégorie statistique 2_LSFI Science-fiction</td>\n",
       "    </tr>\n",
       "    <tr>\n",
       "      <th>8</th>\n",
       "      <td>2</td>\n",
       "      <td>Format_1 compact | 1 brochure</td>\n",
       "    </tr>\n",
       "    <tr>\n",
       "      <th>7</th>\n",
       "      <td>2</td>\n",
       "      <td>Editeur_Fayard</td>\n",
       "    </tr>\n",
       "    <tr>\n",
       "      <th>6</th>\n",
       "      <td>2</td>\n",
       "      <td>Editeur_Casterman</td>\n",
       "    </tr>\n",
       "    <tr>\n",
       "      <th>5</th>\n",
       "      <td>2</td>\n",
       "      <td>Editeur_Actes Sud</td>\n",
       "    </tr>\n",
       "    <tr>\n",
       "      <th>4</th>\n",
       "      <td>1</td>\n",
       "      <td>N°_4</td>\n",
       "    </tr>\n",
       "    <tr>\n",
       "      <th>3</th>\n",
       "      <td>1</td>\n",
       "      <td>N°_2</td>\n",
       "    </tr>\n",
       "    <tr>\n",
       "      <th>2</th>\n",
       "      <td>0</td>\n",
       "      <td>is_Tom_Nana</td>\n",
       "    </tr>\n",
       "    <tr>\n",
       "      <th>1</th>\n",
       "      <td>0</td>\n",
       "      <td>is_Astérix</td>\n",
       "    </tr>\n",
       "    <tr>\n",
       "      <th>0</th>\n",
       "      <td>0</td>\n",
       "      <td>N°_3</td>\n",
       "    </tr>\n",
       "  </tbody>\n",
       "</table>\n",
       "<p>93 rows × 2 columns</p>\n",
       "</div>"
      ],
      "text/plain": [
       "    Value                                            Feature\n",
       "92    407                                                age\n",
       "91    169                                    Langue_français\n",
       "90     85                             Type de document_Other\n",
       "89     81                                             is_DVD\n",
       "88     81                 Type de document_Livre pour adulte\n",
       "87     81                    Type de document_Livre jeunesse\n",
       "86     73         Catégorie statistique 2_pas de code stat 2\n",
       "85     61                      Catégorie statistique 1_Other\n",
       "83     54                Catégorie statistique 1_LALB Albums\n",
       "84     54                                          Langue_nd\n",
       "82     51                                     Langue_anglais\n",
       "81     50                                      Editeur_Other\n",
       "80     50      Catégorie statistique 2_LROP Roman après 1945\n",
       "79     49        Type de document_Bande dessinée pour adulte\n",
       "78     48         Type de document_Livre en langue étrangère\n",
       "77     48                    Type de document_Disque compact\n",
       "76     46           Type de document_Bande dessinée jeunesse\n",
       "75     44                                           N°_Other\n",
       "74     44                                       Langue_Other\n",
       "73     44                       Catégorie statistique 1_MASO\n",
       "71     43  Catégorie statistique 1_LFRA Litterature franc...\n",
       "72     43         Format_1 disque compact | DDD | 1 brochure\n",
       "70     42                                  Editeur_Gallimard\n",
       "69     41        Type de document_Livre de Fonds spécialisés\n",
       "68     39            Type de document_DVD-vidéo tous publics\n",
       "67     39  Catégorie statistique 1_D911 Guides de voyage,...\n",
       "66     38                                        is_magazine\n",
       "65     37      Catégorie statistique 1_LBDE Bandes dessinees\n",
       "64     36          Type de document_Livre sonore pour adulte\n",
       "63     36                                              N°_nd\n",
       "..    ...                                                ...\n",
       "29     13                      Format_1 compact | 1 dépliant\n",
       "28     13               Catégorie statistique 1_D707 Musique\n",
       "27     12  Catégorie statistique 2_DBIO Biographie, monog...\n",
       "26     11                      Format_1 compact | 1 feuillet\n",
       "24     11           Catégorie statistique 1_D103 Psychologie\n",
       "25     11                               Editeur_Éd. du Seuil\n",
       "23     10                                   Editeur_Hachette\n",
       "22      9                                   Format_1 compact\n",
       "21      9                                 Editeur_Flammarion\n",
       "20      8  Catégorie statistique 2_LFAY Fantasy, Heroic f...\n",
       "19      7  Catégorie statistique 1_M310 Musique classique...\n",
       "18      6                                        Langue_sans\n",
       "17      6                                     Editeur_Nathan\n",
       "16      6                                  Editeur_A. Michel\n",
       "14      5                                    Langue_espagnol\n",
       "15      5                                 Langue_multilingue\n",
       "13      4                Format_1 compact | DDD | 1 brochure\n",
       "12      3                                     Langue_italien\n",
       "11      3                                 Editeur_R. Laffont\n",
       "10      3                                     Editeur_Glénat\n",
       "9       3       Catégorie statistique 2_LSFI Science-fiction\n",
       "8       2                      Format_1 compact | 1 brochure\n",
       "7       2                                     Editeur_Fayard\n",
       "6       2                                  Editeur_Casterman\n",
       "5       2                                  Editeur_Actes Sud\n",
       "4       1                                               N°_4\n",
       "3       1                                               N°_2\n",
       "2       0                                        is_Tom_Nana\n",
       "1       0                                         is_Astérix\n",
       "0       0                                               N°_3\n",
       "\n",
       "[93 rows x 2 columns]"
      ]
     },
     "execution_count": 42,
     "metadata": {},
     "output_type": "execute_result"
    }
   ],
   "source": [
    "# importance des variables\n",
    "pd.DataFrame(sorted(zip(clf.feature_importance(),X_test.columns)), columns=['Value','Feature']).sort_values('Value', ascending=False)"
   ]
  },
  {
   "cell_type": "markdown",
   "metadata": {},
   "source": [
    "### 4.3 Forêt aléatoire"
   ]
  },
  {
   "cell_type": "markdown",
   "metadata": {},
   "source": [
    "En gardant la valeur brute du nombre de prêts, et non son logarithme, le modèle commet en moyenne 10 erreurs par document. Dans plus de 50 % des cas, son erreur est de moins de 2 prêts par document, et dans trois cas sur quatre, elle est inférieure à 6 prêts. Ces résultats sont donc très proches de ceux obtenus par les autres modèles. "
   ]
  },
  {
   "cell_type": "code",
   "execution_count": 43,
   "metadata": {},
   "outputs": [
    {
     "name": "stderr",
     "output_type": "stream",
     "text": [
      "C:\\Users\\olivi\\Anaconda3\\envs\\dl\\lib\\site-packages\\sklearn\\ensemble\\forest.py:246: FutureWarning: The default value of n_estimators will change from 10 in version 0.20 to 100 in 0.22.\n",
      "  \"10 in version 0.20 to 100 in 0.22.\", FutureWarning)\n",
      "C:\\Users\\olivi\\Anaconda3\\envs\\dl\\lib\\site-packages\\ipykernel_launcher.py:4: DataConversionWarning: A column-vector y was passed when a 1d array was expected. Please change the shape of y to (n_samples,), for example using ravel().\n",
      "  after removing the cwd from sys.path.\n"
     ]
    },
    {
     "name": "stdout",
     "output_type": "stream",
     "text": [
      "Erreur moyenne sur le jeu d'entrainement :  9.490211599231676\n",
      "Erreur médiane sur le jeu d'entrainement :  2.0\n",
      "Erreur moyenne sur le jeu de test :  10.149517934927411\n",
      "Erreur médiane sur le jeu de test :  2.0999999999999996\n"
     ]
    }
   ],
   "source": [
    "# forêt aléatoire\n",
    "X_train, X_train_sample, y_train, y_train_sample = train_test_split(X_train, y_train, test_size=0.05, random_state=80)\n",
    "forest = RandomForestRegressor(criterion = 'mae',random_state = 1, n_jobs = -1, max_depth = 10)\n",
    "forest.fit(X_train_sample, y_train_sample)\n",
    "y_train_pred = forest.predict(X_train_sample)\n",
    "y_test_pred = forest.predict(X_test)\n",
    "\n",
    "print(\"Erreur moyenne sur le jeu d\\'entrainement : \", mean_absolute_error(y_train_sample, y_train_pred)) # 9.5\n",
    "print(\"Erreur médiane sur le jeu d\\'entrainement : \", median_absolute_error(y_train_sample, y_train_pred)) # 2.0\n",
    "\n",
    "print('Erreur moyenne sur le jeu de test : ', mean_absolute_error(y_test, y_test_pred)) # 10.1\n",
    "print('Erreur médiane sur le jeu de test : ', median_absolute_error(y_test, y_test_pred)) # 2.1"
   ]
  },
  {
   "cell_type": "code",
   "execution_count": 45,
   "metadata": {},
   "outputs": [
    {
     "data": {
      "text/plain": [
       "count    161389.000000\n",
       "mean         10.149518\n",
       "std          37.100997\n",
       "min           0.000000\n",
       "25%           1.000000\n",
       "50%           2.100000\n",
       "75%           6.000000\n",
       "max        3925.500000\n",
       "Name: Nombre de prêts 2017, dtype: float64"
      ]
     },
     "execution_count": 45,
     "metadata": {},
     "output_type": "execute_result"
    }
   ],
   "source": [
    "error = y_test - y_test_pred\n",
    "error = np.abs(error)\n",
    "error.describe()"
   ]
  },
  {
   "cell_type": "markdown",
   "metadata": {},
   "source": [
    "De nouveau, l'âge du document est de très loin la variable ayant le plus aidé la forêt aléatoire à réaliser ses prédictions, ce qui ne signifie pas, là encore, qu'un âge plus élevé soit associé à davantage d'emprunts."
   ]
  },
  {
   "cell_type": "code",
   "execution_count": 44,
   "metadata": {},
   "outputs": [
    {
     "data": {
      "text/html": [
       "<div>\n",
       "<style scoped>\n",
       "    .dataframe tbody tr th:only-of-type {\n",
       "        vertical-align: middle;\n",
       "    }\n",
       "\n",
       "    .dataframe tbody tr th {\n",
       "        vertical-align: top;\n",
       "    }\n",
       "\n",
       "    .dataframe thead th {\n",
       "        text-align: right;\n",
       "    }\n",
       "</style>\n",
       "<table border=\"1\" class=\"dataframe\">\n",
       "  <thead>\n",
       "    <tr style=\"text-align: right;\">\n",
       "      <th></th>\n",
       "      <th>Variable</th>\n",
       "      <th>Importance</th>\n",
       "    </tr>\n",
       "  </thead>\n",
       "  <tbody>\n",
       "    <tr>\n",
       "      <th>0</th>\n",
       "      <td>age</td>\n",
       "      <td>3.484971e-01</td>\n",
       "    </tr>\n",
       "    <tr>\n",
       "      <th>5</th>\n",
       "      <td>is_Ainsi_va</td>\n",
       "      <td>1.436951e-01</td>\n",
       "    </tr>\n",
       "    <tr>\n",
       "      <th>49</th>\n",
       "      <td>Type de document_Bande dessinée jeunesse</td>\n",
       "      <td>5.405512e-02</td>\n",
       "    </tr>\n",
       "    <tr>\n",
       "      <th>12</th>\n",
       "      <td>Langue_français</td>\n",
       "      <td>2.715894e-02</td>\n",
       "    </tr>\n",
       "    <tr>\n",
       "      <th>4</th>\n",
       "      <td>is_DVD</td>\n",
       "      <td>2.543832e-02</td>\n",
       "    </tr>\n",
       "    <tr>\n",
       "      <th>50</th>\n",
       "      <td>Type de document_Bande dessinée pour adulte</td>\n",
       "      <td>2.468966e-02</td>\n",
       "    </tr>\n",
       "    <tr>\n",
       "      <th>57</th>\n",
       "      <td>Type de document_Livre jeunesse</td>\n",
       "      <td>2.051129e-02</td>\n",
       "    </tr>\n",
       "    <tr>\n",
       "      <th>79</th>\n",
       "      <td>Catégorie statistique 1_MASO</td>\n",
       "      <td>1.932972e-02</td>\n",
       "    </tr>\n",
       "    <tr>\n",
       "      <th>43</th>\n",
       "      <td>N°_1</td>\n",
       "      <td>1.887775e-02</td>\n",
       "    </tr>\n",
       "    <tr>\n",
       "      <th>63</th>\n",
       "      <td>Catégorie statistique 1_CFRA Cinema francais</td>\n",
       "      <td>1.655684e-02</td>\n",
       "    </tr>\n",
       "    <tr>\n",
       "      <th>92</th>\n",
       "      <td>Catégorie statistique 2_pas de code stat 2</td>\n",
       "      <td>1.628465e-02</td>\n",
       "    </tr>\n",
       "    <tr>\n",
       "      <th>72</th>\n",
       "      <td>Catégorie statistique 1_LBDE Bandes dessinees</td>\n",
       "      <td>1.627140e-02</td>\n",
       "    </tr>\n",
       "    <tr>\n",
       "      <th>1</th>\n",
       "      <td>is_magazine</td>\n",
       "      <td>1.522537e-02</td>\n",
       "    </tr>\n",
       "    <tr>\n",
       "      <th>48</th>\n",
       "      <td>N°_nd</td>\n",
       "      <td>1.509507e-02</td>\n",
       "    </tr>\n",
       "    <tr>\n",
       "      <th>45</th>\n",
       "      <td>N°_3</td>\n",
       "      <td>1.416908e-02</td>\n",
       "    </tr>\n",
       "    <tr>\n",
       "      <th>87</th>\n",
       "      <td>Catégorie statistique 2_LFAY Fantasy, Heroic f...</td>\n",
       "      <td>1.328893e-02</td>\n",
       "    </tr>\n",
       "    <tr>\n",
       "      <th>64</th>\n",
       "      <td>Catégorie statistique 1_CNAM Cinema nord-ameri...</td>\n",
       "      <td>1.320240e-02</td>\n",
       "    </tr>\n",
       "    <tr>\n",
       "      <th>80</th>\n",
       "      <td>Catégorie statistique 1_Other</td>\n",
       "      <td>1.261142e-02</td>\n",
       "    </tr>\n",
       "    <tr>\n",
       "      <th>23</th>\n",
       "      <td>Editeur_Glénat</td>\n",
       "      <td>1.249289e-02</td>\n",
       "    </tr>\n",
       "    <tr>\n",
       "      <th>6</th>\n",
       "      <td>is_Tom_Nana</td>\n",
       "      <td>1.212358e-02</td>\n",
       "    </tr>\n",
       "    <tr>\n",
       "      <th>75</th>\n",
       "      <td>Catégorie statistique 1_LMAN Mangas</td>\n",
       "      <td>9.653475e-03</td>\n",
       "    </tr>\n",
       "    <tr>\n",
       "      <th>74</th>\n",
       "      <td>Catégorie statistique 1_LFRA Litterature franc...</td>\n",
       "      <td>9.651986e-03</td>\n",
       "    </tr>\n",
       "    <tr>\n",
       "      <th>46</th>\n",
       "      <td>N°_4</td>\n",
       "      <td>8.375418e-03</td>\n",
       "    </tr>\n",
       "    <tr>\n",
       "      <th>47</th>\n",
       "      <td>N°_Other</td>\n",
       "      <td>8.141965e-03</td>\n",
       "    </tr>\n",
       "    <tr>\n",
       "      <th>24</th>\n",
       "      <td>Editeur_Hachette</td>\n",
       "      <td>8.134960e-03</td>\n",
       "    </tr>\n",
       "    <tr>\n",
       "      <th>44</th>\n",
       "      <td>N°_2</td>\n",
       "      <td>7.389880e-03</td>\n",
       "    </tr>\n",
       "    <tr>\n",
       "      <th>22</th>\n",
       "      <td>Editeur_Gallimard</td>\n",
       "      <td>7.143613e-03</td>\n",
       "    </tr>\n",
       "    <tr>\n",
       "      <th>71</th>\n",
       "      <td>Catégorie statistique 1_LALB Albums</td>\n",
       "      <td>6.726574e-03</td>\n",
       "    </tr>\n",
       "    <tr>\n",
       "      <th>19</th>\n",
       "      <td>Editeur_Casterman</td>\n",
       "      <td>6.712757e-03</td>\n",
       "    </tr>\n",
       "    <tr>\n",
       "      <th>27</th>\n",
       "      <td>Editeur_Other</td>\n",
       "      <td>6.363828e-03</td>\n",
       "    </tr>\n",
       "    <tr>\n",
       "      <th>...</th>\n",
       "      <td>...</td>\n",
       "      <td>...</td>\n",
       "    </tr>\n",
       "    <tr>\n",
       "      <th>14</th>\n",
       "      <td>Langue_multilingue</td>\n",
       "      <td>3.868129e-04</td>\n",
       "    </tr>\n",
       "    <tr>\n",
       "      <th>17</th>\n",
       "      <td>Editeur_A. Michel</td>\n",
       "      <td>3.361428e-04</td>\n",
       "    </tr>\n",
       "    <tr>\n",
       "      <th>69</th>\n",
       "      <td>Catégorie statistique 1_D904 Histoire occident...</td>\n",
       "      <td>2.983524e-04</td>\n",
       "    </tr>\n",
       "    <tr>\n",
       "      <th>3</th>\n",
       "      <td>is_Partition</td>\n",
       "      <td>2.813496e-04</td>\n",
       "    </tr>\n",
       "    <tr>\n",
       "      <th>40</th>\n",
       "      <td>Format_1 disque compact | DDD | 1 brochure</td>\n",
       "      <td>2.492335e-04</td>\n",
       "    </tr>\n",
       "    <tr>\n",
       "      <th>33</th>\n",
       "      <td>Format_1 compact</td>\n",
       "      <td>2.101796e-04</td>\n",
       "    </tr>\n",
       "    <tr>\n",
       "      <th>21</th>\n",
       "      <td>Editeur_Flammarion</td>\n",
       "      <td>1.567825e-04</td>\n",
       "    </tr>\n",
       "    <tr>\n",
       "      <th>7</th>\n",
       "      <td>is_Astérix</td>\n",
       "      <td>1.473730e-04</td>\n",
       "    </tr>\n",
       "    <tr>\n",
       "      <th>90</th>\n",
       "      <td>Catégorie statistique 2_LSFI Science-fiction</td>\n",
       "      <td>1.058179e-04</td>\n",
       "    </tr>\n",
       "    <tr>\n",
       "      <th>62</th>\n",
       "      <td>Type de document_Partition</td>\n",
       "      <td>1.010656e-04</td>\n",
       "    </tr>\n",
       "    <tr>\n",
       "      <th>13</th>\n",
       "      <td>Langue_italien</td>\n",
       "      <td>8.333481e-05</td>\n",
       "    </tr>\n",
       "    <tr>\n",
       "      <th>77</th>\n",
       "      <td>Catégorie statistique 1_M309 Musique classique...</td>\n",
       "      <td>3.861170e-05</td>\n",
       "    </tr>\n",
       "    <tr>\n",
       "      <th>60</th>\n",
       "      <td>Type de document_Méthode de langue</td>\n",
       "      <td>2.417435e-05</td>\n",
       "    </tr>\n",
       "    <tr>\n",
       "      <th>59</th>\n",
       "      <td>Type de document_Livre sonore pour adulte</td>\n",
       "      <td>1.784092e-05</td>\n",
       "    </tr>\n",
       "    <tr>\n",
       "      <th>9</th>\n",
       "      <td>Langue_allemand</td>\n",
       "      <td>1.482415e-05</td>\n",
       "    </tr>\n",
       "    <tr>\n",
       "      <th>38</th>\n",
       "      <td>Format_1 disque compact</td>\n",
       "      <td>7.353566e-22</td>\n",
       "    </tr>\n",
       "    <tr>\n",
       "      <th>39</th>\n",
       "      <td>Format_1 disque compact | 1 brochure</td>\n",
       "      <td>6.324616e-22</td>\n",
       "    </tr>\n",
       "    <tr>\n",
       "      <th>37</th>\n",
       "      <td>Format_1 compact | DDD | 1 brochure</td>\n",
       "      <td>4.129065e-22</td>\n",
       "    </tr>\n",
       "    <tr>\n",
       "      <th>54</th>\n",
       "      <td>Type de document_Enregistrement musical pour l...</td>\n",
       "      <td>0.000000e+00</td>\n",
       "    </tr>\n",
       "    <tr>\n",
       "      <th>20</th>\n",
       "      <td>Editeur_Fayard</td>\n",
       "      <td>0.000000e+00</td>\n",
       "    </tr>\n",
       "    <tr>\n",
       "      <th>34</th>\n",
       "      <td>Format_1 compact | 1 brochure</td>\n",
       "      <td>0.000000e+00</td>\n",
       "    </tr>\n",
       "    <tr>\n",
       "      <th>81</th>\n",
       "      <td>Catégorie statistique 2_AUTM Auteurs avant 1945</td>\n",
       "      <td>0.000000e+00</td>\n",
       "    </tr>\n",
       "    <tr>\n",
       "      <th>25</th>\n",
       "      <td>Editeur_Librairie générale française</td>\n",
       "      <td>0.000000e+00</td>\n",
       "    </tr>\n",
       "    <tr>\n",
       "      <th>78</th>\n",
       "      <td>Catégorie statistique 1_M310 Musique classique...</td>\n",
       "      <td>0.000000e+00</td>\n",
       "    </tr>\n",
       "    <tr>\n",
       "      <th>28</th>\n",
       "      <td>Editeur_Pocket</td>\n",
       "      <td>0.000000e+00</td>\n",
       "    </tr>\n",
       "    <tr>\n",
       "      <th>30</th>\n",
       "      <td>Editeur_R. Laffont</td>\n",
       "      <td>0.000000e+00</td>\n",
       "    </tr>\n",
       "    <tr>\n",
       "      <th>32</th>\n",
       "      <td>Editeur_Éd. du Seuil</td>\n",
       "      <td>0.000000e+00</td>\n",
       "    </tr>\n",
       "    <tr>\n",
       "      <th>35</th>\n",
       "      <td>Format_1 compact | 1 dépliant</td>\n",
       "      <td>0.000000e+00</td>\n",
       "    </tr>\n",
       "    <tr>\n",
       "      <th>2</th>\n",
       "      <td>is_Diapositives</td>\n",
       "      <td>0.000000e+00</td>\n",
       "    </tr>\n",
       "    <tr>\n",
       "      <th>36</th>\n",
       "      <td>Format_1 compact | 1 feuillet</td>\n",
       "      <td>-7.353566e-22</td>\n",
       "    </tr>\n",
       "  </tbody>\n",
       "</table>\n",
       "<p>93 rows × 2 columns</p>\n",
       "</div>"
      ],
      "text/plain": [
       "                                             Variable    Importance\n",
       "0                                                 age  3.484971e-01\n",
       "5                                         is_Ainsi_va  1.436951e-01\n",
       "49           Type de document_Bande dessinée jeunesse  5.405512e-02\n",
       "12                                    Langue_français  2.715894e-02\n",
       "4                                              is_DVD  2.543832e-02\n",
       "50        Type de document_Bande dessinée pour adulte  2.468966e-02\n",
       "57                    Type de document_Livre jeunesse  2.051129e-02\n",
       "79                       Catégorie statistique 1_MASO  1.932972e-02\n",
       "43                                               N°_1  1.887775e-02\n",
       "63       Catégorie statistique 1_CFRA Cinema francais  1.655684e-02\n",
       "92         Catégorie statistique 2_pas de code stat 2  1.628465e-02\n",
       "72      Catégorie statistique 1_LBDE Bandes dessinees  1.627140e-02\n",
       "1                                         is_magazine  1.522537e-02\n",
       "48                                              N°_nd  1.509507e-02\n",
       "45                                               N°_3  1.416908e-02\n",
       "87  Catégorie statistique 2_LFAY Fantasy, Heroic f...  1.328893e-02\n",
       "64  Catégorie statistique 1_CNAM Cinema nord-ameri...  1.320240e-02\n",
       "80                      Catégorie statistique 1_Other  1.261142e-02\n",
       "23                                     Editeur_Glénat  1.249289e-02\n",
       "6                                         is_Tom_Nana  1.212358e-02\n",
       "75                Catégorie statistique 1_LMAN Mangas  9.653475e-03\n",
       "74  Catégorie statistique 1_LFRA Litterature franc...  9.651986e-03\n",
       "46                                               N°_4  8.375418e-03\n",
       "47                                           N°_Other  8.141965e-03\n",
       "24                                   Editeur_Hachette  8.134960e-03\n",
       "44                                               N°_2  7.389880e-03\n",
       "22                                  Editeur_Gallimard  7.143613e-03\n",
       "71                Catégorie statistique 1_LALB Albums  6.726574e-03\n",
       "19                                  Editeur_Casterman  6.712757e-03\n",
       "27                                      Editeur_Other  6.363828e-03\n",
       "..                                                ...           ...\n",
       "14                                 Langue_multilingue  3.868129e-04\n",
       "17                                  Editeur_A. Michel  3.361428e-04\n",
       "69  Catégorie statistique 1_D904 Histoire occident...  2.983524e-04\n",
       "3                                        is_Partition  2.813496e-04\n",
       "40         Format_1 disque compact | DDD | 1 brochure  2.492335e-04\n",
       "33                                   Format_1 compact  2.101796e-04\n",
       "21                                 Editeur_Flammarion  1.567825e-04\n",
       "7                                          is_Astérix  1.473730e-04\n",
       "90       Catégorie statistique 2_LSFI Science-fiction  1.058179e-04\n",
       "62                         Type de document_Partition  1.010656e-04\n",
       "13                                     Langue_italien  8.333481e-05\n",
       "77  Catégorie statistique 1_M309 Musique classique...  3.861170e-05\n",
       "60                 Type de document_Méthode de langue  2.417435e-05\n",
       "59          Type de document_Livre sonore pour adulte  1.784092e-05\n",
       "9                                     Langue_allemand  1.482415e-05\n",
       "38                            Format_1 disque compact  7.353566e-22\n",
       "39               Format_1 disque compact | 1 brochure  6.324616e-22\n",
       "37                Format_1 compact | DDD | 1 brochure  4.129065e-22\n",
       "54  Type de document_Enregistrement musical pour l...  0.000000e+00\n",
       "20                                     Editeur_Fayard  0.000000e+00\n",
       "34                      Format_1 compact | 1 brochure  0.000000e+00\n",
       "81    Catégorie statistique 2_AUTM Auteurs avant 1945  0.000000e+00\n",
       "25               Editeur_Librairie générale française  0.000000e+00\n",
       "78  Catégorie statistique 1_M310 Musique classique...  0.000000e+00\n",
       "28                                     Editeur_Pocket  0.000000e+00\n",
       "30                                 Editeur_R. Laffont  0.000000e+00\n",
       "32                               Editeur_Éd. du Seuil  0.000000e+00\n",
       "35                      Format_1 compact | 1 dépliant  0.000000e+00\n",
       "2                                     is_Diapositives  0.000000e+00\n",
       "36                      Format_1 compact | 1 feuillet -7.353566e-22\n",
       "\n",
       "[93 rows x 2 columns]"
      ]
     },
     "execution_count": 44,
     "metadata": {},
     "output_type": "execute_result"
    }
   ],
   "source": [
    "    # importance des variables\n",
    "pd.DataFrame({'Variable':pd.DataFrame(X_test).columns,'Importance':forest.feature_importances_}).sort_values('Importance', ascending=False)"
   ]
  }
 ],
 "metadata": {
  "kernelspec": {
   "display_name": "Python 3",
   "language": "python",
   "name": "python3"
  },
  "language_info": {
   "codemirror_mode": {
    "name": "ipython",
    "version": 3
   },
   "file_extension": ".py",
   "mimetype": "text/x-python",
   "name": "python",
   "nbconvert_exporter": "python",
   "pygments_lexer": "ipython3",
   "version": "3.6.8"
  }
 },
 "nbformat": 4,
 "nbformat_minor": 2
}
